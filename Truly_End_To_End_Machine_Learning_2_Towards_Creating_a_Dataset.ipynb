{
  "nbformat": 4,
  "nbformat_minor": 0,
  "metadata": {
    "colab": {
      "name": "Truly End-To-End Machine Learning 2: Towards Creating a Dataset.ipynb",
      "version": "0.3.2",
      "provenance": [],
      "collapsed_sections": [
        "HS7LQGAeVSx-",
        "uxtv5Rhko82l",
        "ag8l99X-yFCr",
        "FrHo5J4Z4JgV",
        "0gj2HQ4OSDIi",
        "dXAyTiPGpMOy"
      ]
    },
    "kernelspec": {
      "name": "python3",
      "display_name": "Python 3"
    }
  },
  "cells": [
    {
      "metadata": {
        "id": "7LFk_jYVdHrg",
        "colab_type": "text"
      },
      "cell_type": "markdown",
      "source": [
        "In this tutorial, you will learn how to implement **classes** in Python for storing and parsing the data collected for devices (smartphones, phones, smart watches, etc..) from [GSMArena](https://www.gsmarena.com). I scrapped the *devices_data.txt* file required for this tutorial from GSMArena by building a web crawler from scratch using BeautifulSoup. You can learn how to do this in my [previous tutorial](https://www.kaggle.com/vigvisw/collect-data-by-building-a-web-crawler). \n",
        "\n",
        "\n",
        "\n",
        "**DISCLAIMER:** The credit for originally assembling and making this data available in the public domain goes to the GSMArena team.\n",
        "\n",
        "The *devices_data.txt* file can be downloaded on my [GitHub page](https://github.com/vigvisw/end2endml)."
      ]
    },
    {
      "metadata": {
        "id": "HS7LQGAeVSx-",
        "colab_type": "text"
      },
      "cell_type": "markdown",
      "source": [
        "### Importing Devices Data"
      ]
    },
    {
      "metadata": {
        "id": "JWQCxDpuUxyi",
        "colab_type": "code",
        "colab": {}
      },
      "cell_type": "code",
      "source": [
        "# import the required libraries\n",
        "import json\n",
        "import re\n",
        "import numpy as np\n",
        "import pandas as pd\n",
        "\n",
        "# if you need to use Colab to import data\n",
        "# from google.colab import files\n",
        "# from google.colab import drive"
      ],
      "execution_count": 0,
      "outputs": []
    },
    {
      "metadata": {
        "id": "bvGAhYxAVenm",
        "colab_type": "text"
      },
      "cell_type": "markdown",
      "source": [
        "**Options For Working with Data In Colab**\n",
        "\n",
        "Full list of options and sample code can be found [here](https://colab.research.google.com/notebooks/io.ipynb)."
      ]
    },
    {
      "metadata": {
        "id": "Et38C0V5VSSg",
        "colab_type": "code",
        "colab": {}
      },
      "cell_type": "code",
      "source": [
        "# OPTION 1: upload the data to your virtual machine by calling the upload() method in files\n",
        "# files.upload()"
      ],
      "execution_count": 0,
      "outputs": []
    },
    {
      "metadata": {
        "id": "xpOoAZMHVpdS",
        "colab_type": "code",
        "colab": {}
      },
      "cell_type": "code",
      "source": [
        "# OPTION 2: upload the data to you Drive, \n",
        "# mount it to your virtual machine and access it like local folder\n",
        "\n",
        "# drive.mount('drive')\n",
        "\n",
        "# the argument of the method is the path where the drive should be mounted\n",
        "# by default this mounts the drive to the location '/contents' in you virtual machine\n",
        "# you will have to provice an authorization token for this method to work\n",
        "# log into you Google account and get the authorization code, paste it here and click Enter"
      ],
      "execution_count": 0,
      "outputs": []
    },
    {
      "metadata": {
        "id": "SkQxIeSYYhRg",
        "colab_type": "code",
        "colab": {}
      },
      "cell_type": "code",
      "source": [
        "# consol can be accessed in Colab using the '!' sign before command\n",
        "# !ls"
      ],
      "execution_count": 0,
      "outputs": []
    },
    {
      "metadata": {
        "id": "CH0XAjM9WJVO",
        "colab_type": "text"
      },
      "cell_type": "markdown",
      "source": [
        "**OPTION 3:** Connecting Colab To Local Runtime\n",
        "\n",
        "Detailed instructions for connecting Colab to you local Jupyter Notebook runtime can be found [here](https://research.google.com/colaboratory/local-runtimes.html)."
      ]
    },
    {
      "metadata": {
        "id": "UfUwMzEpcATh",
        "colab_type": "text"
      },
      "cell_type": "markdown",
      "source": [
        "Using any of the methods above, Once the data is available, read it in using the **json** module.\n",
        "\n",
        "Resources for learning about *JSON* and I/O in Python:\n",
        "1. [JSON](https://www.youtube.com/watch?v=pTT7HMqDnJw) by Socratica\n",
        "2. [Reading and Writing Files](https://www.youtube.com/watch?v=Uh2ebFW8OYM&t=374s) by Corey Schafer\n"
      ]
    },
    {
      "metadata": {
        "id": "ckT7xkkXWH1H",
        "colab_type": "code",
        "colab": {}
      },
      "cell_type": "code",
      "source": [
        "# use the function created in the last tutorial to read in the data\n",
        "def read_devices_json(file_path):\n",
        "  '''A function for reading in a JSON file.\n",
        "     \n",
        "     Takes in the string file_path and returns a dict\n",
        "  '''\n",
        "  with open(file_path, 'r', encoding='utf-8') as file:\n",
        "    return json.load(file)"
      ],
      "execution_count": 0,
      "outputs": []
    },
    {
      "metadata": {
        "id": "1MVy18boZmqk",
        "colab_type": "code",
        "colab": {}
      },
      "cell_type": "code",
      "source": [
        "# load the file\n",
        "file_path = '../devices_data.txt'\n",
        "devices_dict = read_devices_json(file_path)"
      ],
      "execution_count": 0,
      "outputs": []
    },
    {
      "metadata": {
        "id": "0mLRU3MhbjDN",
        "colab_type": "code",
        "outputId": "7a20a640-304c-4ef7-8ecc-20aeeaf797f5",
        "colab": {
          "base_uri": "https://localhost:8080/",
          "height": 73
        }
      },
      "cell_type": "code",
      "source": [
        "# check that the data has been imported as a dict and have look at its keys\n",
        "print(type(devices_dict))\n",
        "print(devices_dict.keys())"
      ],
      "execution_count": 0,
      "outputs": [
        {
          "output_type": "stream",
          "text": [
            "<class 'dict'>\n",
            "dict_keys(['Acer', 'alcatel', 'Allview', 'Amazon', 'Amoi', 'Apple', 'Archos', 'Asus', 'AT&T;', 'Benefon', 'BenQ', 'BenQ-Siemens', 'Bird', 'BlackBerry', 'Blackview', 'BLU', 'Bosch', 'BQ', 'Casio', 'Cat', 'Celkon', 'Chea', 'Coolpad', 'Dell', 'Emporia', 'Energizer', 'Ericsson', 'Eten', 'Fujitsu Siemens', 'Garmin-Asus', 'Gigabyte', 'Gionee', 'Google', 'Haier', 'Honor', 'HP', 'HTC', 'Huawei', 'i-mate', 'i-mobile', 'Icemobile', 'Infinix', 'Innostream', 'iNQ', 'Intex', 'Jolla', 'Karbonn', 'Kyocera', 'Lava', 'LeEco', 'Lenovo', 'LG', 'Maxon', 'Maxwest', 'Meizu', 'Micromax', 'Microsoft', 'Mitac', 'Mitsubishi', 'Modu', 'Motorola', 'MWg', 'NEC', 'Neonode', 'NIU', 'Nokia', 'Nvidia', 'O2', 'OnePlus', 'Oppo', 'Orange', 'Palm', 'Panasonic', 'Pantech', 'Parla', 'Philips', 'Plum', 'Posh', 'Prestigio', 'QMobile', 'Qtek', 'Razer', 'Realme', 'Sagem', 'Samsung', 'Sendo', 'Sewon', 'Sharp', 'Siemens', 'Sonim', 'Sony', 'Sony Ericsson', 'Spice', 'T-Mobile', 'TECNO', 'Tel.Me.', 'Telit', 'Thuraya', 'Toshiba', 'Unnecto', 'Vertu', 'verykool', 'vivo', 'VK Mobile', 'Vodafone', 'Wiko', 'WND', 'XCute', 'Xiaomi', 'XOLO', 'Yezz', 'Yota', 'YU', 'ZTE'])\n"
          ],
          "name": "stdout"
        }
      ]
    },
    {
      "metadata": {
        "id": "uxtv5Rhko82l",
        "colab_type": "text"
      },
      "cell_type": "markdown",
      "source": [
        "### Creating Classes To Work With Devices"
      ]
    },
    {
      "metadata": {
        "id": "-RNzyTYFsGiP",
        "colab_type": "text"
      },
      "cell_type": "markdown",
      "source": [
        "Since we are working with multiple related things (devices) onto which we will be applying parsing functions is the future, it is a good idea to define a **class** called **Device** for working with the **devices_dict**.\n",
        "\n",
        "Resources for learning about *Classes* and *Object Oriented Programming*\n",
        "1. [Written tutorial](https://jeffknupp.com/blog/2014/06/18/improve-your-python-python-classes-and-object-oriented-programming/) by Jeff Knupp\n",
        "2. [Video tutorial series](https://www.youtube.com/watch?v=ZDa-Z5JzLYM&list=PL-osiE80TeTsqhIuOqKhwlXsIBIdSeYtc) by Corey Schafer\n",
        "3. [Methods vs Functions](https://www.geeksforgeeks.org/difference-method-function-python/) by GeeksForGeeks"
      ]
    },
    {
      "metadata": {
        "id": "VLgm33HirunI",
        "colab_type": "text"
      },
      "cell_type": "markdown",
      "source": [
        "First, we want to give each maker in the GSMArena dataset a *maker_id*."
      ]
    },
    {
      "metadata": {
        "id": "uywUS-Bqpt0P",
        "colab_type": "code",
        "outputId": "971d4c29-b467-47a7-adea-c9f8c9f96806",
        "colab": {
          "base_uri": "https://localhost:8080/",
          "height": 55
        }
      },
      "cell_type": "code",
      "source": [
        "# create a list of the form  [(0, 'Acer'), .......] for all makers in the devices_dict\n",
        "makers = [(x, y) for x, y in zip(range(devices_dict.keys().__len__()), devices_dict.keys())]\n",
        "print(makers)"
      ],
      "execution_count": 0,
      "outputs": [
        {
          "output_type": "stream",
          "text": [
            "[(0, 'Acer'), (1, 'alcatel'), (2, 'Allview'), (3, 'Amazon'), (4, 'Amoi'), (5, 'Apple'), (6, 'Archos'), (7, 'Asus'), (8, 'AT&T;'), (9, 'Benefon'), (10, 'BenQ'), (11, 'BenQ-Siemens'), (12, 'Bird'), (13, 'BlackBerry'), (14, 'Blackview'), (15, 'BLU'), (16, 'Bosch'), (17, 'BQ'), (18, 'Casio'), (19, 'Cat'), (20, 'Celkon'), (21, 'Chea'), (22, 'Coolpad'), (23, 'Dell'), (24, 'Emporia'), (25, 'Energizer'), (26, 'Ericsson'), (27, 'Eten'), (28, 'Fujitsu Siemens'), (29, 'Garmin-Asus'), (30, 'Gigabyte'), (31, 'Gionee'), (32, 'Google'), (33, 'Haier'), (34, 'Honor'), (35, 'HP'), (36, 'HTC'), (37, 'Huawei'), (38, 'i-mate'), (39, 'i-mobile'), (40, 'Icemobile'), (41, 'Infinix'), (42, 'Innostream'), (43, 'iNQ'), (44, 'Intex'), (45, 'Jolla'), (46, 'Karbonn'), (47, 'Kyocera'), (48, 'Lava'), (49, 'LeEco'), (50, 'Lenovo'), (51, 'LG'), (52, 'Maxon'), (53, 'Maxwest'), (54, 'Meizu'), (55, 'Micromax'), (56, 'Microsoft'), (57, 'Mitac'), (58, 'Mitsubishi'), (59, 'Modu'), (60, 'Motorola'), (61, 'MWg'), (62, 'NEC'), (63, 'Neonode'), (64, 'NIU'), (65, 'Nokia'), (66, 'Nvidia'), (67, 'O2'), (68, 'OnePlus'), (69, 'Oppo'), (70, 'Orange'), (71, 'Palm'), (72, 'Panasonic'), (73, 'Pantech'), (74, 'Parla'), (75, 'Philips'), (76, 'Plum'), (77, 'Posh'), (78, 'Prestigio'), (79, 'QMobile'), (80, 'Qtek'), (81, 'Razer'), (82, 'Realme'), (83, 'Sagem'), (84, 'Samsung'), (85, 'Sendo'), (86, 'Sewon'), (87, 'Sharp'), (88, 'Siemens'), (89, 'Sonim'), (90, 'Sony'), (91, 'Sony Ericsson'), (92, 'Spice'), (93, 'T-Mobile'), (94, 'TECNO'), (95, 'Tel.Me.'), (96, 'Telit'), (97, 'Thuraya'), (98, 'Toshiba'), (99, 'Unnecto'), (100, 'Vertu'), (101, 'verykool'), (102, 'vivo'), (103, 'VK Mobile'), (104, 'Vodafone'), (105, 'Wiko'), (106, 'WND'), (107, 'XCute'), (108, 'Xiaomi'), (109, 'XOLO'), (110, 'Yezz'), (111, 'Yota'), (112, 'YU'), (113, 'ZTE')]\n"
          ],
          "name": "stdout"
        }
      ]
    },
    {
      "metadata": {
        "id": "eQoKg7aRpNPK",
        "colab_type": "text"
      },
      "cell_type": "markdown",
      "source": [
        "Use a smaller subset of the data so that we can follow along with what is happening. I will use the [Samsung Galaxy S10](https://www.gsmarena.com/samsung_galaxy_s10-9536.php). \n",
        "\n",
        "To uniqely identify each device, we want to make a **device_id** of the form, **maker_name** + '_' +  **device_num**, where  **device_num** is the key of the device under a maker."
      ]
    },
    {
      "metadata": {
        "id": "Ak7BJh_qqCEL",
        "colab_type": "code",
        "outputId": "da914549-1472-452c-d204-1bd99d8953f5",
        "colab": {
          "base_uri": "https://localhost:8080/",
          "height": 35
        }
      },
      "cell_type": "code",
      "source": [
        "maker_name = 'Samsung'\n",
        "\n",
        "# get Samsung's maker_id form the list we just created\n",
        "for maker in makers:\n",
        "  if maker[1] == maker_name:\n",
        "    maker_id = maker[0]\n",
        "    \n",
        "print(maker_id)"
      ],
      "execution_count": 0,
      "outputs": [
        {
          "output_type": "stream",
          "text": [
            "84\n"
          ],
          "name": "stdout"
        }
      ]
    },
    {
      "metadata": {
        "id": "PReTPukpqTF6",
        "colab_type": "code",
        "outputId": "a3b5c06f-c1e8-48ee-a527-612329a3c6fa",
        "colab": {
          "base_uri": "https://localhost:8080/",
          "height": 73
        }
      },
      "cell_type": "code",
      "source": [
        "# get a data for Galaxy S10 from the devices_dict \n",
        "device_name = 'Galaxy S10'\n",
        "for device_num, device in devices_dict[maker_name].items():\n",
        "  if device['device_name'] == device_name:\n",
        "    device_id = maker_name.upper() + '_' + device_num \n",
        "    break\n",
        "    \n",
        "print(device_id)\n",
        "print(device)"
      ],
      "execution_count": 0,
      "outputs": [
        {
          "output_type": "stream",
          "text": [
            "SAMSUNG_3\n",
            "{'device_name': 'Galaxy S10', 'device_info': 'Samsung Galaxy S10 Android smartphone. Announced Feb 2019. Features 6.1″ Dynamic AMOLED display, Exynos 9820 Octa chipset, 3400 mAh battery, 512 GB storage, 8 GB RAM, Corning Gorilla Glass 6.', 'device_img_link': 'https://cdn2.gsmarena.com/vv/bigpic/samsung-galaxy-s10.jpg', 'device_link': 'https://www.gsmarena.com/samsung_galaxy_s10-9536.php', 'device_specs': {'Network': {'Technology': 'GSM / CDMA / HSPA / EVDO / LTE', '2G bands': 'GSM 850 / 900 / 1800 / 1900 - SIM 1 & SIM 2 (dual-SIM model only)', 'NaN': 'CDMA 800 / 1900 - USA', '3G bands': 'HSDPA 850 / 900 / 1700(AWS) / 1900 / 2100 - Global, USA', '4G bands': 'LTE band 1(2100), 2(1900), 3(1800), 4(1700/2100), 5(850), 7(2600), 8(900), 12(700), 13(700), 17(700), 18(800), 19(800), 20(800), 25(1900), 26(850), 28(700), 32(1500), 38(2600), 39(1900), 40(2300), 41(2500), 66(1700/2100) - Global', 'Speed': 'HSPA 42.2/5.76 Mbps, LTE-A (7CA) Cat20 2000/150 Mbps', 'GPRS': 'Yes', 'EDGE': 'Yes'}, 'Launch': {'Announced': '2019, February', 'Status': 'Coming soon. Exp. release 2019, March 8'}, 'Body': {'Dimensions': '149.9 x 70.4 x 7.8 mm (5.90 x 2.77 x 0.31 in)', 'Weight': '157 g (5.54 oz)', 'Build': 'Back glass (Gorilla Glass 5), aluminum frame', 'SIM': 'Single SIM (Nano-SIM) or Hybrid Dual SIM (Nano-SIM, dual stand-by)', 'NaN': '- Samsung Pay (Visa, MasterCard certified)- IP68 dust/water proof (up to 1.5m for 30 mins)'}, 'Display': {'Type': 'Dynamic AMOLED capacitive touchscreen, 16M colors', 'Size': '6.1 inches, 93.2 cm2(~88.3% screen-to-body ratio)', 'Resolution': '1440 x 3040 pixels, 19:9 ratio (~550 ppi density)', 'Protection': 'Corning Gorilla Glass 6', 'NaN': '- HDR10+- Always-on display'}, 'Platform': {'OS': 'Android 9.0 (Pie); One UI', 'Chipset': 'Exynos 9820 Octa (8 nm) - EMEAQualcomm SDM855 Snapdragon 855 (7 nm) - USA/LATAM, China', 'CPU': 'Octa-core (2x2.73 GHz Mongoose M4 & 2x2.31 GHz Cortex-A75 & 4x1.95 GHz Cortex-A55) - EMEAOcta-core (1x2.84 GHz Kryo 485 & 3x2.41 GHz Kryo 485 & 4x1.78 GHz Kryo 485) - USA/LATAM, China', 'GPU': 'Mali-G76 MP12 - EMEAAdreno 640 - USA/LATAM, China'}, 'Memory': {'Card slot': 'microSD, up to 512 GB (uses SIM 2 slot) - dual SIM model only', 'Internal': '128/512 GB, 8 GB RAM'}, 'Main Camera': {'Triple': '12 MP, f/1.5-2.4, 26mm (wide), 1/2.55\", 1.4µm, Dual Pixel PDAF, OIS12 MP, f/2.4, 52mm (telephoto), 1/3.6\", 1.0µm, AF, OIS, 2x optical zoom16 MP, f/2.2, 12mm (ultrawide), 1.0µm', 'Features': 'LED flash, auto-HDR, panorama', 'Video': '2160p@60fps, 1080p@240fps, 720p@960fps, HDR, dual-video rec.'}, 'Selfie camera': {'Single': '10 MP, f/1.9, 26mm (wide), 1.22µm, Dual Pixel PDAF', 'Features': 'Dual video call, Auto-HDR', 'Video': '2160p@30fps, 1080p@30fps'}, 'Sound': {'Loudspeaker': 'Yes, with stereo speakers', '3.5mm jack': 'Yes', 'NaN': '- 32-bit/384kHz audio- Active noise cancellation with dedicated mic- Dolby Atmos/AKG sound'}, 'Comms': {'WLAN': 'Wi-Fi 802.11 a/b/g/n/ac/ax, dual-band, Wi-Fi Direct, hotspot', 'Bluetooth': '5.0, A2DP, LE, aptX', 'GPS': 'Yes, with A-GPS, GLONASS, BDS, GALILEO', 'NFC': 'Yes', 'Radio': 'FM radio (USA & Canada only)', 'USB': '3.1, Type-C 1.0 reversible connector'}, 'Features': {'Sensors': 'Fingerprint (under display), accelerometer, gyro, proximity, compass, barometer, heart rate, SpO2', 'NaN': '- ANT+- Bixby natural language commands and dictation- Samsung DeX (desktop experience support)'}, 'Battery': {'NaN': 'Non-removable Li-Ion 3400 mAh battery', 'Charging': 'Fast battery charging 15WFast wireless charging 15WPower bank/Reverse wireless charging 9W'}, 'Misc': {'Colors': 'Prism White, Prism Black, Prism Green, Prism Blue, Canary Yellow, Flamingo Pink', 'Price': 'About 930 EUR'}, 'Tests': {'Performance': 'Basemark OS II: 4539 / Basemark OS II 2.0: 4465Basemark X: 44097', 'Display': 'Contrast ratio: Infinite (nominal), 4.498 (sunlight)', 'Camera': 'Photo/Video', 'Loudspeaker': 'Voice 82dB / Noise 74dB / Ring 85dB', 'Audio quality': 'Noise -92.2dB / Crosstalk -92.7dB', 'Battery life': 'Endurance rating 79h', 'NaN': nan}, 'Banner': {'released-hl': 'Exp. release 2019, March 8', 'body-hl': '157g, 7.8mm thickness', 'os-hl': 'Android 9.0; One UI', 'storage-hl': '128/512GB storage, microSD card slot', 'device_popularity': ' 54%', 'device_hits': '1,491,081 hits', 'displaysize-hl': '6.1\"', 'displayres-hl': '1440x3040 pixels', 'camerapixels-hl': '16', 'videopixels-hl': '2160p', 'ramsize-hl': '8', 'chipset-hl': 'Exynos 9820 Octa', 'batsize-hl': '3400', 'battype-hl': 'Li-Ion'}, 'Opinions': '283'}}\n"
          ],
          "name": "stdout"
        }
      ]
    },
    {
      "metadata": {
        "id": "ZjLC5REd3r1R",
        "colab_type": "text"
      },
      "cell_type": "markdown",
      "source": [
        "At the very least, we will have to use two classes. The first of these will be called **Device**. This class is used to create device objects which contain all the relavent attributes of a device such as it name, link, maker and most importantly, its specs. Remember that the spec data is text and hence we need to parse it to get the data in a form which can be manipulated by **pandas** down the line. To help with this process, **Device** needs to <a href=\"https://en.wikipedia.org/wiki/Inheritance_(object-oriented_programming)\">***inherit***</a> from another class. This will be called **FeatureGen**. For now, we will **pass** **FeatureGenn** without doing anything, and add functionality to it later."
      ]
    },
    {
      "metadata": {
        "id": "tUFx7wtQzcIR",
        "colab_type": "code",
        "colab": {}
      },
      "cell_type": "code",
      "source": [
        "# define a class called FeatureGen which we will use to collect all the features from all the devices\n",
        "# pass for now, we will add attributes and methods to this class in the next section\n",
        "class FeatureGen:\n",
        "  '''FeatureGen will contain a dict of all features from all the devices called all_features_dict\n",
        "  \n",
        "     It also contains a collection of useful methods for parsing data from a Devices object\n",
        "  '''\n",
        "  pass"
      ],
      "execution_count": 0,
      "outputs": []
    },
    {
      "metadata": {
        "id": "IqkRY3HKuNk6",
        "colab_type": "code",
        "colab": {}
      },
      "cell_type": "code",
      "source": [
        "# create a basic implemention of a class for working with the devices_data\n",
        "# much more functionality will be added to this class later\n",
        "# all Device's will inherit from FeatureGen\n",
        "class Device(FeatureGen):\n",
        "  '''A class for working with device data scrapped on GSMArena''' \n",
        "  # initliaze the class using a device \n",
        "  def __init__(self, device, device_id, maker_name, maker_id):\n",
        "    self.maker_name = maker_name\n",
        "    self.maker_id = maker_id\n",
        "    self.device_id = device_id\n",
        "    \n",
        "    # set the device_info as attributes of the Device \n",
        "    for device_info_name, device_info in device.items():\n",
        "      # emulates the functionality of self.varable = value\n",
        "      setattr(self, device_info_name, device_info)"
      ],
      "execution_count": 0,
      "outputs": []
    },
    {
      "metadata": {
        "id": "jPXjobVZvBy8",
        "colab_type": "code",
        "colab": {}
      },
      "cell_type": "code",
      "source": [
        "# create an instance of Device using the S10's data and call it device1\n",
        "device1 = Device(device, device_id, maker_name, maker_id)"
      ],
      "execution_count": 0,
      "outputs": []
    },
    {
      "metadata": {
        "id": "SO8OO2S9xDWE",
        "colab_type": "code",
        "outputId": "47980f04-3427-497d-af84-a2238bc4b8f5",
        "colab": {
          "base_uri": "https://localhost:8080/",
          "height": 1405
        }
      },
      "cell_type": "code",
      "source": [
        "# check all the attributes stored under device1\n",
        "device1.__dict__"
      ],
      "execution_count": 0,
      "outputs": [
        {
          "output_type": "execute_result",
          "data": {
            "text/plain": [
              "{'maker_name': 'Samsung',\n",
              " 'maker_id': 84,\n",
              " 'device_id': 'SAMSUNG_3',\n",
              " 'device_name': 'Galaxy S10',\n",
              " 'device_info': 'Samsung Galaxy S10 Android smartphone. Announced Feb 2019. Features 6.1″ Dynamic AMOLED display, Exynos 9820 Octa chipset, 3400 mAh battery, 512 GB storage, 8 GB RAM, Corning Gorilla Glass 6.',\n",
              " 'device_img_link': 'https://cdn2.gsmarena.com/vv/bigpic/samsung-galaxy-s10.jpg',\n",
              " 'device_link': 'https://www.gsmarena.com/samsung_galaxy_s10-9536.php',\n",
              " 'device_specs': {'Network': {'Technology': 'GSM / CDMA / HSPA / EVDO / LTE',\n",
              "   '2G bands': 'GSM 850 / 900 / 1800 / 1900 - SIM 1 & SIM 2 (dual-SIM model only)',\n",
              "   'NaN': 'CDMA 800 / 1900 - USA',\n",
              "   '3G bands': 'HSDPA 850 / 900 / 1700(AWS) / 1900 / 2100 - Global, USA',\n",
              "   '4G bands': 'LTE band 1(2100), 2(1900), 3(1800), 4(1700/2100), 5(850), 7(2600), 8(900), 12(700), 13(700), 17(700), 18(800), 19(800), 20(800), 25(1900), 26(850), 28(700), 32(1500), 38(2600), 39(1900), 40(2300), 41(2500), 66(1700/2100) - Global',\n",
              "   'Speed': 'HSPA 42.2/5.76 Mbps, LTE-A (7CA) Cat20 2000/150 Mbps',\n",
              "   'GPRS': 'Yes',\n",
              "   'EDGE': 'Yes'},\n",
              "  'Launch': {'Announced': '2019, February',\n",
              "   'Status': 'Coming soon. Exp. release 2019, March 8'},\n",
              "  'Body': {'Dimensions': '149.9 x 70.4 x 7.8 mm (5.90 x 2.77 x 0.31 in)',\n",
              "   'Weight': '157 g (5.54 oz)',\n",
              "   'Build': 'Back glass (Gorilla Glass 5), aluminum frame',\n",
              "   'SIM': 'Single SIM (Nano-SIM) or Hybrid Dual SIM (Nano-SIM, dual stand-by)',\n",
              "   'NaN': '- Samsung Pay (Visa, MasterCard certified)- IP68 dust/water proof (up to 1.5m for 30 mins)'},\n",
              "  'Display': {'Type': 'Dynamic AMOLED capacitive touchscreen, 16M colors',\n",
              "   'Size': '6.1 inches, 93.2 cm2(~88.3% screen-to-body ratio)',\n",
              "   'Resolution': '1440 x 3040 pixels, 19:9 ratio (~550 ppi density)',\n",
              "   'Protection': 'Corning Gorilla Glass 6',\n",
              "   'NaN': '- HDR10+- Always-on display'},\n",
              "  'Platform': {'OS': 'Android 9.0 (Pie); One UI',\n",
              "   'Chipset': 'Exynos 9820 Octa (8 nm) - EMEAQualcomm SDM855 Snapdragon 855 (7 nm) - USA/LATAM, China',\n",
              "   'CPU': 'Octa-core (2x2.73 GHz Mongoose M4 & 2x2.31 GHz Cortex-A75 & 4x1.95 GHz Cortex-A55) - EMEAOcta-core (1x2.84 GHz Kryo 485 & 3x2.41 GHz Kryo 485 & 4x1.78 GHz Kryo 485) - USA/LATAM, China',\n",
              "   'GPU': 'Mali-G76 MP12 - EMEAAdreno 640 - USA/LATAM, China'},\n",
              "  'Memory': {'Card slot': 'microSD, up to 512 GB (uses SIM 2 slot) - dual SIM model only',\n",
              "   'Internal': '128/512 GB, 8 GB RAM'},\n",
              "  'Main Camera': {'Triple': '12 MP, f/1.5-2.4, 26mm (wide), 1/2.55\", 1.4µm, Dual Pixel PDAF, OIS12 MP, f/2.4, 52mm (telephoto), 1/3.6\", 1.0µm, AF, OIS, 2x optical zoom16 MP, f/2.2, 12mm (ultrawide), 1.0µm',\n",
              "   'Features': 'LED flash, auto-HDR, panorama',\n",
              "   'Video': '2160p@60fps, 1080p@240fps, 720p@960fps, HDR, dual-video rec.'},\n",
              "  'Selfie camera': {'Single': '10 MP, f/1.9, 26mm (wide), 1.22µm, Dual Pixel PDAF',\n",
              "   'Features': 'Dual video call, Auto-HDR',\n",
              "   'Video': '2160p@30fps, 1080p@30fps'},\n",
              "  'Sound': {'Loudspeaker': 'Yes, with stereo speakers',\n",
              "   '3.5mm jack': 'Yes',\n",
              "   'NaN': '- 32-bit/384kHz audio- Active noise cancellation with dedicated mic- Dolby Atmos/AKG sound'},\n",
              "  'Comms': {'WLAN': 'Wi-Fi 802.11 a/b/g/n/ac/ax, dual-band, Wi-Fi Direct, hotspot',\n",
              "   'Bluetooth': '5.0, A2DP, LE, aptX',\n",
              "   'GPS': 'Yes, with A-GPS, GLONASS, BDS, GALILEO',\n",
              "   'NFC': 'Yes',\n",
              "   'Radio': 'FM radio (USA & Canada only)',\n",
              "   'USB': '3.1, Type-C 1.0 reversible connector'},\n",
              "  'Features': {'Sensors': 'Fingerprint (under display), accelerometer, gyro, proximity, compass, barometer, heart rate, SpO2',\n",
              "   'NaN': '- ANT+- Bixby natural language commands and dictation- Samsung DeX (desktop experience support)'},\n",
              "  'Battery': {'NaN': 'Non-removable Li-Ion 3400 mAh battery',\n",
              "   'Charging': 'Fast battery charging 15WFast wireless charging 15WPower bank/Reverse wireless charging 9W'},\n",
              "  'Misc': {'Colors': 'Prism White, Prism Black, Prism Green, Prism Blue, Canary Yellow, Flamingo Pink',\n",
              "   'Price': 'About 930 EUR'},\n",
              "  'Tests': {'Performance': 'Basemark OS II: 4539 / Basemark OS II 2.0: 4465Basemark X: 44097',\n",
              "   'Display': 'Contrast ratio: Infinite (nominal), 4.498 (sunlight)',\n",
              "   'Camera': 'Photo/Video',\n",
              "   'Loudspeaker': 'Voice 82dB / Noise 74dB / Ring 85dB',\n",
              "   'Audio quality': 'Noise -92.2dB / Crosstalk -92.7dB',\n",
              "   'Battery life': 'Endurance rating 79h',\n",
              "   'NaN': nan},\n",
              "  'Banner': {'released-hl': 'Exp. release 2019, March 8',\n",
              "   'body-hl': '157g, 7.8mm thickness',\n",
              "   'os-hl': 'Android 9.0; One UI',\n",
              "   'storage-hl': '128/512GB storage, microSD card slot',\n",
              "   'device_popularity': ' 54%',\n",
              "   'device_hits': '1,491,081 hits',\n",
              "   'displaysize-hl': '6.1\"',\n",
              "   'displayres-hl': '1440x3040 pixels',\n",
              "   'camerapixels-hl': '16',\n",
              "   'videopixels-hl': '2160p',\n",
              "   'ramsize-hl': '8',\n",
              "   'chipset-hl': 'Exynos 9820 Octa',\n",
              "   'batsize-hl': '3400',\n",
              "   'battype-hl': 'Li-Ion'},\n",
              "  'Opinions': '283'}}"
            ]
          },
          "metadata": {
            "tags": []
          },
          "execution_count": 464
        }
      ]
    },
    {
      "metadata": {
        "id": "ag8l99X-yFCr",
        "colab_type": "text"
      },
      "cell_type": "markdown",
      "source": [
        "### Expanding the Functionality of Our Classes"
      ]
    },
    {
      "metadata": {
        "id": "d0KAVdYAyUel",
        "colab_type": "text"
      },
      "cell_type": "markdown",
      "source": [
        "The real data we want are the specs of the device which are stored under **device_specs** mostly in the form of dictionaries. The one \"spec\" which is not a dictionary is **Opinions**. We will handle this spec seperately. "
      ]
    },
    {
      "metadata": {
        "id": "RhAr1aR08QMu",
        "colab_type": "text"
      },
      "cell_type": "markdown",
      "source": [
        "The general procedure that we want to follow is:\n",
        "\n",
        "1. Split the **device_specs** of device object and iterate through each of the key/value pairs and create new attributes for the device.\n",
        "2. Set the attribute value using using the lower case name of spec while also handling '  ' , ' -', '– ' characters which can appear in the spec name (Selfie Camera, batsize-hl). This makes it possible to call the attribute of a device.\n",
        "3. Use a list called **feature_list** to keep tack of all the attributes (features or specs) of a **Device**. Use a dict called **all_features_dict** to keep track of all the features collected across all devices. This dict itself is an attribute of **FeatureGen**.\n",
        "4. Account for any missing values. Although I double checked to make sure that any missing values were parsed as **np.NaN** when building the dataset, for some reason, some of the \"sub specs\" (Battery and Tests in the above output) parsed as the str 'NaN'. Ensure that the Feature Generator has a function to account for these."
      ]
    },
    {
      "metadata": {
        "id": "Tg0fO4yq4MbG",
        "colab_type": "code",
        "colab": {}
      },
      "cell_type": "code",
      "source": [
        "class FeatureGen:\n",
        "  '''FeatureGen will contain a dict of all features from all the devices called all_features_dict\n",
        "  \n",
        "     It also contains a collection of useful methods for parsing data from a Devices object\n",
        "  '''\n",
        "  \n",
        "  # initialize a collector dictionary to collect features from all devices\n",
        "  # out dict will have a feature called device_notes for collecting specs where the key is nan\n",
        "  all_features_dict = {'device_notes':None}\n",
        "  \n",
        "  def gen_from_dict(self, spec_value, spec_name):\n",
        "    '''A function for generating more features from the value of a spec if the spec_value is also a dict'''\n",
        "    for key, value in spec_value.items():\n",
        "      # if key or value is np.NaN it will crash split_string, so convert it\n",
        "      if pd.isna(key):\n",
        "        key = 'nan'\n",
        "      if pd.isna(value):\n",
        "        value = 'nan'\n",
        "      key_ = self.split_string(key)\n",
        "      # in some cases, the spec_ is NaN or '' and in other case the value is nan or ''\n",
        "      # account for these cases \n",
        "      # don't take any action, this is a waste attribute, we don't want to add it to the feature list of a device\n",
        "      if (key_ == 'nan' or key_ == '') and (value == '' or value == 'nan'):\n",
        "        pass\n",
        "      # if key is 'NaN' or '', but the value is not, we want to create a note about the value under device_notes\n",
        "      elif (key_ == 'nan' or key_ == '') and (value != '' or value != 'nan'):\n",
        "        # create a new note using the key and value which is of the format 'battery_-This device has great battery life'\n",
        "        self.device_notes.setdefault(spec_name, value)\n",
        "      # if the key is not empty and the value is, we do not want this spec\n",
        "      elif (key_ != 'nan' or key_ != '') and (value == '' or value == 'nan'):\n",
        "        pass\n",
        "      # if none of the above issues are there, we can add the feature as an attribute of the device\n",
        "      else:\n",
        "        new_key = spec_name + '_' + key_\n",
        "        setattr(self, new_key, value)\n",
        "        self.set_all_features(new_key)\n",
        "        self.create_feature(new_key)"
      ],
      "execution_count": 0,
      "outputs": []
    },
    {
      "metadata": {
        "id": "NerQDVpC4hRR",
        "colab_type": "code",
        "colab": {}
      },
      "cell_type": "code",
      "source": [
        "class Device(FeatureGen):\n",
        "  '''A class for working with device data scrapped on GSMArena''' \n",
        "  # we want to initalize a list to keep track of all the features collected for THIS device\n",
        "  features_list = []\n",
        "  \n",
        "  # initliaze the class using a device \n",
        "  def __init__(self, device, device_id, maker_name, maker_id):\n",
        "    self.maker_name = maker_name\n",
        "    self.create_feature('maker_name')\n",
        "    self.set_all_features('maker_name')\n",
        "    \n",
        "    self.maker_id = maker_id\n",
        "    self.create_feature('maker_id')\n",
        "    self.set_all_features('maker_id')\n",
        "    \n",
        "    self.device_id = device_id\n",
        "    self.create_feature('device_id')\n",
        "    self.set_all_features('device_id')\n",
        "    \n",
        "    # set the device_info as attributes of the Device \n",
        "    for device_info_name, device_info in device.items():\n",
        "      # emulates the functionality of self.varable = value\n",
        "      setattr(self, device_info_name, device_info)\n",
        "      self.create_feature(device_info_name)\n",
        "      self.set_all_features(device_info_name)\n",
        "      \n",
        "    # go through each spec and parse it if needed before adding to the devices attributes\n",
        "    self.device_notes = {}\n",
        "    for spec, value in device['device_specs'].items():\n",
        "      spec_ = self.split_string(spec)\n",
        "      if isinstance(value, dict):\n",
        "        self.gen_from_dict(value, spec_)\n",
        "        self.create_feature(spec_)\n",
        "      else:\n",
        "        setattr(self, spec_, value)\n",
        "      \n",
        "      \n",
        "  # helping functions    \n",
        "  def split_string(self, spec_name):\n",
        "    '''A function for changing the ' ' and '-' demlimiter\n",
        "       in a spec_name to  '_'\n",
        "       \n",
        "       Given 'Selfie Camera', returns selfie_camera\n",
        "    '''\n",
        "    split_spec_pattern = re.compile('\\s|-|–')\n",
        "    split_specs = re.split(split_spec_pattern, spec_name)\n",
        "    return '_'.join(split_specs).lower()\n",
        "  \n",
        "  \n",
        "  def create_feature(self, spec_name):\n",
        "    '''A function that allows us to consolidate the names of all features recovered from the GIVEN device'''\n",
        "    if spec_name not in self.features_list:\n",
        "      self.features_list.append(spec_name)\n",
        "      \n",
        "      \n",
        "  def set_all_features(self, spec_name):\n",
        "    '''A function that allows us to consolidate the names of all features recovered from ALL devices'''\n",
        "    if spec_name not in FeatureGen.all_features_dict:\n",
        "      FeatureGen.all_features_dict.setdefault(spec_name, None)"
      ],
      "execution_count": 0,
      "outputs": []
    },
    {
      "metadata": {
        "id": "YjBIdrds-8ci",
        "colab_type": "code",
        "colab": {}
      },
      "cell_type": "code",
      "source": [
        "device1 = Device(device, device_id, maker_name, maker_id)\n",
        "device1.__dict__"
      ],
      "execution_count": 0,
      "outputs": []
    },
    {
      "metadata": {
        "id": "FrHo5J4Z4JgV",
        "colab_type": "text"
      },
      "cell_type": "markdown",
      "source": [
        "### Create the Skeleton Dataset"
      ]
    },
    {
      "metadata": {
        "id": "Nt4ZkvuE4jb6",
        "colab_type": "text"
      },
      "cell_type": "markdown",
      "source": [
        "Since we have a class which can extract all the specs (read as *features*) from the spec sheet of a device, we can build the first draft of the dataset. \n",
        "\n",
        "We will now create a function called **create_df** which creates **Device** objects out of all the devices in **devices_dict**. Since the features from all devices are being added to the dictionary **all_features_collector** located inside the class **FeatureGen**, we will use the keys of this dictionary as the as columns."
      ]
    },
    {
      "metadata": {
        "id": "1-g_4se46FjH",
        "colab_type": "code",
        "colab": {}
      },
      "cell_type": "code",
      "source": [
        "def create_devices_from_data(devices_dict):\n",
        "  '''A function for creating objects out of all the devices stored in devices_dict\n",
        "  \n",
        "     Takes in dict and returns a list with all the device objects created from the data  \n",
        "  '''\n",
        "  # create an empty list for collecting all the device objects\n",
        "  devices_collector = []\n",
        "  # each maker has a maker_id starting from 0 for all the makers\n",
        "  for maker_id, (maker_name, devices_info) in zip(range(len(devices_dict.keys())), devices_dict.items()):\n",
        "    maker_name_split = [split.upper() for split in re.split(re.compile(' |-'), maker_name)]\n",
        "    maker_name_ = ''.join(maker_name_split)\n",
        "    \n",
        "    # iterate through each device under a maker and use maker_name_ and device_num to create a unique device_id\n",
        "    for device_num, device in devices_info.items():\n",
        "      device_id = maker_name_ + '_' + device_num\n",
        "      # create the device object using the Device class and then append the object to the collector array \n",
        "      device_ = Device(device, device_id, maker_name, maker_id)\n",
        "      devices_collector.append(device_)\n",
        "  \n",
        "  return devices_collector"
      ],
      "execution_count": 0,
      "outputs": []
    },
    {
      "metadata": {
        "id": "SpiD71pMAB0L",
        "colab_type": "code",
        "outputId": "f0e993ff-bb87-49ef-8a57-8ae5f453e867",
        "colab": {
          "base_uri": "https://localhost:8080/",
          "height": 55
        }
      },
      "cell_type": "code",
      "source": [
        "FeatureGen.all_features_dict.keys()"
      ],
      "execution_count": 0,
      "outputs": [
        {
          "output_type": "execute_result",
          "data": {
            "text/plain": [
              "dict_keys(['device_notes', 'maker_name', 'maker_id', 'device_id', 'device_name', 'device_info', 'device_img_link', 'device_link', 'device_specs', 'network_technology', 'network_2g_bands', 'network_3g_bands', 'network_4g_bands', 'network_speed', 'network_gprs', 'network_edge', 'launch_announced', 'launch_status', 'body_dimensions', 'body_weight', 'body_build', 'body_sim', 'display_type', 'display_size', 'display_resolution', 'display_protection', 'platform_os', 'platform_chipset', 'platform_cpu', 'platform_gpu', 'memory_card_slot', 'memory_internal', 'main_camera_triple', 'main_camera_features', 'main_camera_video', 'selfie_camera_single', 'selfie_camera_features', 'selfie_camera_video', 'sound_loudspeaker', 'sound_3.5mm_jack', 'comms_wlan', 'comms_bluetooth', 'comms_gps', 'comms_nfc', 'comms_radio', 'comms_usb', 'features_sensors', 'battery_charging', 'misc_colors', 'misc_price', 'tests_performance', 'tests_display', 'tests_camera', 'tests_loudspeaker', 'tests_audio_quality', 'tests_battery_life', 'banner_released_hl', 'banner_body_hl', 'banner_os_hl', 'banner_storage_hl', 'banner_device_popularity', 'banner_device_hits', 'banner_displaysize_hl', 'banner_displayres_hl', 'banner_camerapixels_hl', 'banner_videopixels_hl', 'banner_ramsize_hl', 'banner_chipset_hl', 'banner_batsize_hl', 'banner_battype_hl'])"
            ]
          },
          "metadata": {
            "tags": []
          },
          "execution_count": 472
        }
      ]
    },
    {
      "metadata": {
        "id": "CxRqdF916JC2",
        "colab_type": "code",
        "outputId": "c74e0e14-bc2e-42db-f01f-d5faae65d228",
        "colab": {
          "base_uri": "https://localhost:8080/",
          "height": 53
        }
      },
      "cell_type": "code",
      "source": [
        "# test it out\n",
        "devices_collector = create_devices_from_data(devices_dict)\n",
        "\n",
        "print(len(devices_collector))\n",
        "print(devices_collector[0])"
      ],
      "execution_count": 0,
      "outputs": [
        {
          "output_type": "stream",
          "text": [
            "9536\n",
            "<__main__.Device object at 0x74af7fef3860>\n"
          ],
          "name": "stdout"
        }
      ]
    },
    {
      "metadata": {
        "id": "5-1VbgA96pUc",
        "colab_type": "text"
      },
      "cell_type": "markdown",
      "source": [
        "As a next step, we want to create a function which takes in a feature name from the list of keys of **FeatureGen.all_devices_dict** and checks if this feature is present as an attribute of the device objects in **devices_collector** to return a list which corresponds to the feature column values. Each key present in **all_divces_dict** will be a feature of the final feature table\n",
        "\n",
        "If the device has a given attribute, then the value is added to a list, else we will add a **np.NaN** to the list to denote a missing value. Finally, this list will be set as the value of feature (i.e key). The "
      ]
    },
    {
      "metadata": {
        "id": "2CZluEoA6j-B",
        "colab_type": "code",
        "colab": {}
      },
      "cell_type": "code",
      "source": [
        "def create_feature_column(feature_name, devices_collector):\n",
        "  '''A function for creating a feature column of a given name using devices_collector'''  \n",
        "  collector_array = []\n",
        "\n",
        "  for device in devices_collector:\n",
        "    feature = getattr(device, feature_name, None)\n",
        "    if not feature:\n",
        "      collector_array.append(np.NaN)\n",
        "    else:\n",
        "      collector_array.append(feature)\n",
        "  return collector_array"
      ],
      "execution_count": 0,
      "outputs": []
    },
    {
      "metadata": {
        "id": "nih0brrj8h85",
        "colab_type": "code",
        "outputId": "f6dfd176-33cb-4176-90da-e38404138e4d",
        "colab": {
          "base_uri": "https://localhost:8080/",
          "height": 55
        }
      },
      "cell_type": "code",
      "source": [
        "# test it out\n",
        "feature_name = 'banner_batsize_hl'\n",
        "feature_column = create_feature_column(feature_name, devices_collector)\n",
        "print(feature_column)"
      ],
      "execution_count": 0,
      "outputs": [
        {
          "output_type": "stream",
          "text": [
            "['4500', '3400', '4080', '2000', '6100', '4020', '3000', '5000', '2000', '4420', '2870', '2000', '2000', '4000', '4000', '2420', '2420', '2000', '2000', '5910', '4550', '5910', '5910', '2300', '2000', '1300', '1300', '2000', '2300', '2000', '2700', '2100', '3500', '2500', '1300', '4600', '3400', '3400', '3700', '2000', '2500', '1630', '2955', '2955', '4000', '2000', '3300', '1500', '2400', '7300', '4960', '4960', '2000', '1300', '2000', '1760', '2640', '2710', '3420', '1300', '1500', '1500', '1300', '1460', '3260', '3260', '9800', '9800', '9800', '9800', '1300', nan, '3260', '1500', '3260', '1530', '1530', '1300', '1300', '1300', '1500', '1500', '1500', '1500', '1400', '1350', '1090', '1090', '970', '1500', '1350', '1350', '1140', '1140', '1140', '1260', '1530', '1530', '1530', '1530', '4080', '3500', '3500', '3060', '3000', '2460', '2050', '4000', '4000', '3000', '3000', '3000', '3000', '2460', '3000', '4000', '2580', '2850', '2800', '4000', '4000', '2050', '2800', '2620', '3100', '2050', '2800', '2460', '3000', '2460', '5000', '2500', '2150', '2000', '3000', '3240', '2960', '2500', '2500', '3000', '3000', '2610', '2500', '380', '2580', '2580', '2580', '1500', '1300', '4060', '2910', '2000', '2500', '210', '225', '3000', '400', '750', '2910', '4060', '1450', '2000', '2000', '2000', '2500', '3500', '2000', '3200', '2910', '2000', '1300', '2800', '2910', '3240', '2820', '2820', '2820', '4600', '2000', '1780', '1650', '1300', '1300', '1400', '1300', '2000', '1000', '2500', '2500', '2000', '2000', '2000', '2000', '1400', '4100', '4060', '3100', '1300', '1800', '1300', '3240', '750', '750', '750', '850', '850', '3240', '2840', '3400', '3000', '2000', nan, nan, '1700', '1300', '2150', '2000', '2000', '1700', '1000', '1000', '1000', '2500', '2500', '4100', '3240', '1800', '1400', '2000', '1800', '1300', '1300', '2000', '4160', '3400', '2000', '1700', '3000', '2200', '1300', '1800', '2000', '1400', '1500', '2500', nan, nan, nan, '3240', '3300', '1800', '1800', '1400', '1400', '1400', '1800', '2500', '2500', '2500', '1500', '1300', '1800', '1800', '1500', nan, '1400', '1500', '1300', '1000', '650', '850', '1800', '1500', '1500', '1000', '1000', nan, '850', '850', '650', '500', '650', '650', '500', '1000', '500', '500', nan, '1300', '850', '850', '1150', '1500', '1300', '1300', nan, '1300', '850', '1000', '1000', '1300', '1300', '1000', '1000', '850', '1000', nan, '850', '1000', '1000', '850', '850', '650', '850', '850', '650', '850', '650', '650', '850', '500', '500', '500', '500', '500', '500', '500', '500', '500', '500', '650', '850', '850', '670', '650', '500', '850', '500', '650', '650', '1000', '850', '850', '500', '500', '500', '1150', '850', '850', '500', '650', '650', '750', '650', '650', '850', '850', '750', '750', '650', '650', '650', '750', '720', '750', '720', '650', '750', '650', '650', '650', '720', '670', '670', '720', '750', '750', '1000', '1000', '750', '750', '750', '750', '750', '670', '750', '750', '750', '750', '800', '750', '750', '670', '670', '670', '670', '670', '720', '700', '700', '720', '750', '750', '750', '750', '750', '650', '750', '720', '650', '720', '720', '650', '650', '650', '650', '650', '650', nan, '650', '650', '650', '650', '650', '650', '800', '500', '650', '650', '650', '650', '650', '650', '650', '650', '650', '650', '650', '650', '650', '650', '650', '950', '720', '720', nan, '700', '950', '800', '800', '800', '785', nan, nan, nan, '900', nan, '600', '600', '700', '600', nan, '600', '700', '600', '780', nan, nan, '650', '600', '650', '650', '650', '650', '650', '880', '600', '580', '580', '580', '580', '580', '580', '600', nan, '2500', '2150', '200', '200', '2200', '4000', '130', '3050', '2300', '3000', '3000', '3000', '3050', '3000', '3000', '3000', '3000', '4000', '3000', '2500', '4550', '4000', '3000', '2500', '4010', '2950', '3000', '100', '3150', '3000', '4000', '4000', '5000', '2300', '3150', '3130', '2400', '4000', '2500', '6000', '2300', '1850', '2300', '3000', '2350', '5020', '2300', '1400', '1400', '3150', '2350', '2350', '2400', '3150', '3150', '2000', '2000', '4000', '1700', '2700', '2700', '3140', '6000', '4000', '2100', '2100', '1850', '1400', '2000', '2800', '1600', '1850', '5000', '1800', '1950', '1800', '1950', '2700', '1750', '2000', '3500', '1750', '1400', '1800', '1920', '1920', '2400', '2200', '2050', '1420', '200', '1750', '1500', '2300', '2200', '2500', '2500', '6000', '3800', '2400', '8000', '8000', '6500', '4000', '3000', '2500', '4000', '2500', '3000', '4600', '3000', '8000', '3000', '4400', '3000', '4000', '4000', '1000', '2100', '1700', '1700', '3000', '2000', '1200', '1700', '1800', '1800', '1800', '3000', '2100', '1280', '1500', '2100', '2100', '1600', '1700', '1800', '1600', '1900', '1400', '1500', '800', '950', '3830', '3210', '2980', nan, nan, '2980', nan, nan, nan, '2400', nan, nan, nan, nan, nan, nan, '4400', '1150', '1100', '1100', '1100', '820', '920', '780', '860', '700', '750', '750', '750', '750', '1100', '1100', '720', '720', '720', '720', '720', '720', '720', '720', '720', '720', '720', '720', '720', '720', '720', '720', '720', '720', '720', '720', '720', '720', '860', '860', '860', '550', '860', '860', '860', '860', '860', '860', '9720', '7812', '3174', '2658', '2942', nan, nan, nan, '2716', '2691', '1821', '279', '279', '279', '10891', '8134', '8827', '334', '273', '334', '273', '334', '250', '273', '205', '2900', '1960', '7306', '1624', '2750', '1715', '10307', '5124', '250', '205', '250', '205', '250', '205', '7340', '6470', '2915', '1810', '8820', '6470', '1560', '1510', nan, nan, '11560', '11560', '1440', '11560', '11560', '1432', '6930', '6930', '6930', '1420', '1420', nan, nan, nan, nan, nan, '3400', '5000', '3000', '2800', '4000', '3100', '3000', '6600', '2950', '3000', '3000', '3500', '5000', '3000', '2400', '2600', '2100', '2950', '2700', '2000', '2850', '2300', '2100', '2000', '2700', '1700', '1700', '1450', '1900', '3500', '2800', '2000', '1400', '2000', '1850', '2300', '2800', '2000', '1600', '2500', '2100', '1680', '1500', '5000', '4000', '4000', '3000', '4000', '3000', '5000', '3300', '3300', '3300', '4000', '4130', '3000', '3600', '3300', '3000', '3000', '3000', '3000', '4100', '5000', '5000', '5000', '4680', '4680', '3000', '2650', '5000', '7800', '3300', '5000', '4680', '4680', '2600', '4100', '3000', '7800', '341', '5900', '4100', '3000', '2600', '4100', '4680', '4600', '3000', '3000', '5000', '2070', '2070', '3010', '2500', '1600', '2070', '400', '300', '370', '3000', '3000', '4000', '4890', '4890', '2070', '5000', '3000', '3000', '3000', '3000', '2040', '2400', '3500', '2500', '3030', '4000', '4000', '4000', '4000', '3500', '3450', '3000', '2500', '3000', '3000', '3950', '2160', '3950', '3000', '2500', '2500', '5000', '2060', '3950', '3950', '2110', '1750', '4000', '4000', '3950', '3950', '3950', '3950', '6600', '5000', '3910', '2300', '2300', '2400', '1820', '3230', '3300', '2110', '2110', '1600', '1170', '1170', '1500', nan, '2400', '5070', '3950', '3950', '3950', '3200', nan, '6760', nan, nan, '4270', '2400', nan, '4270', '4325', nan, '2140', '4325', nan, nan, nan, nan, nan, '4400', nan, nan, '1520', '1100', nan, '1300', '1300', '1100', '1100', '1100', '1530', '1300', nan, '750', nan, nan, '1200', '1300', '750', '1300', '720', '1300', '1300', '1000', '700', '700', '920', '750', '720', '720', '700', '5000', '1200', '1320', '1320', '1350', '1350', '1000', '620', '700', '650', '650', '700', '700', '700', '2500', '1800', '1840', '2520', '2100', '2000', '900', '640', '900', '750', '920', '900', '650', '750', '750', '570', '870', '1000', '1000', '760', '760', '840', '700', '740', '700', '800', '1240', '760', '760', '760', '760', '760', '550', '550', '550', '920', '920', '720', '920', '750', '600', '600', '950', '900', '730', '750', '820', '820', '860', '750', '1370', '570', '750', '750', '820', '840', '1000', '920', '870', '950', '920', '660', '600', '600', '600', '650', '700', '700', '700', '600', '600', '700', '650', '650', '650', '700', '650', '700', '650', '700', '700', '700', '500', '500', '500', '500', '500', '720', '720', '720', '900', '900', '900', '900', '900', '900', '1620', '1620', '1620', '1620', '1620', '1620', '1620', '1000', '760', '800', '600', '820', '750', '920', '670', '670', '670', '920', '920', '920', '670', '920', '670', '920', '670', '670', '920', '3000', '4000', '4000', '3500', '4000', '3000', '3500', '3000', '2610', '3410', '2800', '2515', '2100', '3450', '2515', '2500', '1800', '2880', '1450', '2180', '1800', '2100', nan, '1450', '1450', nan, '1230', '1230', '1000', '1000', '1000', '1270', '1230', '1230', '1230', '1230', '5300', '5300', '5300', '1500', '1150', '1150', '1150', '1300', '1150', '1150', '1400', '1500', '1400', '1400', '1150', '1150', '1400', '1400', nan, '1230', '1400', '1400', '900', '900', '1500', nan, '900', '900', '900', '1150', '1100', '1100', '1100', '1400', '1400', nan, '900', '1100', '1100', '1100', '1500', '1100', nan, nan, nan, nan, nan, nan, nan, nan, nan, '1000', '2800', nan, '4800', '2800', '4180', '3180', '6180', '2800', '2800', '2800', '2000', '2000', '2500', '3000', '2600', '4000', '2600', '2600', '1300', '3000', '3050', '1300', '1300', '2000', '2500', '2500', '3000', '3000', '3000', '4000', '1700', '320', '3000', '4010', '2000', '3000', '3000', '2000', '1700', '2800', '5000', '3000', '2050', '2600', '2000', '2600', '2000', '2800', '3200', '2800', '2000', '1700', '4010', '2500', '2500', '3000', '1500', '3000', '3000', '4300', '1350', '2400', '2650', '2000', '2500', '4000', '2000', '3000', '1400', '1300', '3150', '1500', '2200', '4000', '2200', '2200', '2300', '3000', '2800', '720', '4900', '4000', '2000', '3150', '1300', '2500', '2000', '3130', '4900', '2300', '2500', '3150', '3150', '3000', '2200', '2200', '2200', '3000', '3000', '4000', '2200', '4000', '2500', '2500', '2500', '3000', '1800', '1700', '5000', '2800', '2500', '1400', '3000', '2800', '2000', '2000', '3000', '1300', '2000', '2000', '1800', '2300', '3200', '2450', '2750', '4000', '2820', '2500', '4000', '2500', '2000', '2000', '2000', '3150', '3150', '2900', '2800', '2500', '3700', '1450', '2500', '1800', '2000', '5000', '2750', '4000', '3500', '2050', '3000', '2500', '3000', '3450', '2800', '2300', '4000', '2000', '2000', '2920', '2820', '3000', '1300', '2300', '2500', '2000', '2420', '2820', '5000', '2000', '2600', '2100', '2100', '3200', '2200', '1850', '3000', '2000', '3800', '1450', '1450', '1450', '1950', '2200', '2000', '2000', '1800', '1800', '2300', '2000', '2500', '2200', '3000', '1800', '1300', '2000', '2100', '2350', '3000', '2000', '4500', '1800', '2000', '2000', '1800', '2020', '2000', '1600', '2500', '2250', '820', '820', '820', '820', '2000', '1500', '1000', '2000', '1600', '2800', '2000', '2000', '1500', '1400', '820', '620', '2600', '2000', '1800', '2200', '1760', '2800', '1800', '1800', '1100', '1500', '1280', '750', '1600', '6000', '3500', '3000', '1300', '1600', '1110', '950', '820', '1600', '1800', '900', '2500', '4250', '900', '820', '820', '1200', '800', '800', '850', '1050', '900', '750', '700', '750', '750', '850', '750', '560', '800', '1450', '1000', '1000', '800', '800', '500', '1200', '930', '800', '800', '800', '700', '750', '750', '750', '850', '800', '800', '800', '800', '750', '750', '850', '600', '650', '650', '650', '650', '650', '500', '550', '550', '600', '3100', '3100', '3400', '3100', '3100', '3100', '3400', '3100', '3100', '3100', '3080', '3080', '3050', '3200', '2850', '2900', '3120', '3620', '2470', '7280', '1800', '1460', '1150', '1140', '1440', '2300', '5000', '4000', '4500', '3800', '3000', '3000', '1000', '2000', '2630', '2000', '1150', '1300', '1400', '1600', '2500', '1700', '2000', '1800', '1500', '1400', '3000', '5000', '1500', '2000', '2000', '2000', '1800', '1500', '2000', '1400', '1200', '1200', '1500', '2000', '1500', '1400', '3500', '2500', '1400', '1500', '1800', '1200', '1400', '1400', '1400', '2500', '1500', '2000', '1500', '2000', '2000', '1800', '3000', '1400', '2000', '1200', '1000', '2000', '2000', '1100', '2200', '1000', '1800', '1000', '1000', '1000', '1000', '1800', '1500', '2000', '1400', '2000', '1350', '2100', '1100', '1200', '3000', '3500', '4000', '3000', '2300', '1500', '2000', '1500', '2000', '1400', '1200', '2200', '1800', '1400', '1400', '1600', '1800', '2000', '1500', '1400', '1500', '1500', '1000', '1200', '2100', '900', '1000', '1600', '1500', '1100', '3500', '2000', '2100', '1350', '2100', '2100', '3500', '1450', '1400', '1500', '1350', '1800', '2100', '1200', '1200', '1800', '1500', '1000', '3000', '1100', '1100', '1400', '1400', '2000', '1800', '1300', '1450', '1300', '5000', '1500', '1400', '2000', '1200', '2000', '3000', '1000', '1800', '1400', '3000', '1800', '3000', '1500', '1400', '1800', '1500', '1500', '950', '1000', '1500', '1400', '1420', '1300', '1500', '1800', '2000', '1000', '1400', '1500', '1500', '1000', '1200', '1200', '1450', '1450', '1350', '1450', '1000', '1000', '1500', '800', '1000', '1450', '1200', '3000', '1000', '1000', '1000', '850', '1500', '1000', '1000', '1000', '2000', '1000', '1000', '1000', '2000', '1000', '1000', '1800', '1000', '1200', '1000', '1000', '1000', '1800', '1000', '1000', '1550', '2000', '1000', '800', '1500', '800', '800', '1300', '2000', '1500', '1000', '1500', '1000', '1000', '1000', '1000', '1000', '800', '1300', '1300', '1050', '800', '1200', '1000', '1800', '1000', '1000', '1000', '1000', '1000', '1000', '1800', '1000', '1800', nan, '1500', '1000', '720', '720', '650', '650', '650', '650', '650', '650', '650', '650', '650', '650', '4000', '2500', '4070', '3200', '4060', '3200', '2000', '2500', '2500', '4060', '2500', '4070', '2500', '3050', '4010', '2500', '2500', '2500', '3000', '2800', '2000', '1800', '2500', '1800', '3000', '2500', '2500', '1800', nan, '7000', '5900', '4100', '4100', '4100', nan, '1520', nan, '2780', '2780', '1400', '1250', '1100', '1170', '1300', '1400', '1530', '1000', '1000', '1000', '1020', '1020', '1020', '1000', '1000', '1750', '1750', '1100', '1100', '1150', '1000', '1000', '1000', '800', '1200', '10000', '18000', '3200', '3500', '3500', '4000', '3000', '5800', '6500', '2500', '2000', '2500', '1500', '1500', '2500', '2000', '1900', '1000', '1000', '1000', '4000', '4000', '3000', '2000', '2000', '1800', '1000', '4000', nan, '2000', '4000', '4500', '5000', '3000', '2000', '4000', '2500', '1500', '1000', '1000', '3000', '2400', '1900', '1450', '1500', '650', '500', '650', '540', '500', '900', '600', '540', '500', '600', '1300', nan, '900', '900', '540', '900', '500', '500', '500', '750', '750', '800', '800', '800', '800', '550', '550', '550', '550', '1200', '1000', '915', '915', '915', '915', '915', '1200', '1200', '1200', '650', '1530', '1530', '1300', '1300', '1530', '1530', '1530', '1530', '1530', '1530', '1530', '1530', '1530', '1440', '1440', '1440', '1440', '1440', '1440', '1300', '1050', '1440', '1500', '1500', '1500', '1150', '1500', '1100', '920', '1300', '2100', '2000', '2000', '2300', '3000', '2000', '1800', '1900', '2200', '3000', '1300', '2000', '2000', '1400', '3000', '1800', '2500', '2000', '1400', '2000', '1500', '1700', '2000', '1900', '1700', '1500', '1500', '1550', '1500', '1500', '1500', '900', '1260', '1260', '1260', '1320', '1230', '1300', '1300', '1010', '1300', '1300', '1300', '1300', '1500', '1300', nan, '1300', '1300', '920', '840', '1300', '1300', '1050', '700', '700', '700', '700', '700', '700', '700', '700', '2670', '3600', '3410', '3030', '5000', '5000', '4000', '4000', '3000', '3150', '4000', '3450', '3700', '3100', '6020', '4550', '4010', '4000', '7000', '4000', '2300', '3000', '3100', '2400', '3150', '6020', '5000', '3130', '1800', '2530', '3000', '4000', '5000', '5020', '4000', '2000', '3150', '3150', '2400', '3500', '2400', '5000', '6020', '1800', '2700', '2000', '3000', '1600', '700', '3000', '1700', '5000', '2050', '1950', '2300', '1800', '1950', '1800', '2300', '2200', '2500', '2000', '2000', '1800', '4200', '2400', '3200', '2250', '3000', '2100', '1700', '1700', '1500', '1700', '1500', '1800', '1800', '1800', '2100', '3430', '2915', '3450', '3520', '2700', '2770', '9240', nan, '3300', '2500', '4000', '3300', '3000', '2200', '2000', '1100', '900', '1200', '1000', '1000', '1000', '1250', '2000', '1000', '1000', '1000', '650', '650', '650', '560', '730', '600', '980', '600', '600', '600', '560', '630', '650', '720', '720', '900', '600', '550', '600', '480', '600', '620', '600', '600', '680', '580', '600', '900', '720', '720', '600', '720', '720', '720', '520', '600', '600', '530', '600', '600', '5100', '4000', '3500', '3500', '3020', '3400', '4000', '3750', '5000', '5000', '3000', '3750', '3020', '3400', '3000', '3000', '3000', '3340', '3750', '3000', '3200', '3020', '4000', '2900', '3500', '4800', '3340', '3100', '4500', '3000', '2200', '3000', '4000', '3000', '3100', '3100', '1730', '2550', '3600', '3000', '2000', '2000', '2000', '3100', '3000', '2300', '3000', '2300', '2150', '2230', '4150', nan, nan, '8380', '5900', '3000', '7700', '3000', '2800', '3800', '5000', '4100', '3000', '5680', '7000', '4100', '4000', nan, '6300', '910', '910', '1230', '1230', '6300', nan, '1260', '1140', '1840', '1590', '1100', '1530', '1530', '1530', '1200', '1200', '1200', '1200', '1800', '1800', '1800', '1800', '3075', '3500', '3600', '3500', '2965', '2730', '3930', '3930', '2600', '3000', '4000', '3000', '2500', '3200', '2200', '3000', '3300', '2700', '2300', '2800', '2200', '2840', '2800', '2840', '3000', '3000', '2700', '2200', '2200', '2000', '3000', '2840', '2800', '2800', '2600', '2700', '2150', '2840', '2000', '2000', '2000', '2000', '2840', '2600', '2000', '2840', '2840', '2800', '2800', '2840', '2600', '2000', '2000', '2000', '2600', '2100', '2100', '2100', '6700', '2600', '2600', '2400', '2040', '2600', '2600', '2600', '2600', '2100', '2600', '2600', '2700', '2100', '2600', '1950', '2600', '2100', '2000', '1300', '2600', '2600', '2000', '2000', '2600', '2600', '2040', '2100', '2100', '2100', '2100', '2100', '3300', '1650', '2100', '1800', '1800', '1800', '1620', '1650', '1800', '3200', '1230', '1860', '2000', '2300', '2300', '1650', '1800', '2020', '2020', '1800', '1800', '1620', '1800', '2100', '1800', '1800', '1700', '1800', '1800', '1650', '1650', '1650', '1650', '1650', '1230', '1810', '1700', '2000', '2000', '1800', '1800', '1800', '1650', '1650', '1500', '1620', '1620', '1730', '1620', '1620', '1520', '1600', '1230', '1730', '1620', '1600', '1520', '1600', '1730', '7300', nan, '1600', '1520', '1400', nan, '1250', '1300', '1450', '1520', '1730', '1520', '1730', '1230', nan, '1400', '1450', '1450', '1230', '1520', '1250', '4000', '4000', '4000', '1230', '1300', '1400', '1500', '1200', '1230', '1230', '1230', '1300', '1300', '1500', '1230', '1300', '1200', '1730', '1200', '1300', '1300', '1400', '1200', '1300', nan, '1400', '1100', '1230', '1500', '1300', '1300', '1100', '1100', '1000', '1500', '1350', '1500', nan, '1500', '1340', '1500', '1500', '1500', '1500', '1100', '1150', '1100', '1500', '1350', '1350', '1100', '1100', '1050', '1340', '1340', '1340', '900', '2100', '1100', '1350', '1120', '1500', '1050', '1350', '1050', '1100', '1300', '2700', '2200', '1050', '1200', '1250', '1130', nan, '1500', '1250', '960', '1150', '1350', '1190', '1650', '1830', '2100', nan, nan, nan, nan, nan, '1800', '4500', '3020', '3020', '4000', '4000', '4000', '3020', '3750', '3400', '4000', '178', '420', '4200', '5000', '4200', '4000', '5100', '7500', '4000', '3750', '3340', '3750', '420', '3020', '2280', '3000', '3000', '4000', '4000', '3400', '3000', '3000', '3000', '3000', '4000', '7500', '7500', '5100', '3000', '3340', '4000', '4000', '4000', '420', '3340', '3020', '4000', '4800', '4800', '6660', '3340', '2950', '2200', '4800', '3100', '4000', '3000', '3000', '2200', '420', '420', '3750', '3200', '3000', '3000', '3020', '4000', '4000', '4000', '80', '4100', '5100', '3340', '3020', '6660', '4360', '4100', '3340', '4100', '4360', '2100', '2200', '3000', '3400', '3000', '6660', '300', '2200', '4000', '3000', '4000', '3450', '2700', '2200', '3000', '4800', '2000', '2000', '2200', '2200', '4360', '2600', '2200', '5000', '2000', '1730', '1950', nan, '1750', '1350', '3500', '4100', '4800', '4800', '4100', '2000', '2000', '3000', '2500', '4100', '2000', '1730', '2000', '1500', '1700', '2500', '2000', '2300', '2100', '6600', '2000', '2000', '4800', '5000', '1750', '4100', '2000', '4050', '1350', '1350', '2400', '1730', '1700', '1050', '600', '2150', '2150', nan, '1700', '4100', '4100', '2000', '1730', '1650', '1700', '2420', '2150', '1950', '1730', '1500', '1950', '4050', '3000', '1700', '1930', '1400', '6600', '1400', '1400', '2000', '1400', '1930', '1500', '4100', '1050', '1400', '1550', '1500', '2600', '1670', '1500', '600', nan, '1000', '1000', '1880', '1000', '1050', '1400', '6600', '2600', '1800', '2600', '1800', '1800', '1900', '1300', '800', '4100', '4100', '1000', '1500', '1200', '1200', '1500', '900', '1400', '1400', '1500', '1050', '1000', '800', '800', '1400', '1200', '1000', '1100', '830', '3250', '3250', '1400', '1500', '1200', '1200', '1150', '1000', '1100', nan, '930', '2200', '1050', '1000', '1150', '1150', '1500', '1500', nan, '800', nan, '1250', '1000', nan, '1300', nan, nan, nan, nan, '900', '900', nan, nan, nan, nan, nan, nan, nan, nan, nan, nan, '3340', nan, '1200', '1620', '1530', '1050', '1020', '1000', '1400', '1530', '1400', '1530', '1400', '1660', '1100', '1200', '1100', '1440', '1300', '1190', '750', '1200', '1620', '1250', '1050', '1050', '1150', '1200', '1200', '1300', '1050', '1050', '1050', '1200', '1000', '920', '1500', '1500', '1200', '1000', '1100', '1050', '750', '700', '1000', '1000', '1100', '950', '1050', '1000', '1050', '1050', '1000', '830', '1100', '1100', '1000', '1000', '750', '830', '1000', '1100', '830', '850', '1000', '750', '1000', '720', '700', '720', '750', '750', '680', '2800', '800', '2600', '2000', '1600', '1400', '2800', '1000', '2250', '1200', '1550', '1200', '1200', '2800', '2800', '1550', '1000', '6000', '2800', '1000', '500', '700', '2800', '1600', '2800', '3000', '800', '1500', '2150', '1800', '800', '1200', '1200', '1000', '950', '1000', '700', '1200', '3600', '2200', '700', '700', '950', '1050', '850', '1000', '800', '1050', '1000', '1000', '800', nan, '1050', '1050', '800', '800', '800', '800', nan, '580', '650', '3500', '4000', '4000', '4000', '4000', '4500', '3050', '3050', '4000', '4000', '4350', '4350', '4000', '4000', '4500', '4300', '3060', '4000', '3200', '3000', '4000', '4000', '4500', '4500', '3000', '780', '830', '920', '650', '780', '920', '650', '650', '650', '830', '780', '720', '680', '720', '720', '740', '740', '740', '1300', '1300', '1150', '1150', '1150', '2500', '2850', '2300', '3000', '600', '2300', '2000', '1500', '2000', '2000', '2000', '1700', '4000', '4000', '1600', '2500', '4450', '2100', '1900', '1950', '1400', '1700', '2000', '1400', '1500', '2050', '2000', '2000', '2300', '1350', '1400', '1800', '2000', '2600', '1400', '1200', '3000', '3000', '2000', '1400', '1250', '1750', '1800', '2100', '1450', '1400', '1400', '1750', '2000', '1600', '4000', '4500', '6000', '3700', '3700', '1000', '1200', '1800', '1600', '1000', '1800', '1500', '2200', '1800', '1800', '1000', '1000', '1000', '1500', '1800', '1500', '1800', '800', '2100', '1420', '1000', '1420', '2500', '3240', '3240', '3700', '3100', '2000', '3100', '2100', '2000', '2500', '1500', '1500', '1490', '1490', '920', '870', '1370', '1360', '1360', '780', '900', '920', '920', '650', '600', '2250', '3260', '3000', '2500', '3000', '3000', '3000', '2000', '2750', '2500', '2500', '2350', '1500', '2000', '3020', '2620', '2600', '2000', '2200', '1550', '1550', '2800', '2500', '1750', '1850', '2350', '2600', '2500', '1300', '4000', '1500', '1750', '2800', '2350', '2700', '2500', '2000', '2000', '2200', '1750', '2000', '2500', '2500', '1850', '2500', '2500', '2000', '3000', '2500', '2000', '3000', '2500', '2000', '1550', '2900', '2000', '1400', '4000', '2000', '1400', '2500', '1750', '2000', '2560', '1400', '1400', '2500', '2200', '1750', '2200', '2500', '1650', '1750', '1450', '1400', '1100', '1400', '4000', '1950', '1450', '1400', '1200', '1400', '1700', '1500', '3000', '1400', '1400', '1650', '2100', '2000', '1800', '1200', '1500', '1800', '1500', '1400', '2000', '1500', '1800', '1700', '2600', '2000', '2000', '1500', '1400', '1400', '1400', '2000', '2000', '2000', '2000', '1500', '1500', '1400', '2000', '4000', '4070', '3000', '4070', '3100', '3000', '3000', '3400', '3000', '5180', '3500', '3300', '3350', '3350', '3500', '4050', '3000', '3300', '3760', '4000', '3000', '3000', '3000', '3000', '7000', '3500', '3500', '4000', '4000', '4000', '7000', '7000', '4850', '4850', '4250', '3100', '2300', '2300', '2000', '2000', '5100', '4000', '4000', '3000', '9600', '1700', '3500', '2750', '4050', '4050', '4050', '3500', '2300', '3100', '7000', '4290', '3450', '2750', '2750', '2900', '4900', '3500', '2750', '2700', '3300', '3300', '3500', '2300', '10200', '6200', '2000', '4250', '3500', '5000', '2300', '2300', '4000', '2420', '4100', '2000', '2250', '2300', '4000', '2150', '2300', '1500', '3000', '3000', '2900', '2900', '4000', '7000', '4290', '4000', '3450', '3450', '3450', '2300', '4000', '2410', '2300', '3300', '2500', '2500', '1500', '2300', '2150', '2000', '9600', '9600', '6400', '4290', '2300', '3000', '2500', '4000', '2500', '2000', '3000', '2000', '2500', '2000', '1300', '2000', '2000', '2000', '6340', '4200', '3450', '3500', '9000', '4000', '2000', '3000', '2500', '2250', '3000', '2000', '3000', '9000', '6000', '2500', '2000', '2000', '3450', '2250', '2000', '4000', '2000', '1500', '1500', '1300', '2250', '6350', '6350', '6350', '6350', '3500', '3500', '2500', '2250', '3550', '2250', '2000', '2000', '2000', '1500', '2000', '3500', '1500', '2000', '2250', '1500', '2250', '2500', '1500', '1700', '1800', '650', '1100', '1000', '1400', '650', '1500', '1500', '1900', '1350', '7560', '3780', '1680', nan, '7400', '3250', '3400', nan, nan, nan, '4000', '3550', '3500', '3500', '3500', '3000', '3000', '3300', '240', '2500', '2500', '3000', '3000', '3300', '3000', '3300', '3300', '3300', '3000', '3000', '3300', '2500', '2880', '3000', '2500', '2410', '3000', '3300', '3000', '3000', '3000', '4100', '3300', '4500', '430', '240', '3080', '3200', '2800', '2700', '2800', '2500', '2500', '2500', '2100', '6000', '3000', '3200', '2100', '2800', '2800', '3000', '4800', '4800', '4100', '2100', '3000', '3000', '1900', '1940', '2800', '2800', '2520', '2300', '2125', '3000', '2300', '2125', '1940', '4800', '3000', '3000', '410', '410', '570', '3000', '2700', '2050', '7400', '4200', '1700', '1900', '2540', '2300', '950', '950', '2540', '3000', '3000', '3000', '3000', '2610', '700', '400', '2540', '2100', '1900', '1900', '3000', '2100', '2460', '1820', '3000', '3000', '2100', '1540', '1700', '3000', '2540', '1900', '4200', '3200', '2610', '4000', '1900', '1540', '1540', '3200', '3000', '2540', '2540', '2100', '3000', '3000', '950', '1540', '3000', '8000', '8000', '4200', '4000', '2540', '2540', '2440', '2100', '4600', '2440', '2440', '2440', '2440', '2540', '2540', '2100', '2100', '1540', '1700', '1700', '3200', '2150', '1540', '2460', '3140', '2300', '3500', '1540', '3140', '3140', '1540', '2610', '4600', '3000', '2150', '2460', '2280', '1700', '1700', '1540', '2460', '2150', '2540', '2460', '2150', '3140', '2460', '2460', '1700', '1700', '1540', '1540', '1540', '2100', '1700', '1500', '950', '1110', '2150', '1700', '2150', '2150', '2150', '2100', '2100', '2100', '2080', '1700', '2150', '1540', '2150', '1700', '2100', '1540', '1100', '950', '950', '1520', '950', '2150', '1830', '1000', '1700', '1300', '2150', '1520', '1520', '1700', '1500', '2080', '1700', '1500', '6800', '1000', '1540', '1700', '1830', '1500', '1540', '1830', '1830', '1500', '1000', '1500', '1540', '900', '1500', '1500', '1830', '1830', '1500', '1500', '1500', '1500', '1500', '1500', '1500', '1500', '1500', '1500', '900', '950', '900', '900', '950', '950', '1500', '950', '900', '1100', '1100', '950', '1280', nan, '950', '950', '950', '950', '1500', '900', '1500', '1500', '1500', '1500', '900', '1500', '6400', '950', '950', '950', '670', '1500', '1280', '1500', '1500', '1500', '1500', '1500', '900', '1250', '900', '900', '950', '900', '900', '1500', '1500', '1500', '1500', '1000', '1500', '900', '950', '900', '1500', '1500', '1500', '900', '1250', nan, '1500', '1500', '1500', '1500', '1500', '900', '950', '900', '800', '1250', '1100', '900', '900', '900', '1500', '900', '900', '900', '950', '1500', '900', '900', nan, '950', '1000', '1250', '1350', '900', '900', '1500', '1500', '1000', '900', '800', '950', '950', '950', '900', '800', '1500', '1500', '900', nan, '1850', '900', '1500', '800', '1500', '1000', '900', '950', '950', '1500', '800', '1100', '950', '1500', '900', '900', '950', '900', '1000', '950', '900', '900', '900', '900', '1500', '1500', '1000', '900', '1000', '950', '950', '950', '1300', '1000', nan, '1000', '950', '1000', '1000', '800', '800', '950', '950', '950', '950', '1100', '900', '1000', '1000', '1000', '800', '800', '800', '950', '950', '900', '800', '900', '950', '950', nan, '1030', '800', '950', '950', '900', '900', '900', '900', '1000', '1000', '900', '900', '900', '800', '900', nan, '1350', '900', '800', '800', nan, nan, '800', '800', '800', '860', '1000', '900', '800', '800', '800', '1000', '900', '800', '800', '900', '960', '800', '800', '830', '900', '800', '800', '800', '800', '800', '750', '830', '750', '900', nan, '900', '900', '900', '900', '900', '900', '1000', '820', '830', '1050', '1000', '1000', '800', '800', '800', '750', '1300', '860', '800', '750', '800', '800', '900', '950', '950', '800', '980', '1110', '1000', '900', '950', '1530', '800', '750', '1050', '680', '970', '830', '800', '830', '1100', '1530', '850', '1530', '800', '700', '1000', '1000', '1000', '750', '800', '800', '750', '830', '820', '1050', '950', '1400', '830', '830', '1100', '830', '830', '720', '800', '830', '800', '800', '1440', '1440', '800', '720', '720', '1440', '800', '1000', '930', '1050', '800', '780', '930', '780', '1000', '700', '1300', '1000', '1000', '1050', '1000', '950', '1000', '930', '780', '1000', '1000', '1050', '1400', '1400', '1400', '1400', '1000', '1000', '930', '780', '780', '1000', '1050', '950', '950', '760', '760', '950', '720', '950', '700', '1000', '800', '950', '1200', '850', '950', '760', '760', '780', '950', '720', '850', '780', '1200', '1000', '700', '1200', '1050', '780', '720', '760', '720', '850', '760', '760', '760', '850', '810', '820', '820', '820', '820', '780', '780', '850', '850', '650', '630', '600', '600', '600', '1500', '1540', '3600', '1700', '2000', '720', '720', '720', '850', '900', nan, '850', '1000', '850', '850', '900', '850', '720', '720', '720', '900', '850', '900', '600', '600', '600', '600', '600', '850', '850', '550', '550', '600', '600', '600', '600', '2800', '3000', '2200', '2000', '2200', '1400', '2200', '900', '3000', '2700', '3000', '2100', '800', '1400', '2000', '1700', '2800', '2200', '2000', '800', '1400', '1300', '2300', '2300', '2800', '1300', '2350', '1300', '2800', '800', '1450', '2350', '2000', '1400', '1100', '2000', '2000', '2000', '1700', '800', '800', '4000', '3000', nan, '3000', '3600', '3210', '3100', '3200', '3100', '3010', '3570', '3070', '3300', '3500', '3000', '3000', '3360', '3000', '3070', '4000', '3500', '3000', '3000', '3400', '3000', '4000', '3200', '3400', '3150', '2760', '3260', '3060', '3070', '4100', '3100', '3060', '3020', '2870', '2560', '4100', nan, '3140', '3050', '2500', '3150', '3100', '3140', '2500', '3350', '3100', '2400', '1800', '1700', '1600', '4000', '4000', '5000', '2000', '3000', '2500', '5000', '5000', '5000', '3000', '1300', '2730', '3000', '2500', '1600', '1600', '3000', '2980', '3000', '3000', '2500', '3050', '4000', '4000', '1300', '3200', '1800', '3000', '4000', '1800', '1800', '1600', '2000', '3050', '2000', '2000', '3000', '2000', '2500', '2500', '2000', '1400', '1200', '3000', '1750', '2000', '2500', '2500', '2500', '3900', '2500', '3000', '3000', '4000', '2230', '3000', '2100', '2500', '2000', '2500', '2000', '1750', '2500', '2900', '2820', '2000', '2820', '2000', '4000', '1650', '200', '2000', '1450', '1850', '2000', '4000', '1800', '2500', '2300', '2000', '2500', '1300', '1200', '2800', '2000', '4000', '2260', '1700', '3000', '2400', '2000', '2820', '2000', '1200', '1600', '1800', '3000', '1450', '1800', '1700', '1300', '2000', '2500', '2000', '4400', '3200', '2300', '1300', '3000', '1900', '1950', '2000', '1700', '2500', '1500', '2000', '2350', '2000', '1750', '2300', '2000', '1500', '2100', '2000', '1900', '3000', '2000', '2000', '2500', '1600', '2800', '1800', '1750', '1900', '1500', '1500', '1500', '2350', '1800', '1800', '2450', '2000', '1500', '3000', '2000', '2000', '4800', '2000', '2000', '1500', '1850', '1500', '2600', '2000', '2000', '1800', '2000', nan, nan, nan, nan, nan, nan, nan, nan, nan, '2100', '3000', '3000', nan, '3000', nan, nan, nan, nan, '1500', nan, nan, '2000', '2000', '2100', '2000', '1450', '1400', '1400', '4000', '2800', '5600', '2000', '1600', '1600', '1630', '2500', '1200', '1280', '1000', '1450', '1000', '1000', '1800', '800', '1400', '1280', '1300', '1200', nan, nan, nan, nan, nan, nan, nan, nan, '1200', '1300', '2800', '1300', '1080', '850', '1000', '2400', '1500', '1800', '1300', '1800', '1200', '950', nan, '1100', '1000', '1000', '1000', '900', '1500', '1200', '1450', '850', '800', '1000', '1200', '850', '850', '1000', '1000', '1000', '1100', '1280', '1100', '1200', '1500', '800', '900', '1800', '850', '450', '1800', '940', '1000', '1050', '800', '1200', '950', '800', '850', '1500', nan, '1000', '1000', '1000', '1000', '1000', '850', '1800', '1800', '480', '1050', '1000', '800', '700', '1050', '2000', '3300', '3300', '3000', '3000', '2100', '2200', '1500', '3000', '3000', '3000', '3000', '2500', '2500', '2500', '1560', '1560', '1560', '1560', '1905', '1905', nan, nan, '1240', '1240', '1390', '1240', '2600', nan, nan, '1000', '1000', '670', '790', '1050', '1050', '1130', '1300', '1050', '850', '1050', '1050', '810', '680', '730', '600', '680', '900', '780', '780', nan, '800', '900', '900', '500', '500', '800', '800', '900', '540', '540', '540', '540', '580', '900', '900', '900', '500', '530', '530', '530', '530', '530', '530', '530', '3000', '3000', '5000', '3000', '3000', '5000', '3000', '3000', '2800', '2100', '2800', '5000', '4000', '4000', '3000', '3200', '3000', '3000', '3300', '3000', '3000', '2730', '5000', '5000', '2800', '2800', '3000', '4000', '2350', '3000', '2800', '3050', '3500', '3510', '2800', '3500', '2600', '3000', '3000', '2800', '2470', '3760', '3760', '3630', '3000', '3630', '3630', '2470', '300', '300', '400', '320', '2470', '2390', '2390', '2390', '2390', '3900', '3900', '3220', '2300', '2070', '2070', '2070', '2000', '1980', '1980', '2070', '2070', '2200', '2130', '3500', '2000', '2000', '1785', '2000', '2000', '3300', '2530', '2500', '2000', '2000', '1650', '1780', '1785', '1700', '1780', '1650', nan, '1700', '910', '1500', '750', '1750', '1780', '1750', '1735', '910', '1540', nan, '3300', '1650', '750', '1785', '3300', '1390', nan, '1400', '1650', '1650', '1390', '910', '1400', '1735', '1735', '3960', '7000', '1500', '1390', '910', '910', '3960', '3960', '7000', '7000', nan, '1780', '1780', '1785', '1860', nan, '1600', '1700', '750', '910', '910', '750', '750', '750', '1540', '1420', '1420', '1420', '1540', '1540', '1400', '1700', '910', '910', '1880', '1390', '1500', '1880', '1420', '1860', '750', '1420', nan, nan, nan, '1930', '1930', '1420', '1735', '1540', '1930', '1500', '1390', '1420', '910', '910', '910', '1420', '1170', '1170', '1170', '1380', '1540', '1150', '1150', '1130', '910', '930', '930', '950', '1540', '1400', '1400', '1140', nan, '1380', '1130', nan, '950', nan, '1130', '1540', '1540', '1540', '1390', '1390', '1270', '1270', '1130', '750', '750', '750', '750', '750', '750', '1420', '1400', '1390', '1420', '1140', '1390', '1400', '650', '650', '650', '650', '650', '650', '930', '1420', '950', '1170', '1130', '910', '880', '2400', '940', '910', '1170', '1130', '1130', nan, '700', '810', '810', '810', '1170', nan, '950', nan, '940', nan, '970', '940', '780', '950', '850', '850', '950', '1130', '930', '1000', '1000', '910', '940', '920', '950', '930', '850', nan, nan, '940', '940', '1130', '970', nan, nan, nan, nan, nan, '1130', '900', '950', '770', '880', nan, '850', '850', '850', '850', '1030', '910', '880', '1170', '1170', '880', '850', '850', '720', '1000', '880', '940', '940', '720', '700', nan, '850', '850', '800', '880', '1000', nan, '850', '710', '830', '1000', '850', '1000', '1000', '1000', '840', '1130', '1020', '820', '820', '820', '820', '820', '820', '820', '820', '1000', '920', '920', '920', '1530', '920', '920', '820', '750', nan, '700', '810', '810', '820', '820', '810', '810', '600', '720', '820', nan, '810', '820', '820', '820', '820', '680', '680', '780', '1750', nan, '930', '820', '780', '820', '850', '780', '830', '800', nan, '830', '920', '920', '930', '860', '960', '1000', '960', '810', nan, '820', '1600', '780', '850', '800', '820', '540', '700', '700', '860', '860', '640', '1050', '1050', nan, '860', nan, '700', nan, '650', '780', '700', '700', nan, '600', '600', '600', '750', '600', '700', '1050', '800', '750', nan, '700', nan, '780', '600', '750', '1100', '1100', '550', '600', '750', '600', '430', '600', '600', '600', '600', '600', '700', '500', '800', '700', '500', '800', '500', '600', nan, nan, '600', '600', '500', '600', '700', '500', '500', '700', '700', '600', '600', '500', '600', '500', '500', '500', '500', '500', '900', '1000', '1000', '700', '700', '700', '700', '700', '700', '650', '1530', '1530', '1500', '1300', '1250', '1900', '720', '1530', '720', '1000', '900', '850', '820', '860', '550', '770', '800', '720', '600', '1000', '850', '850', '800', '530', '700', '720', '300', '720', '850', '1200', '800', '700', '830', '1100', '700', '820', '780', '540', '780', '780', '570', '570', '630', '1300', '800', '700', '1100', '950', '950', '700', '1100', '720', '750', '760', '680', '700', '1050', '1050', '780', '780', '1000', '1200', '1200', '800', '800', '700', '800', '780', '800', '1550', '1550', '600', '600', '800', '550', '550', '550', '550', '750', '1100', '1100', '3000', '1300', '1400', '1550', '1800', '600', '600', '1000', '2000', '1200', '1200', '650', '1650', '1500', '1400', '500', '1300', '860', '800', '1200', '1650', '800', '1200', '1000', '500', '750', '850', '1000', '1000', '1000', '3320', '3000', '4000', '2500', '1020', '3500', '800', '3500', '3060', '3060', '3060', '2970', '2990', '4000', '1500', '3260', '3800', '3000', '2150', '1200', '4100', '3000', '1200', '3090', '800', '1020', '2630', '3000', '3000', '1200', '1020', '1020', '1200', '1200', '1100', '1100', '800', '800', '1100', '1100', '1830', '5300', '2200', '2200', '2200', '1020', '1020', '1430', '1430', '1800', '1200', '1200', '2420', '1830', '1830', '1830', '2000', '1500', '1500', '1020', '1100', '2420', '1430', '3400', '3400', '8120', '1200', '1200', '1010', '1200', '1200', '950', '1200', '1020', '800', '2000', '2000', '1020', '1020', '2000', '2000', '1200', '1200', '2000', '1430', '1110', '800', '1110', '1300', '1300', '1020', '1100', '1020', '800', '1800', '1300', '1800', '1110', '1110', '2000', '1650', '1110', '1110', '1110', '800', '1400', '800', '1020', '1300', '800', '1400', '1450', '1300', '1320', '1020', '1020', '1830', '1830', '1300', '1020', '1450', '1300', '1300', '1300', '1110', '1430', '1430', nan, '860', '800', '1000', '1000', '1000', '1020', '850', '1300', '1080', '1200', '1050', '1110', '1450', '1050', '1020', '1020', '1020', '1200', '1200', '1320', '1200', '1320', '1200', '1500', '1200', '1320', '1020', '1020', '1000', '1200', '1050', '1200', '1050', '1000', nan, '860', '1320', '950', '1320', '1500', '1020', '1020', '800', '1020', '1200', '860', '1200', '1200', '1320', '1050', '950', '950', '1050', '1200', '1320', '1020', '1320', '860', '860', '1000', '860', '860', '800', '800', '800', '1320', '1200', '1200', '860', '1320', '1320', '1020', '1320', '1050', '1050', '1500', '1500', '1050', '1000', '1500', '860', '1050', '1000', '860', '860', '1020', '1500', '1000', '1000', '1000', '1020', '1200', '1000', '1500', '1050', '950', '860', '970', '1050', '1020', '860', '1000', '1500', '950', '1500', '860', '1020', '1020', '1020', '860', '860', '720', '1320', '1200', '1200', '1000', '1020', '860', '870', '860', '860', '1500', '1000', '860', nan, '1000', '860', '890', '1020', '1000', '700', '700', '860', '700', '860', '950', '1200', '900', '950', '890', '1500', '1020', '1000', '850', '870', '700', '1020', '1050', '1000', '1000', '860', '1050', '1050', nan, '1050', '1050', '1200', '900', '860', '1020', '850', '700', '900', '900', '830', '1500', '820', '700', nan, '1020', '700', '700', '1020', '700', '700', '890', '890', '900', '860', '1500', '950', '1500', '1100', '900', nan, '1020', '1020', '700', '950', '950', '850', '860', '970', '950', '800', '860', '760', '1100', '970', '700', nan, '700', '1100', '820', '900', '970', '860', '1100', '1100', '970', '970', '970', '700', '820', '820', '820', '820', '760', '820', '820', '1100', nan, '970', '1100', '1500', '820', '970', '700', '700', '760', '1150', '1500', '1500', '970', '1100', nan, '970', '970', '700', '760', '900', '760', '970', '760', '900', '900', '850', '760', '600', '900', '900', '900', '900', '900', '760', '850', '1300', '760', '760', '900', '700', '780', '760', '970', '900', '760', '760', '720', '760', '820', '760', '1070', '820', '900', '1300', '760', '780', '760', '1300', '760', '850', '850', '1000', '850', '850', '780', '850', '850', '850', '850', '850', '780', '850', '780', '780', '850', '780', '830', '1000', '760', '760', '720', '950', '850', '1000', '950', '780', '830', '1300', '780', '1050', '950', '825', '750', '830', '750', '750', '1000', '750', '950', '830', '1050', '1000', '900', '830', '1300', '900', '830', '650', '830', '1200', '600', '1050', '600', '1100', nan, nan, '600', '600', '600', '600', '400', '400', '550', '5200', '5400', '5400', '1340', '1110', '1300', '900', '1350', '1350', '1350', '1350', '1350', '1300', '1120', '920', '1620', '1530', '1300', '1100', '1000', '1000', '1300', '700', '970', '1530', '1350', '1200', '1530', '1150', '1620', '1200', '1100', '730', '1150', '1050', '780', '760', '750', '1200', '1490', '1200', '700', '1240', '1240', '820', '1200', '1000', nan, '3700', '3700', '3300', '3300', '3300', '3400', '3000', '2525', '3300', '3100', '4000', '4000', '4230', '3600', '3600', '3600', '3500', '3700', '3500', '3500', '4230', '4230', '3400', '3730', '3410', '3400', '3400', '3430', '3450', '3180', '3000', '3180', '3200', '3200', '4000', '3200', '3000', '3200', '4000', '3000', '3200', '2900', '3200', '4000', '2900', '3075', '4000', '3010', '2630', '3075', '4120', '2850', '2500', '3075', '2400', '2420', '3070', '2320', '2000', '2420', '2420', '2000', '4100', '2320', '2000', '2000', '1700', '2000', '2000', '2420', '3000', '2000', '3000', '2410', '1900', '2000', '1900', '1700', '1900', '2140', '2410', '3000', '2800', '1900', '2410', '3610', '2000', '2500', '2020', '1100', '1700', '1520', '3150', '1710', '1710', '1500', '1710', '2300', '2000', '2000', '1700', nan, '4000', '1400', nan, nan, '800', '1000', nan, '1250', nan, nan, nan, nan, nan, '800', nan, nan, '1150', '1150', '1150', '1150', '1500', '1150', '1200', '1200', '1000', '1200', '780', '780', '780', '780', '4000', '4000', '4000', '3000', '4000', '3000', '2400', '2300', '4000', '3250', '2500', '2200', '2500', '3000', '2500', '2500', '5000', '2000', '3000', '4000', '5000', '2210', '2200', '4000', '4000', '5000', '4000', '4000', '4000', '3000', '4000', '3000', '3000', '2200', '2000', '2500', '2000', '2800', '2450', '3000', '4000', '2700', '2000', '1800', '3200', '2350', '1600', '2500', '2910', '2500', '2000', '1800', '3500', '2050', '2000', '1980', '2500', '2100', '2800', '1650', '1500', '2500', '2000', '2600', '2000', '2500', '2500', '1300', '1700', '2000', '1500', '2500', '2000', '1800', '1150', '4590', nan, '940', '940', '830', '830', '830', '830', '1660', '1620', '1660', '1620', '730', '730', '720', '730', '780', '730', '600', '780', '600', '730', '760', '730', '780', '680', '680', '660', '680', '780', '680', '680', '780', '740', '780', '720', '720', '690', '690', '650', '700', '650', '650', '650', '700', '700', '650', '1030', '3140', '2100', '2600', '1830', '1000', '1680', '2020', '1830', '1650', '6400', '1000', '1000', '1650', '950', '1000', '1500', '920', '1500', nan, nan, '1000', '1000', '1100', '1100', '920', '930', '1000', '930', '950', '950', '1320', '950', nan, '1320', '820', '710', '720', '720', '720', '720', '570', '720', '800', '800', '800', '800', '790', '820', '570', nan, '720', '700', '760', '670', nan, '850', '680', nan, '780', '820', '850', '680', '640', nan, nan, '760', nan, nan, nan, nan, nan, '600', '1300', '600', '1300', '600', '600', '800', '700', '700', '700', '2000', '1600', '5000', '5000', '3000', '3000', '5000', '3000', '2300', '1700', '1400', '5300', '2000', '2200', '3300', '2400', '2400', '2100', '2400', '2400', '2000', '2000', '2400', '2900', '1630', '1530', '2000', '1050', '800', '2400', '3300', '3300', '2000', '2000', '1630', '3000', '2400', '2400', '2400', '1630', '1630', '1350', '1630', '800', '2400', '2000', '2000', '2000', '1000', '1530', '1630', '2100', '1630', '1500', '1150', '2100', '2000', '1530', '1050', '1530', '2000', '1280', '2100', '2100', '1530', '1000', '1530', '1300', '2100', '1900', '1200', '980', '920', '1000', '1050', '1200', '2000', '1530', '920', '1530', '1530', '1100', '1050', '1530', '1530', '1530', '1050', '800', '2000', '1000', nan, '1000', '1050', nan, '1530', '1000', '1000', '1000', '1050', '1050', '1450', nan, '1080', '1530', '1380', '1530', '1050', '1050', '1050', '1800', '1000', '1000', nan, '650', '1530', '1030', '970', '1530', '1350', '1050', '1050', '1050', '1100', '820', '980', '950', '1900', '1530', '650', nan, '1720', '1050', '890', '890', '600', '1250', nan, '890', '650', nan, nan, '980', '1050', nan, '850', '910', '820', '620', '1790', '900', '920', '1280', '1050', '1100', '680', '620', '950', '950', '680', '650', '1000', '750', '950', '720', nan, '720', '580', '580', '1100', '1100', '1200', '720', '1000', '1000', '950', '1000', '1100', '720', '1450', '750', '750', '770', '720', '720', '600', '1100', '1050', '720', '1100', '600', '600', nan, '720', '720', '600', '600', '600', nan, nan, '720', '720', '850', '560', '570', nan, nan, nan, nan, '750', '750', nan, nan, nan, '550', nan, '670', nan, nan, nan, '550', '550', '550', '550', '700', '600', '4000', nan, '800', '2700', '4700', '750', '1700', '3700', '800', '3500', '2400', '2400', '2000', '600', '1400', '2100', '5000', '2500', '1700', '1700', '600', '2000', '600', '2400', '1400', '4500', '3400', '2800', '2700', '600', '2000', '1600', '1600', '800', '1300', '1300', '2100', '2800', '2400', '1300', '2000', '1900', '1200', '1350', '2200', '2400', '2800', '1100', '1350', '3600', '3000', '2600', '2200', '2000', '1500', '1200', '600', '800', '1350', '800', '1200', '1100', '1450', '6000', '3000', '2000', '950', '800', '1700', '3000', '1350', '1500', '750', '1500', '800', '1500', '800', '4250', '2800', '2500', '1400', '1200', '1000', '1200', '1100', '800', '1050', '430', '900', '900', '1100', '1050', '1200', '800', '1000', '800', '800', '800', '800', '700', '700', '800', '650', '700', '800', '600', '700', '700', '700', '2700', '2650', '2700', '2000', '3000', '2100', '4000', '6000', '2800', '1300', '1600', '1450', '1800', '2400', '2230', '650', '3000', '2100', '2600', '2100', '2500', '2500', '1800', '2100', '1800', '2000', '1450', '1200', '1100', '800', '2300', '1950', '4000', '2000', '2000', '7000', '8000', '4600', '2600', '2300', '2000', '2000', '1500', '1500', '1500', '2000', '1700', '2100', '2000', '2200', '1800', '1850', '1500', '1500', '2500', '1500', '1500', '2000', '4850', '3000', '7000', '8000', '4700', '6000', '5300', '4600', '4100', '6400', '6400', '3000', '4400', '4000', '6000', '7800', '3200', '4700', '4100', '5000', '3200', '4000', '4000', '3200', '3000', '2500', '2500', '3000', '4010', '4000', '3150', '5000', '4000', '4000', '5000', '5000', '4000', '2500', '3100', '3150', '3130', '4000', '2400', '3000', '2400', '2000', '2500', '3000', '3150', '3150', '2900', '2000', '3500', '2300', '2800', '2000', '1700', '2000', '2500', '1200', '1450', '2500', '4700', '1450', '2120', '1950', '2820', '1800', '2000', '5000', '1950', '2400', '2000', '1500', '2050', '2000', '2000', '1800', '1800', '1920', '2100', '1500', '1500', '1800', '1800', '1800', '1700', '1450', '1800', '1700', '1800', '1700', '4200', '2000', '1000', '1700', '1700', '1200', '1600', '2500', '2000', '2300', '4500', '1500', '1000', '1300', '2000', '1800', '1500', '1700', '2000', '1700', '2600', '2000', '2000', '2200', '2100', '1800', '1350', '1190', '1250', '750', '1200', '1620', '1150', '1150', '1250', '1050', '1200', '1200', '1490', '1050', '1050', '1300', '1200', '1000', '1000', '1500', '1000', '4000', '4000', '4230', '4230', '3500', '3500', '4230', '4230', '3410', '880', '810', '1300', '1300', '670', '1000', '600', '1000', '1000', '1000', '1000', '1000', '1000', '1000', '1000', '1350', '1350', '920', '1000', '1000', '1000', '1000', '1000', '670', '1000', '1000', '1000', '1000', '1000', '900', '1300', '1000', '1000', '1000', '1530', '850', '1000', '840', '1000', '1000', '1000', '850', '850', '1000', '1000', '850', '820', '680', '800', '700', '680', '800', '800', '720', '850', '730', '920', '920', '800', '920', '920', '1100', '1100', '700', '700', '700', '650', '780', '760', '680', '670', '680', '1300', '1300', '650', '630', '830', '780', '1490', '850', '920', '850', '785', '780', '750', '780', '1050', '1050', '760', '1050', '850', '750', '1000', '600', '1050', '1000', '1000', '720', '850', '650', '650', '650', '600', '800', '850', '850', '850', '600', '600', '500', '500', '500', '500', '500', '600', '600', '600', '600', '600', '600', '4380', '4500', '4100', '3400', '3100', '230', '5000', '4000', '4000', '3400', '7040', '6150', '5000', '3400', '3400', '3300', '3800', '3300', '4000', '472', '3300', '3300', '3300', '2600', '7300', '7300', '3000', '3300', '2600', '3700', '3000', '3500', '3000', '3000', '3500', '3000', '3000', '3300', '3500', '3000', '2600', '3500', '3000', '2000', '4450', '5000', '3000', '300', '3300', '4000', '3300', '3200', '3300', '3600', '3600', '3000', '2400', '1950', '2050', '3000', '3500', '380', '2600', '2800', '6000', '1500', '2600', '3300', '3600', '3000', '2350', '2600', '2600', '4000', '4000', '3300', '3300', '3300', '380', '380', '380', '2400', '3300', '1500', '3500', '3500', '3000', '2600', '4000', '4000', '2600', '2600', '2600', '2200', '4000', '2600', '3300', '2600', '5000', '3300', '3100', '7300', '4000', '3000', '3600', '3600', '3000', '1500', '300', '5000', '2050', '4000', '3300', '2900', '2300', '2600', '2600', '5700', '3000', '2600', '2600', '1850', '250', '250', '300', '3000', '3000', '3000', '3000', '3000', '3000', '2800', '1900', '1800', '5870', '4000', '3050', '3050', '1500', '3000', '3000', '2600', '6800', '5000', '800', '1000', '1500', '3500', '3600', '6000', '6000', '4200', '4200', '2200', '2600', '2550', '2600', '3000', '2550', '2550', '1850', '1850', '2000', '3600', '1500', '2600', '2600', '2500', '2950', '2400', '2000', '2300', '2300', '1900', '1900', '2800', '1200', '1500', '2600', '2600', '1900', '3000', '3000', '3220', '3220', '4450', '4450', '2800', '300', '300', '300', '300', '315', '2800', '1860', '1860', '2100', '2100', '1500', '800', '1000', '1500', '4450', '1800', '2100', '1800', '1500', '1300', '1300', '2000', '2800', '2800', '4900', '4900', '7900', '7900', '2000', '2100', '3200', '2600', '2800', '2430', '2600', '2100', '1500', '2600', '4000', '4000', '4000', '4450', '4450', '4450', '6800', '6800', '6800', '2100', '1500', '2800', '2800', '2800', '2800', '2100', '2100', '1000', '800', '1300', '3100', '3100', '3600', '3600', '2100', '9500', '9500', '9500', '9500', '9500', '9500', '8220', '8220', '4800', '4800', '2000', '2000', '2600', '2600', '2100', '1500', '2600', '1820', '2100', '800', '2600', '1800', '2800', '1500', '1800', '1300', '1300', '1500', '8220', '3200', '1200', '1750', '1000', '2000', '2330', '1500', '1800', '1900', '2600', '4450', '6800', '6800', '6800', '1500', '1800', '4000', '4000', '3200', '2600', '1500', '2000', '1200', '1200', '2600', '2600', '2600', '2600', '4600', '4600', '1200', '1000', '1000', '1000', '1000', '1000', '1000', '800', '1300', '1300', '2000', '1700', '1650', '2100', '2100', '2100', '1000', '7000', '1300', '2100', '1800', '1300', '2100', '2100', '9000', '8200', '1000', '1500', '1300', '1300', '1850', '2000', '1000', '2100', '2100', '1800', '1000', '1200', '3100', '3100', '2300', '1650', '1750', '2100', '1700', '4000', '7000', '7000', '1000', '1600', '1500', '800', '1000', '800', '800', '1000', '1200', '1000', '1650', '1300', '1300', '1300', '6100', '1000', '1000', '1500', '1500', '1750', '1750', '2100', '2100', '2100', '2100', '800', '1000', '2500', '1200', '1200', '2000', '7000', '7000', '7000', '1650', '1500', '1500', '1500', '1300', '1650', '1200', '4000', '4000', '1500', '1000', '1000', '1000', '1750', '1650', '1750', '5100', '1850', '1750', nan, '2500', '2500', '1650', '1300', '1800', '1300', '1350', '800', '1000', '1500', '1500', '800', '1000', '800', '1650', '1500', '1850', '1000', '1500', '1300', '800', '1850', '1750', '1650', '1800', '1500', '1650', '1200', '1500', '4000', '4000', '1500', '1850', '1000', '5100', '5100', '2500', '1650', nan, '1850', '1800', '1500', '1350', '1200', '1850', '1850', '6100', '1500', '1350', '1200', '1200', '1200', '1000', nan, '1000', '1000', '1500', '1700', '1650', '1600', '1300', '1500', '1000', '1000', '1000', '1500', '1500', nan, '800', '800', '800', '1200', '1000', '800', '1000', '1000', '1650', '1200', '1200', '1000', '1000', '1160', '1500', '1500', '1500', '1500', '1000', '4000', '7000', '6800', '7000', '6000', '6000', '1500', '800', '1000', '1350', '1650', '1000', '1000', '1200', '6860', '2500', '960', '800', '800', '800', '1650', '1350', '1350', '1350', '1350', '1200', '1200', '1650', '1000', '1750', '1500', '1600', '1500', '1500', nan, '900', '960', '1650', '1000', '1000', '800', nan, '1080', '880', nan, '1000', '1000', '1000', '1000', '800', '1000', '1000', '1000', '960', '800', '800', '1500', '1500', '1200', '1500', '1500', '4000', '4000', '4000', '4000', '800', '1140', '1140', '1500', '880', '1000', '1500', '1500', '1500', '1000', nan, '1200', '1300', '1500', '1200', '800', '900', '1500', '1000', '800', '1000', '1500', '1500', nan, '1000', '1000', '1000', '800', '1500', '1500', '1500', '1000', '1000', '1500', '1500', '1500', '1500', '1000', '1500', '1160', '1000', '1000', '1200', '1200', '1200', '1500', '1500', '1200', '1300', '1000', '1150', '1500', '1500', '1500', '1500', '1000', nan, '1000', '960', '960', '1000', '1000', '1000', '1500', '1800', '960', '960', '2000', '800', '1000', '1000', '960', '800', '900', '800', '960', '800', '960', '960', '960', '960', '800', '1000', '1200', '960', '960', '1150', '960', '800', '1000', '960', '1500', '1000', '960', '960', '1500', '1000', '1000', '1000', '1000', nan, '1500', '1500', '1500', '1080', '1500', '1500', '960', '800', '1000', '1500', '800', '800', '800', '1000', '1080', '960', nan, '800', '800', '1000', '960', '1440', '1080', '880', '1440', '1480', '1440', '960', '960', '800', '1000', '1000', '1000', '1000', '630', '1000', '960', '1200', '1000', '880', '960', '800', '800', '1200', '1100', '1500', '1500', '1480', '1500', '1000', '800', '800', '800', nan, '800', '1480', '880', '960', '800', '800', '1500', '800', nan, '800', '800', '1420', '1000', '800', '1000', '1000', '1000', '1000', '1500', '880', '960', '880', nan, '960', '960', '800', nan, '800', '1440', '1000', '800', '800', '880', '1300', '880', '800', '750', '750', '800', '800', '800', '800', '1200', '1000', '1200', '1140', '1140', '960', '800', nan, nan, '1330', '880', nan, nan, '800', '800', '1000', '1000', '1000', '1000', '1300', '1800', '1000', '1200', '960', '960', '1000', '880', '960', '800', '880', '800', '800', '800', '1000', '800', '800', '850', '800', nan, nan, '1300', '880', '800', '770', '1200', '800', nan, '750', '1200', '880', '1500', nan, '800', '800', nan, '960', '1440', nan, '1000', '800', nan, '800', '800', nan, '1200', nan, '800', nan, '880', '880', '1000', '1200', nan, '1000', '800', '1300', '1200', '960', '880', nan, '960', '800', nan, nan, nan, '880', nan, nan, '1000', '1000', nan, '900', '800', '800', '1300', nan, '1000', nan, '880', '1000', '880', nan, '800', '1000', '1200', '1480', nan, '1200', nan, '800', nan, '880', '800', '960', '820', '800', nan, '800', '880', '800', '800', '800', '880', '960', '800', '800', '500', '800', '880', '800', '800', '1000', nan, '1000', '800', '800', nan, nan, '1000', '800', '750', nan, '1200', '1000', '960', '900', '880', '800', nan, '690', '690', '690', '690', '1200', '950', nan, nan, nan, '690', '800', '880', '800', '750', '800', '800', '750', '800', nan, '750', '750', '800', '1200', '1700', '1200', '900', '720', nan, '950', '800', '850', '800', '750', nan, '800', '750', '750', '750', '800', '700', '800', '750', '750', '800', '880', nan, '550', '900', '900', '900', '900', '900', '800', '750', '800', '800', '750', '700', '750', '750', '730', '730', '800', '800', '630', '800', '800', '630', '750', '800', '750', nan, nan, '800', nan, nan, '1000', nan, '900', '800', '900', '1000', '800', '900', '950', '800', '800', '880', '950', '950', '950', '900', '950', '950', '900', '800', '800', '800', '830', '750', '800', '800', '1000', '800', '800', '850', '880', '800', '800', '800', '800', '800', '1000', '1000', '620', '900', '800', '800', '800', '950', '950', '800', '900', '800', '800', '800', '850', '800', '800', '800', '960', '950', '1000', '1000', '820', '950', '1000', '1000', '800', '900', '800', '800', '800', '1000', '800', '800', '820', '800', '820', '800', '800', '800', '800', '800', '800', '800', '800', '800', '800', '800', '800', '1360', '800', '800', '780', '800', '820', '800', '800', '800', '800', '1300', '820', '700', '800', '600', '1100', '780', '1100', '820', '820', '800', '800', '830', '800', '800', '820', '830', '960', '1000', '800', '900', '1000', '900', '720', '720', '780', '900', '900', '900', '800', '780', '780', '800', '900', '780', '720', '900', '620', '700', '900', '800', '400', '720', '850', '780', '900', '570', '800', '800', '570', '800', '700', '800', '800', '800', '750', '830', '720', '650', '800', '1000', '650', '900', '900', '650', '900', '750', '750', '750', '600', '600', '750', '1300', '800', '800', '700', '700', '700', '700', '700', '700', '700', '700', '700', nan, nan, nan, nan, '2500', '2600', '4000', '720', '720', '720', '570', '800', '600', '1300', '1050', '730', '760', '600', '750', '600', '600', '650', '600', '650', '600', '830', '720', '1050', '900', '900', '900', '900', '600', '900', '550', '550', '550', '550', '780', '550', '550', '550', '700', '700', '700', '720', '900', '900', '700', '700', '730', '3130', '2500', '2900', '4000', '2700', '3200', '3130', '3200', '3020', '3000', '5000', '3020', '3100', '3000', '2600', '3000', '2030', '2040', '1950', '1240', '1240', '1240', '1240', '1300', nan, nan, nan, '680', '790', '680', '1500', '920', '1200', '1350', '930', '750', '750', '820', '1440', '1440', '900', '700', '900', '650', '870', '870', '840', '780', '780', '780', '750', '780', '780', '720', '720', '720', '720', '720', '600', '820', '620', '1000', '860', '600', '920', '840', '800', '600', '750', '820', '700', '750', '750', '1000', '750', '750', '600', '780', '600', '650', '650', '660', '750', '750', '670', '750', '700', '700', '700', '700', '600', '750', '750', '600', '750', '750', '600', '700', '860', '750', '700', '850', '850', '850', '850', '800', '630', '700', '1000', '750', '700', '700', '610', '650', '620', '650', '800', '700', '700', '700', '500', '700', '600', '700', '780', '720', '720', '1550', '540', '540', '840', '850', '650', '540', '830', '650', '500', '500', '500', '600', '600', '600', '650', '830', '650', '650', '1800', '1800', '1800', '1800', '700', '700', '4900', '4800', '4800', '1750', '1950', '1750', '1750', '1750', '1850', '1300', '1850', '1850', '1180', '1000', '3330', '3000', '2870', '3300', '3300', '3580', '3540', '3180', '2870', '3580', '3300', '3300', '2620', '2700', '3430', '2700', '2620', '2900', '3230', '2700', '2300', '2700', '2900', '2300', '2700', '2700', '2620', '2300', '2300', '3430', '3430', '2900', '2900', '2700', '2600', '2600', '2930', '2930', '3000', '2930', '2930', '2600', '2600', '2400', '2400', '6000', '6000', '2300', '2300', '2300', '2300', '2330', '2330', '4500', '3100', '3200', '3100', '2600', '2300', '2500', '2500', '3000', '2500', '420', '225', '2300', '2300', '6000', '6000', '3200', '1750', '1750', '3000', '3000', '3000', '2300', '3000', '3050', '2390', '1750', '2300', '1750', '2370', '6000', '6000', '2330', '2370', '1530', '1530', '1850', '6000', '6000', '1750', '1750', '1750', '1850', '1750', '1500', '1500', '1500', '1305', '1910', '1500', '1700', '1910', '1900', '1500', '1320', '1320', '1305', '1750', '1900', '1900', '3080', '3080', nan, nan, nan, '650', '1700', '650', '620', '650', '540', '500', '500', '500', '600', '730', '1800', '1350', nan, nan, nan, '4000', nan, nan, '4280', '3420', '3050', '1500', '1500', '1200', '1500', '1200', '1000', '1000', '1000', '1200', '1200', '1200', '1200', '1500', '1500', '1500', '1500', '1500', nan, '1200', '1000', '970', '930', '870', nan, nan, '930', '950', '1200', '1500', '1200', '1000', '1000', nan, '1500', '1500', nan, nan, '950', '950', '950', '1000', '1000', '1000', '930', nan, nan, '930', '1000', '950', '950', '930', '930', '1000', '950', '950', '950', '950', '930', '950', '950', '950', '930', '950', '950', '930', '770', '950', '950', '930', '1500', '950', '950', '950', '930', '930', '950', '930', '780', '780', '930', nan, '930', '930', '780', '950', '950', '930', nan, '930', '930', '900', '930', '950', nan, nan, nan, '950', '930', '930', nan, '930', '930', nan, '950', '950', '950', '950', '900', nan, '900', nan, nan, '950', nan, nan, '780', '900', '750', nan, '950', nan, '950', '900', '900', '750', nan, nan, '900', '900', nan, '900', '900', nan, '750', nan, '900', '900', nan, '900', nan, '900', '900', nan, '900', nan, '900', nan, nan, '900', '670', '900', '900', '900', '900', '750', nan, '900', '900', '670', '670', '700', nan, '1000', '780', '700', nan, nan, nan, nan, nan, '750', '1000', '780', nan, '670', '1000', '770', nan, '700', nan, nan, '700', '700', '1000', nan, '700', nan, '2500', '420', '1400', '2000', '2000', '2000', '1400', '1450', '1400', '1400', '1800', '2000', '2500', '2500', '2000', '2000', '1400', '1500', '1450', '1450', '1700', '1800', '1500', '1400', '1350', '1800', '1450', '1700', '1400', '1500', '2500', '2100', '1730', '1400', '1400', '1450', '2100', '2000', '2100', '2100', '1700', '1500', '1300', '1500', '3000', '2100', '2550', '2550', '7600', '1700', '2400', '1400', '1200', '1000', '1000', '1000', '1000', '950', '1800', '1800', '1800', '2200', '1500', '1800', '1420', '2000', '1150', '1200', '1000', '1500', '1400', '1200', '1000', '1200', '950', '1000', '1000', '1800', '1000', '1000', '4200', '1400', '1000', '1000', '1200', '1200', '1200', '1100', '1200', '1000', '1150', '1000', '1200', '1000', '1100', '1000', nan, nan, '1000', '1500', '1000', '900', '1000', '1000', '1200', '1000', '880', '1000', nan, '1000', '1200', '1000', '780', nan, '1500', '700', '750', '750', '1350', '1300', nan, '3000', '1750', '1500', '1500', '1500', '1400', '2000', '1100', '1520', '1500', nan, '7000', '1500', '1500', nan, '1500', '1300', '1500', '850', nan, '1200', '1400', '1300', '1300', '1150', '1150', '1340', '1230', '1150', '1500', '850', '800', '1350', '1500', nan, '1340', '1500', '1100', '1250', '1100', nan, '1100', '1150', '1340', '920', '900', '1030', '1130', '1540', '1500', '1130', '960', nan, '3050', '3050', '3750', '3750', '3000', '2400', '2400', '2400', '2000', '2000', '5000', '5000', '5000', '3000', '3400', '3050', '3500', '3000', '3750', '3750', '3200', '3200', '3200', '3000', '3500', '4050', '2700', '800', '720', '1000', '900', '600', '600', '600', '860', '800', '800', '730', '1000', '1000', '860', '650', '650', '650', '800', '800', '800', '650', '920', '720', '720', '720', '720', '1000', '780', '600', '550', '610', '550', '650', '650', '1000', '650', '600', '1280', '3500', '3500', nan, nan, nan, nan, nan, nan, nan, nan, nan, '1460', nan, '1000', '1000', '1000', '1530', '1320', '600', '1050', '1320', '1200', nan, nan, nan, nan, nan, nan, '720', '720', nan, '1000', nan, '1000', '700', '2000', '2000', '1400', '1600', '1100', '800', '2000', '1600', '1600', '1100', '1100', '2100', '1900', '1700', '2000', '1500', '1200', '1400', '1100', '800', '950', '1000', '1000', '900', '1000', '800', '800', '1100', '600', '600', '3160', '2275', '2275', '1800', nan, '1200', nan, '1500', nan, '1000', '950', '950', '950', '800', '1000', '780', '950', '3200', '2000', '2000', '2000', '2000', '2000', '2000', '2000', '3000', '2800', '3000', '2700', '2500', '1200', '2800', '2050', '2000', '2000', '2000', '2000', '1700', '3000', '2000', '2000', '1400', '2900', '2500', '2600', '2800', '2800', '4060', '1300', '3000', '2800', '2200', '2200', '2500', '1950', '3000', '2000', '1800', '2500', '2600', '1850', '1900', '1400', '2500', '1850', '1200', '2600', '1800', '1700', '800', '1650', '1900', '2300', '2100', '1400', '1450', '1000', '900', '2300', '2300', '1200', '2000', '1400', '1600', '1150', '600', '2000', '1750', '2500', '1400', '800', '800', '650', '500', '600', '1400', '500', '2000', '800', '1800', '650', '1350', '700', '1450', '2350', '1100', '1050', '550', '650', '650', '1050', '1350', '1000', '800', nan, '1100', '1110', nan, nan, '3500', '600', '2300', '1000', '1000', '950', '800', '1400', nan, nan, nan, nan, nan, nan, '1100', '700', nan, nan, nan, nan, nan, '800', '1000', nan, nan, nan, nan, nan, nan, nan, nan, nan, nan, nan, nan, nan, nan, '4000', '4000', '3700', '3260', '3500', '4030', '4030', '4030', '3260', '4030', '4030', '4030', '4030', '3260', '3315', '3315', '3360', '3315', '3315', '3400', '3400', '3260', '3260', '3260', '4000', '4000', '3260', '3260', '3260', '3425', '2500', '3360', '3260', '3260', '3200', '3200', '3000', '3900', '3900', '3250', '3225', '3000', '3000', '2500', '4015', '3320', '3000', '1900', '2650', '2730', '3000', '3160', '3000', '4080', '4000', '3050', '3000', '4000', '3000', '3000', '2550', '3000', '2400', '3600', '3600', '2350', '2400', '3000', '1900', '2300', '2720', '2100', '2300', '2720', '4150', '2450', '2300', '2300', '1700', '2250', '3200', '2600', '2000', '2100', '2260', '1900', '1900', nan, '710', '800', '800', '800', '720', '800', '800', '1000', '1000', '620', '720', '790', '790', '940', '800', '970', '970', '970', '760', '1200', '1150', '810', '880', '720', '720', '720', '720', '720', '720', '720', '720', '2000', '3100', '2900', '2460', '4600', '2200', '3000', '2400', '5830', '2000', '3000', '2960', '2540', '1400', '1780', '3000', '4600', '2500', '1400', '3000', '4060', '1880', '1880', '3000', '1880', '1400', nan, nan, nan, nan, '1500', '6340', '3550', '1200', nan, '3400', nan, '1000', nan, '1500', '900', nan, '1200', nan, nan, nan, nan, nan, nan, nan, nan, '500', '500', nan, nan, '750', '850', '700', nan, '1500', '750', '1100', nan, nan, nan, nan, nan, '680', nan, '670', nan, '670', '800', '670', '1100', nan, '670', nan, '670', nan, '720', nan, '720', '670', '690', '4000', '4000', '4000', '3000', '3000', '3000', '3000', '2900', '3200', '3000', '3000', '3000', '3000', '2500', '2500', '2500', '2000', '2500', '4900', '2500', '2500', '4000', '4000', '2500', '3000', '2500', '2500', '2000', '1300', '1200', '2500', '2800', '2500', '2000', '2900', '2820', '2820', '2500', '2500', '2900', '1800', '2500', '2500', '2000', '2300', '2800', '1300', '2120', '2820', '2820', '2450', '2000', '1800', '2000', '1300', '1700', '2000', '2500', '2000', '2350', '2000', '2000', '2350', '820', '930', '930', '930', '1660', '1000', '1000', '800', '800', '4000', '3800', '3300', '3070', '3300', '3000', '4000', '3000', '3200', '4000', '4000', '3000', '3350', '4000', '3000', '4000', '5500', '6000', '8620', '3000', '3000', '3000', '3400', '3120', '3080', '3400', '4000', '4000', '4000', '4000', '3300', '3000', '3080', '3080', '3500', '3400', '3080', '5300', '4100', '3350', '6600', '2860', '4100', '4100', '3120', '4100', '4100', '4500', '4400', '4070', '3800', '3200', '4100', '4050', '4100', '4100', '4100', '4100', '3000', '4850', '3260', '4050', '4100', '3100', '6190', '4000', '3080', '3060', '2200', '2200', '3120', '3090', '3000', '2200', '2200', '3080', '3100', '3080', '6700', '3200', '3050', '2000', '2000', '2030', '2000', '2000', '1930', nan, '4500', nan, '2500', '2350', '2500', '2500', '4000', '2500', '2300', '3200', '2400', '3200', '2100', '2100', '1800', '2920', '2500', '2200', '2500', '2000', '1820', '1800', '2600', '2100', '2500', '640', '2100', '1700', '2800', '2500', '2100', '1500', '1800', '3000', '1700', '2000', '2300', '1920', '1400', '1800', '1500', '1900', '2100', '2500', '1800', '2000', '2250', '2000', '2000', '1400', '1800', '2250', '1400', '3000', '1400', '2250', '2000', '1800', '4000', '2000', '1810', '4100', '1450', '2100', '1400', '2600', '1800', '1900', '1500', '2400', '4000', '4000', '2500', '1400', '2000', '2000', '1900', '2000', '1500', '2100', '2100', '2400', '2000', '1400', '2000', '9000', '1400', '1700', '2300', '600', '2000', '2000', '1780', '2200', '800', '2400', '3000', '3000', '600', '1400', '2000', '1400', '1300', '2900', '2100', '2100', '2000', '1600', '800', '2100', '2000', '1100', '1000', '1450', '1400', '1300', '950', '600', nan, '2020', '2020', '650', '600', '600', '1780', '1300', '1800', '2020', '2020', '2500', '1500', '1780', '1400', '1300', '1550', '1300', '3000', '600', '1800', '1800', '2500', '1300', '2500', '2400', '2400', '1400', '1550', '2000', '1500', '1500', '1400', '1200', '550', '2000', '2600', '1000', '800', '1000', '1200', '1650', '700', '700', '1000', '550', '550', '1100', '600', '1000', '1000', '800', '1000', '800', '350', '3200', '2500', '1800', '4000', '3930', '2500', '3000', '2000', '3000', '4000', '4000', '3000', '2000', '2230', '2500', '2500', '500', '4000', '3200', '3800', '3800', '3450', '4000', '3800', '3450', '4000', '5000', '3200', '3100', '2200', '4000', '5000', '2300', '3000', '3180', '3100', '3200', '3200', '4080', '3000', '2200', '4000', '4620', '2540', '500', '5000', '3630', '3000', '3000', '3200', '3400', '3990', '2950', '2400', '3000', '2800', '2500', '5000', '3000', '3140', '2730', '4100', '3140', '3000', '3000', '2705', '3000', '3400', '5000', '4000', '3250', '3000', '1400', '3400', '2800', '2150', '3000', '4000', '2540', '4000', '2500', '2500', '2540', '2500', '4140', '2200', '3080', '2300', '3000', '2400', '4000', '300', '3000', '2500', '2800', '3000', '3000', '2200', '3000', '3400', '2200', '2200', '3000', '1500', '1800', '2480', '1650', '2000', '2100', '1800', '2200', '2900', '3000', '2900', '2900', '2200', '3100', '2000', '2000', '1850', '1200', '2400', '2400', '2300', '3200', '2400', '2300', '2000', '2500', '2300', '1500', '3200', '3400', '2300', '2300', '1850', '2000', '3000', '3100', '2300', '2000', '1400', '2000', '2400', '2300', '4250', '3200', '1400', '1150', '3200', '1780', '3100', '2300', '2000', '2300', '2000', '1800', '1500', '2070', '1800', '2000', '2500', '2500', '2500', '2000', '2000', '2500', '1600', '2300', '3200', '1200', '1600', '1500', '3700', '1780', '1730', '1650', '2000', '1200', '1500', '2300', '1780', '1780', '1650', '1800', '1600', '1650', '1650', '1900', '1600', nan, '1500', nan, nan, nan, nan, '4000', nan, '1650', '1600', '1600', '1400', '1650', nan, '1900', nan, nan, nan, nan, '1200', nan, nan, '4000', '3400', '3400', '1250', '1000', '1150', '1400', '1600', '1200', '1800', nan, '3400', '1100', '1400', nan, nan, '1100', nan, nan, nan, '1250', nan, nan, '1500', nan, '720', '1000', '700', '1000', '720', '650', nan, nan, '1300', '1100', '1250', nan, nan, nan, nan, '1250', '1300', nan, '1000', '830', '1000', '1250', '900', '1250', '800', '1000', '1000', '1000', '690']\n"
          ],
          "name": "stdout"
        }
      ]
    },
    {
      "metadata": {
        "id": "l_ICwFda9Vs-",
        "colab_type": "text"
      },
      "cell_type": "markdown",
      "source": [
        "With the all of these peices in place, we can finally define a function called **create_df** which takes in as the input, the **devices_dict** from earlier and returns a *Pandas DataFrame* with all the fratures extracted from all the devices."
      ]
    },
    {
      "metadata": {
        "id": "2AQNkVSs9Rp-",
        "colab_type": "code",
        "colab": {}
      },
      "cell_type": "code",
      "source": [
        "# create a function that uses the above functions and the class to create a data table for devices_data\n",
        "def create_df(devices_dict):\n",
        "  # create Device objects from of devices_dict\n",
        "  devices_collector = create_devices_from_data(devices_dict)\n",
        "  \n",
        "  # get a dict of all features collected across all devices\n",
        "  all_features_dict = FeatureGen.all_features_dict\n",
        "  \n",
        "  # create the feature columns for each feature and set it as the new value of the all_features_dict\n",
        "  for feature_name, _ in all_features_dict.items():\n",
        "    col = create_feature_column(feature_name, devices_collector)\n",
        "    all_features_dict[feature_name] = col\n",
        "  \n",
        "  # create a DataFrame from the dict and return it\n",
        "  return pd.DataFrame(all_features_dict)"
      ],
      "execution_count": 0,
      "outputs": []
    },
    {
      "metadata": {
        "id": "p2oaumTd-ghK",
        "colab_type": "code",
        "colab": {}
      },
      "cell_type": "code",
      "source": [
        "# test it out\n",
        "df = create_df(devices_dict)"
      ],
      "execution_count": 0,
      "outputs": []
    },
    {
      "metadata": {
        "id": "1yppAJ6N-2E0",
        "colab_type": "code",
        "colab": {}
      },
      "cell_type": "code",
      "source": [
        "# take a peek at the dataset\n",
        "df.head()"
      ],
      "execution_count": 0,
      "outputs": []
    },
    {
      "metadata": {
        "id": "wP6VfEytI-AV",
        "colab_type": "text"
      },
      "cell_type": "markdown",
      "source": [
        "**Note** that Pandas has converted the **maker_id** *0* into the **NaN** object.  We can also get the **tail** of the **DataFrame** to double check that the  rest of the **maker_name**'s are uneffected."
      ]
    },
    {
      "metadata": {
        "id": "37H9fy9uJxQs",
        "colab_type": "code",
        "outputId": "34ee206f-cfc1-4460-d85e-50cd4c96bb82",
        "colab": {
          "base_uri": "https://localhost:8080/",
          "height": 35
        }
      },
      "cell_type": "code",
      "source": [
        "# get the first row of the df and verify that maker_name is nan\n",
        "row1 = df.iloc[0, :]\n",
        "pd.isna(row1['maker_id'])"
      ],
      "execution_count": 0,
      "outputs": [
        {
          "output_type": "execute_result",
          "data": {
            "text/plain": [
              "True"
            ]
          },
          "metadata": {
            "tags": []
          },
          "execution_count": 247
        }
      ]
    },
    {
      "metadata": {
        "id": "CF0PgQ9DKL2E",
        "colab_type": "code",
        "outputId": "8db71e0d-e7f0-4660-a136-a4bc4b91f76a",
        "colab": {
          "base_uri": "https://localhost:8080/",
          "height": 576
        }
      },
      "cell_type": "code",
      "source": [
        "# get the tail of the df to verify that other makers have their id unaltered\n",
        "df.tail()"
      ],
      "execution_count": 0,
      "outputs": [
        {
          "output_type": "execute_result",
          "data": {
            "text/plain": [
              "                                           device_notes maker_name  maker_id  \\\n",
              "9531  {'features': '- Organizer- Voice memo', 'batte...        ZTE     113.0   \n",
              "9532  {'features': '- Organizer- Voice memo', 'batte...        ZTE     113.0   \n",
              "9533  {'features': '- Organizer- Voice memo', 'batte...        ZTE     113.0   \n",
              "9534  {'features': '- Organizer- Voice memo', 'batte...        ZTE     113.0   \n",
              "9535  {'network': 'GSM 850 / 1900', 'camera': 'No', ...        ZTE     113.0   \n",
              "\n",
              "     device_id      device_name  \\\n",
              "9531   ZTE_245             F600   \n",
              "9532   ZTE_246             F103   \n",
              "9533   ZTE_247             F101   \n",
              "9534   ZTE_248             F100   \n",
              "9535   ZTE_249  Coral200 Sollar   \n",
              "\n",
              "                                            device_info  \\\n",
              "9531  ZTE F600 phone. Announced  2009. Features 2.4″...   \n",
              "9532  ZTE F103 phone. Announced  2009. Features 2.0″...   \n",
              "9533  ZTE F101 phone. Announced  2009. Features 2.0″...   \n",
              "9534  ZTE F100 phone. Announced  2009. Features 2.0″...   \n",
              "9535  ZTE Coral200 Sollar phone. Announced May 2007....   \n",
              "\n",
              "                                        device_img_link  \\\n",
              "9531   https://cdn2.gsmarena.com/vv/bigpic/zte-f600.jpg   \n",
              "9532   https://cdn2.gsmarena.com/vv/bigpic/zte-f103.jpg   \n",
              "9533   https://cdn2.gsmarena.com/vv/bigpic/zte-f101.jpg   \n",
              "9534   https://cdn2.gsmarena.com/vv/bigpic/zte-f100.jpg   \n",
              "9535  https://cdn2.gsmarena.com/vv/bigpic/zte-coral2...   \n",
              "\n",
              "                                            device_link  \\\n",
              "9531         https://www.gsmarena.com/zte_f600-3102.php   \n",
              "9532         https://www.gsmarena.com/zte_f103-3099.php   \n",
              "9533         https://www.gsmarena.com/zte_f101-3101.php   \n",
              "9534         https://www.gsmarena.com/zte_f100-3100.php   \n",
              "9535  https://www.gsmarena.com/zte_coral200_sollar-3...   \n",
              "\n",
              "                                           device_specs network_technology  \\\n",
              "9531  {'Network': {'Technology': 'GSM / UMTS', '2G b...         GSM / UMTS   \n",
              "9532  {'Network': {'Technology': 'GSM / UMTS', '2G b...         GSM / UMTS   \n",
              "9533  {'Network': {'Technology': 'GSM / UMTS', '2G b...         GSM / UMTS   \n",
              "9534  {'Network': {'Technology': 'GSM / UMTS', '2G b...         GSM / UMTS   \n",
              "9535  {'Network': {'Technology': 'GSM', '2G bands': ...                GSM   \n",
              "\n",
              "           ...        features_messaging      features_games  features_java  \\\n",
              "9531       ...           SMS, MMS, Email  Yes + downloadable  Yes, MIDP 2.0   \n",
              "9532       ...           SMS, MMS, Email  Yes + downloadable  Yes, MIDP 2.0   \n",
              "9533       ...           SMS, MMS, Email  Yes + downloadable  Yes, MIDP 2.0   \n",
              "9534       ...           SMS, MMS, Email  Yes + downloadable  Yes, MIDP 2.0   \n",
              "9535       ...                       SMS                 Yes             No   \n",
              "\n",
              "     sound_alert_types features_clock features_alarm features_languages  \\\n",
              "9531               NaN            NaN            NaN                NaN   \n",
              "9532               NaN            NaN            NaN                NaN   \n",
              "9533               NaN            NaN            NaN                NaN   \n",
              "9534               NaN            NaN            NaN                NaN   \n",
              "9535               NaN            NaN            NaN                NaN   \n",
              "\n",
              "     main_camera_quad selfie_camera_triple main_camera_five  \n",
              "9531              NaN                  NaN              NaN  \n",
              "9532              NaN                  NaN              NaN  \n",
              "9533              NaN                  NaN              NaN  \n",
              "9534              NaN                  NaN              NaN  \n",
              "9535              NaN                  NaN              NaN  \n",
              "\n",
              "[5 rows x 93 columns]"
            ],
            "text/html": [
              "<div>\n",
              "<style scoped>\n",
              "    .dataframe tbody tr th:only-of-type {\n",
              "        vertical-align: middle;\n",
              "    }\n",
              "\n",
              "    .dataframe tbody tr th {\n",
              "        vertical-align: top;\n",
              "    }\n",
              "\n",
              "    .dataframe thead th {\n",
              "        text-align: right;\n",
              "    }\n",
              "</style>\n",
              "<table border=\"1\" class=\"dataframe\">\n",
              "  <thead>\n",
              "    <tr style=\"text-align: right;\">\n",
              "      <th></th>\n",
              "      <th>device_notes</th>\n",
              "      <th>maker_name</th>\n",
              "      <th>maker_id</th>\n",
              "      <th>device_id</th>\n",
              "      <th>device_name</th>\n",
              "      <th>device_info</th>\n",
              "      <th>device_img_link</th>\n",
              "      <th>device_link</th>\n",
              "      <th>device_specs</th>\n",
              "      <th>network_technology</th>\n",
              "      <th>...</th>\n",
              "      <th>features_messaging</th>\n",
              "      <th>features_games</th>\n",
              "      <th>features_java</th>\n",
              "      <th>sound_alert_types</th>\n",
              "      <th>features_clock</th>\n",
              "      <th>features_alarm</th>\n",
              "      <th>features_languages</th>\n",
              "      <th>main_camera_quad</th>\n",
              "      <th>selfie_camera_triple</th>\n",
              "      <th>main_camera_five</th>\n",
              "    </tr>\n",
              "  </thead>\n",
              "  <tbody>\n",
              "    <tr>\n",
              "      <th>9531</th>\n",
              "      <td>{'features': '- Organizer- Voice memo', 'batte...</td>\n",
              "      <td>ZTE</td>\n",
              "      <td>113.0</td>\n",
              "      <td>ZTE_245</td>\n",
              "      <td>F600</td>\n",
              "      <td>ZTE F600 phone. Announced  2009. Features 2.4″...</td>\n",
              "      <td>https://cdn2.gsmarena.com/vv/bigpic/zte-f600.jpg</td>\n",
              "      <td>https://www.gsmarena.com/zte_f600-3102.php</td>\n",
              "      <td>{'Network': {'Technology': 'GSM / UMTS', '2G b...</td>\n",
              "      <td>GSM / UMTS</td>\n",
              "      <td>...</td>\n",
              "      <td>SMS, MMS, Email</td>\n",
              "      <td>Yes + downloadable</td>\n",
              "      <td>Yes, MIDP 2.0</td>\n",
              "      <td>NaN</td>\n",
              "      <td>NaN</td>\n",
              "      <td>NaN</td>\n",
              "      <td>NaN</td>\n",
              "      <td>NaN</td>\n",
              "      <td>NaN</td>\n",
              "      <td>NaN</td>\n",
              "    </tr>\n",
              "    <tr>\n",
              "      <th>9532</th>\n",
              "      <td>{'features': '- Organizer- Voice memo', 'batte...</td>\n",
              "      <td>ZTE</td>\n",
              "      <td>113.0</td>\n",
              "      <td>ZTE_246</td>\n",
              "      <td>F103</td>\n",
              "      <td>ZTE F103 phone. Announced  2009. Features 2.0″...</td>\n",
              "      <td>https://cdn2.gsmarena.com/vv/bigpic/zte-f103.jpg</td>\n",
              "      <td>https://www.gsmarena.com/zte_f103-3099.php</td>\n",
              "      <td>{'Network': {'Technology': 'GSM / UMTS', '2G b...</td>\n",
              "      <td>GSM / UMTS</td>\n",
              "      <td>...</td>\n",
              "      <td>SMS, MMS, Email</td>\n",
              "      <td>Yes + downloadable</td>\n",
              "      <td>Yes, MIDP 2.0</td>\n",
              "      <td>NaN</td>\n",
              "      <td>NaN</td>\n",
              "      <td>NaN</td>\n",
              "      <td>NaN</td>\n",
              "      <td>NaN</td>\n",
              "      <td>NaN</td>\n",
              "      <td>NaN</td>\n",
              "    </tr>\n",
              "    <tr>\n",
              "      <th>9533</th>\n",
              "      <td>{'features': '- Organizer- Voice memo', 'batte...</td>\n",
              "      <td>ZTE</td>\n",
              "      <td>113.0</td>\n",
              "      <td>ZTE_247</td>\n",
              "      <td>F101</td>\n",
              "      <td>ZTE F101 phone. Announced  2009. Features 2.0″...</td>\n",
              "      <td>https://cdn2.gsmarena.com/vv/bigpic/zte-f101.jpg</td>\n",
              "      <td>https://www.gsmarena.com/zte_f101-3101.php</td>\n",
              "      <td>{'Network': {'Technology': 'GSM / UMTS', '2G b...</td>\n",
              "      <td>GSM / UMTS</td>\n",
              "      <td>...</td>\n",
              "      <td>SMS, MMS, Email</td>\n",
              "      <td>Yes + downloadable</td>\n",
              "      <td>Yes, MIDP 2.0</td>\n",
              "      <td>NaN</td>\n",
              "      <td>NaN</td>\n",
              "      <td>NaN</td>\n",
              "      <td>NaN</td>\n",
              "      <td>NaN</td>\n",
              "      <td>NaN</td>\n",
              "      <td>NaN</td>\n",
              "    </tr>\n",
              "    <tr>\n",
              "      <th>9534</th>\n",
              "      <td>{'features': '- Organizer- Voice memo', 'batte...</td>\n",
              "      <td>ZTE</td>\n",
              "      <td>113.0</td>\n",
              "      <td>ZTE_248</td>\n",
              "      <td>F100</td>\n",
              "      <td>ZTE F100 phone. Announced  2009. Features 2.0″...</td>\n",
              "      <td>https://cdn2.gsmarena.com/vv/bigpic/zte-f100.jpg</td>\n",
              "      <td>https://www.gsmarena.com/zte_f100-3100.php</td>\n",
              "      <td>{'Network': {'Technology': 'GSM / UMTS', '2G b...</td>\n",
              "      <td>GSM / UMTS</td>\n",
              "      <td>...</td>\n",
              "      <td>SMS, MMS, Email</td>\n",
              "      <td>Yes + downloadable</td>\n",
              "      <td>Yes, MIDP 2.0</td>\n",
              "      <td>NaN</td>\n",
              "      <td>NaN</td>\n",
              "      <td>NaN</td>\n",
              "      <td>NaN</td>\n",
              "      <td>NaN</td>\n",
              "      <td>NaN</td>\n",
              "      <td>NaN</td>\n",
              "    </tr>\n",
              "    <tr>\n",
              "      <th>9535</th>\n",
              "      <td>{'network': 'GSM 850 / 1900', 'camera': 'No', ...</td>\n",
              "      <td>ZTE</td>\n",
              "      <td>113.0</td>\n",
              "      <td>ZTE_249</td>\n",
              "      <td>Coral200 Sollar</td>\n",
              "      <td>ZTE Coral200 Sollar phone. Announced May 2007....</td>\n",
              "      <td>https://cdn2.gsmarena.com/vv/bigpic/zte-coral2...</td>\n",
              "      <td>https://www.gsmarena.com/zte_coral200_sollar-3...</td>\n",
              "      <td>{'Network': {'Technology': 'GSM', '2G bands': ...</td>\n",
              "      <td>GSM</td>\n",
              "      <td>...</td>\n",
              "      <td>SMS</td>\n",
              "      <td>Yes</td>\n",
              "      <td>No</td>\n",
              "      <td>NaN</td>\n",
              "      <td>NaN</td>\n",
              "      <td>NaN</td>\n",
              "      <td>NaN</td>\n",
              "      <td>NaN</td>\n",
              "      <td>NaN</td>\n",
              "      <td>NaN</td>\n",
              "    </tr>\n",
              "  </tbody>\n",
              "</table>\n",
              "<p>5 rows × 93 columns</p>\n",
              "</div>"
            ]
          },
          "metadata": {
            "tags": []
          },
          "execution_count": 248
        }
      ]
    },
    {
      "metadata": {
        "id": "a-eqs1ZbC4tI",
        "colab_type": "code",
        "outputId": "e9df5fa4-31d5-444b-8e35-58dfbf4ee1ec",
        "colab": {
          "base_uri": "https://localhost:8080/",
          "height": 1817
        }
      },
      "cell_type": "code",
      "source": [
        "# take a look at the shape of the dataset and the columns\n",
        "print(df.shape)\n",
        "print(df.info())"
      ],
      "execution_count": 0,
      "outputs": [
        {
          "output_type": "stream",
          "text": [
            "(9536, 93)\n",
            "<class 'pandas.core.frame.DataFrame'>\n",
            "RangeIndex: 9536 entries, 0 to 9535\n",
            "Data columns (total 93 columns):\n",
            "device_notes                9535 non-null object\n",
            "maker_name                  9536 non-null object\n",
            "maker_id                    9436 non-null float64\n",
            "device_id                   9536 non-null object\n",
            "device_name                 9536 non-null object\n",
            "device_info                 9536 non-null object\n",
            "device_img_link             9536 non-null object\n",
            "device_link                 9536 non-null object\n",
            "device_specs                9536 non-null object\n",
            "network_technology          9536 non-null object\n",
            "network_2g_bands            9521 non-null object\n",
            "network_3g_bands            5728 non-null object\n",
            "network_4g_bands            2392 non-null object\n",
            "network_speed               5755 non-null object\n",
            "network_gprs                9504 non-null object\n",
            "network_edge                9513 non-null object\n",
            "launch_announced            9520 non-null object\n",
            "launch_status               9536 non-null object\n",
            "body_dimensions             9516 non-null object\n",
            "body_weight                 9445 non-null object\n",
            "body_build                  662 non-null object\n",
            "body_sim                    9535 non-null object\n",
            "display_type                9532 non-null object\n",
            "display_size                8316 non-null object\n",
            "display_resolution          9493 non-null object\n",
            "display_protection          1734 non-null object\n",
            "platform_os                 5790 non-null object\n",
            "platform_chipset            4537 non-null object\n",
            "platform_cpu                5724 non-null object\n",
            "platform_gpu                4419 non-null object\n",
            "memory_card_slot            9536 non-null object\n",
            "memory_internal             7781 non-null object\n",
            "main_camera_triple          34 non-null object\n",
            "main_camera_features        4943 non-null object\n",
            "main_camera_video           8241 non-null object\n",
            "selfie_camera_single        4859 non-null object\n",
            "selfie_camera_features      773 non-null object\n",
            "selfie_camera_video         1074 non-null object\n",
            "sound_loudspeaker           9536 non-null object\n",
            "sound_3.5mm_jack            9468 non-null object\n",
            "comms_wlan                  9533 non-null object\n",
            "comms_bluetooth             9517 non-null object\n",
            "comms_gps                   9506 non-null object\n",
            "comms_nfc                   1039 non-null object\n",
            "comms_radio                 9425 non-null object\n",
            "comms_usb                   8627 non-null object\n",
            "features_sensors            5463 non-null object\n",
            "battery_charging            756 non-null object\n",
            "misc_colors                 8931 non-null object\n",
            "misc_price                  5712 non-null object\n",
            "tests_performance           430 non-null object\n",
            "tests_display               598 non-null object\n",
            "tests_camera                738 non-null object\n",
            "tests_loudspeaker           874 non-null object\n",
            "tests_audio_quality         801 non-null object\n",
            "tests_battery_life          572 non-null object\n",
            "banner_released_hl          9536 non-null object\n",
            "banner_body_hl              9261 non-null object\n",
            "banner_os_hl                9536 non-null object\n",
            "banner_storage_hl           9536 non-null object\n",
            "banner_device_popularity    9536 non-null object\n",
            "banner_device_hits          9536 non-null object\n",
            "banner_displaysize_hl       8297 non-null object\n",
            "banner_displayres_hl        9493 non-null object\n",
            "banner_camerapixels_hl      8317 non-null object\n",
            "banner_videopixels_hl       9379 non-null object\n",
            "banner_ramsize_hl           5490 non-null object\n",
            "banner_chipset_hl           4537 non-null object\n",
            "banner_batsize_hl           9021 non-null object\n",
            "banner_battype_hl           9450 non-null object\n",
            "main_camera_single          7914 non-null object\n",
            "battery_talk_time           7121 non-null object\n",
            "battery_stand_by            6826 non-null object\n",
            "misc_sar_eu                 2384 non-null object\n",
            "battery_music_play          754 non-null object\n",
            "misc_sar                    2015 non-null object\n",
            "features_browser            3686 non-null object\n",
            "body_keyboard               706 non-null object\n",
            "main_camera_dual            359 non-null object\n",
            "comms_infrared_port         1030 non-null object\n",
            "selfie_camera_dual          69 non-null object\n",
            "memory_phonebook            3679 non-null object\n",
            "memory_call_records         3605 non-null object\n",
            "features_messaging          3745 non-null object\n",
            "features_games              3683 non-null object\n",
            "features_java               3692 non-null object\n",
            "sound_alert_types           2468 non-null object\n",
            "features_clock              488 non-null object\n",
            "features_alarm              488 non-null object\n",
            "features_languages          277 non-null object\n",
            "main_camera_quad            3 non-null object\n",
            "selfie_camera_triple        1 non-null object\n",
            "main_camera_five            1 non-null object\n",
            "dtypes: float64(1), object(92)\n",
            "memory usage: 6.8+ MB\n",
            "None\n"
          ],
          "name": "stdout"
        }
      ]
    },
    {
      "metadata": {
        "id": "0gj2HQ4OSDIi",
        "colab_type": "text"
      },
      "cell_type": "markdown",
      "source": [
        "### Parsing Data"
      ]
    },
    {
      "metadata": {
        "id": "TcEtqDcZSW7Y",
        "colab_type": "text"
      },
      "cell_type": "markdown",
      "source": [
        "In the previous step, we managed to build what I call a \"skeleton\" version of the dataset. The name implies that it has all of the bare bones components necessary for exploratory data analysis, which will be the topic of the next tutorial. However, we need to parse the data points first. All the data are currently strings and we need to write functions to extract and format the data in type that we want.\n",
        "\n",
        "TOo help do this we will use a new class called **ParserFunctions** which will be inherited by **FeatureGen**"
      ]
    },
    {
      "metadata": {
        "id": "f_aM3ytDYEzq",
        "colab_type": "code",
        "colab": {}
      },
      "cell_type": "code",
      "source": [
        "# create a class for housing the parsing functions\n",
        "\n",
        "class ParsingFunctions:\n",
        "  '''A class for housing all the parsing function which will be used on device specs data'''\n",
        "  pass"
      ],
      "execution_count": 0,
      "outputs": []
    },
    {
      "metadata": {
        "id": "ITkfMygZZPwN",
        "colab_type": "text"
      },
      "cell_type": "markdown",
      "source": [
        "If we take a look at the data under any device, we can see that the **banner_SPEC_hl** contain repeated information from the other specs. The reason I chose to extract these features is that they make the parsing of certain types of data easier. A prime example of this is the feature **banner_batsize_hl** which tells us the [capacity](http://web.mit.edu/evt/summary_battery_specifications.pdf) of the phone's battery in *mAh* without the need to parse any extra string. While writing regular expressions can be fun, to do it for this many features is a very time consuming process and we should take any help we can. By using the banner feature, simply need to convert the string into an **np.float64** object in order to make it usable for statistical analysis and data visualization.\n",
        "\n",
        "Since we will be defining parsing functions for a large number of features, I will not be going through each one in detail. I will show you how you can define your own parsing functions for two features using **ParsingFunctions** and I **highly suggest** that you use use the comments and the functions' docstring to understand how the rest work."
      ]
    },
    {
      "metadata": {
        "id": "eEizDS37b7df",
        "colab_type": "code",
        "colab": {}
      },
      "cell_type": "code",
      "source": [
        "class ParsingFunctions:\n",
        "  '''A class for housing all the parsing function which will be used on device specs data'''\n",
        "  \n",
        "  # all specs passed into FunctionGen will also be passed into ParsingFunctions\n",
        "  # we will create a list which contains the name of the spec_values which we want to parse\n",
        "  # the feature will only be parsed if the name is on the list\n",
        "  allow_parsing = ['banner_batsize_hl', 'banner_displayres_hl']\n",
        "  \n",
        "  \n",
        "  def parse_spec(self, spec_, value):\n",
        "    '''A function for parsing each of the spec to get the information we want\n",
        "       This function is meant to be called on each iteration of banner_spec/value pair\n",
        "    '''\n",
        "    # check if spec_ is the in the allow_parsing list\n",
        "    if spec_ in ParsingFunctions.allow_parsing:\n",
        "      # parsing function for a feature MUST be stored as a function of the name, parse_feature_name\n",
        "      # for example, parse_banner_batsize_hl is the parsing function for the feature banner_batsize_hl\n",
        "      parsing_function_name = 'parse_' + spec_\n",
        "      parsing_function = getattr(self, parsing_function_name)\n",
        "      parsed_values = parsing_function(value)\n",
        "      # parsing functions will be written in such a way that the features and values are part of a dict\n",
        "      for feature_name, feature_value in parsed_values.items():\n",
        "        setattr(self, feature_name, feature_value)\n",
        "        self.set_all_features(feature_name)\n",
        "        self.create_feature(feature_name)\n",
        "    # if spec_ in not in the allow_parsing list, simply set the value current value of the spec\n",
        "    else:\n",
        "      setattr(self, spec_, value)\n",
        "      self.set_all_features(spec_)\n",
        "      self.create_feature(spec_)\n",
        "        \n",
        "        \n",
        "        \n",
        "  def parse_banner_batsize_hl(self, value):\n",
        "    '''A function for parsing the batsize_hl\n",
        "\n",
        "       Takes in str '3800' and returns the np.floats64 3800\n",
        "    '''\n",
        "    return {'batsize':np.float64(value)}\n",
        "  \n",
        "  \n",
        "  def parse_banner_displayres_hl(self, value):\n",
        "    '''A function for parsing the displayres_hl\n",
        "    \n",
        "       Takes in str '1280x1920 pixels' and returns two np.float64's for the length and height of the screen\n",
        "    '''\n",
        "    res_pattern = re.compile('(\\d+)x(\\d+)')\n",
        "    return_val =  re.findall(res_pattern, value)\n",
        "    feature_names = ['displayres_len', 'displayres_height']\n",
        "    if not return_val:\n",
        "      return {'displayres_len':np.NaN, 'displayres_height':np.NaN}\n",
        "    else:\n",
        "      return  {name:np.float64(i) for name, i  in zip(feature_names, return_val[0])}"
      ],
      "execution_count": 0,
      "outputs": []
    },
    {
      "metadata": {
        "id": "8whNjLnlfv31",
        "colab_type": "code",
        "colab": {}
      },
      "cell_type": "code",
      "source": [
        "class FeatureGen(ParsingFunctions):\n",
        "  '''FeatureGen will contain a dict of all features from all the devices called all_features_dict\n",
        "  \n",
        "     It also contains a collection of useful methods for parsing data from a Devices object\n",
        "  '''\n",
        "  \n",
        "  # initialize a collector dictionary to collect features from all devices\n",
        "  # out dict will have a feature called device_notes for collecting specs where the key is nan\n",
        "  all_features_dict = {'device_notes':None}\n",
        "  \n",
        "  def gen_from_dict(self, spec_value, spec_name):\n",
        "    '''A function for generating more features from the value of a spec if the spec_value is also a dict'''\n",
        "    for key, value in spec_value.items():\n",
        "      if pd.isna(key):\n",
        "        key = 'nan'\n",
        "      if pd.isna(value):\n",
        "        value = 'nan'\n",
        "      key_ = self.split_string(key)\n",
        "      # in some cases, the spec_ is NaN or '' and in other case the value is nan or ''\n",
        "      # account for these cases \n",
        "      # don't take any action, this is a waste attribute, we don't want to add it to the feature list of a device\n",
        "      if (key_ == 'nan' or key_ == '') and (value == '' or value == 'nan'):\n",
        "        pass\n",
        "      # if key is 'NaN' or '', but the value is not, we want to create a note about the value under device_notes\n",
        "      elif (key_ == 'nan' or key_ == '') and (value != '' or value != 'nan'):\n",
        "        # create a new note using the key and value which is of the format 'battery_-This device has great battery life'\n",
        "        self.device_notes.setdefault(spec_name, value)\n",
        "      # if the key is not empty and the value is, we do not want this spec\n",
        "      elif (key_ != 'nan' or key_ != '') and (value == '' or value == 'nan'):\n",
        "        pass\n",
        "      # if none of the above issues are there, we can add the feature as an attribute of the device\n",
        "      else:\n",
        "        new_key = spec_name + '_' + key_\n",
        "        self.parse_spec(new_key, value)"
      ],
      "execution_count": 0,
      "outputs": []
    },
    {
      "metadata": {
        "id": "qqJ80z21f0XP",
        "colab_type": "code",
        "colab": {}
      },
      "cell_type": "code",
      "source": [
        "class Device(FeatureGen):\n",
        "  '''A class for working with device data scrapped on GSMArena''' \n",
        "  # we want to initalize list to keep track of all the features collected for THIS device\n",
        "  features_list = []\n",
        "  \n",
        "  # initliaze the class using a device \n",
        "  def __init__(self, device, device_id, maker_name, maker_id):\n",
        "    self.maker_name = maker_name\n",
        "    self.create_feature('maker_name')\n",
        "    self.set_all_features('maker_name')\n",
        "    \n",
        "    self.maker_id = maker_id\n",
        "    self.create_feature('maker_id')\n",
        "    self.set_all_features('maker_id')\n",
        "    \n",
        "    self.device_id = device_id\n",
        "    self.create_feature('device_id')\n",
        "    self.set_all_features('device_id')\n",
        "    \n",
        "    # set the device_info as attributes of the Device \n",
        "    for device_info_name, device_info in device.items():\n",
        "      # emulates the functionality of self.varable = value\n",
        "      setattr(self, device_info_name, device_info)\n",
        "      self.create_feature(device_info_name)\n",
        "      self.set_all_features(device_info_name)\n",
        "    \n",
        "      \n",
        "    self.device_notes = {}\n",
        "    for spec, value in device['device_specs'].items():\n",
        "      spec_ = self.split_string(spec)\n",
        "#       print(spec_ , ':  ',value)\n",
        "      if isinstance(value, dict):\n",
        "        self.gen_from_dict(value, spec_)\n",
        "        self.create_feature(spec_)\n",
        "      else:\n",
        "        setattr(self, spec_, value)\n",
        "      \n",
        "      \n",
        "  def split_string(self, spec_name):\n",
        "    '''A function for changing the ' ' and '-' demlimiter\n",
        "       in a spec_name to  '_'\n",
        "       \n",
        "       Given 'Selfie Camera', returns selfie_camera\n",
        "    '''\n",
        "    split_spec_pattern = re.compile('\\s|-|–')\n",
        "    split_specs = re.split(split_spec_pattern, spec_name)\n",
        "    return '_'.join(split_specs).lower()\n",
        "  \n",
        "  \n",
        "  def create_feature(self, spec_name):\n",
        "    '''A function that allows us to consolidate the names of all features recovered from the GIVEN device'''\n",
        "    if spec_name not in self.features_list:\n",
        "      self.features_list.append(spec_name)\n",
        "      \n",
        "      \n",
        "  def set_all_features(self, spec_name):\n",
        "    '''A function that allows us to consolidate the names of all features recovered from ALL devices'''\n",
        "    if spec_name not in FeatureGen.all_features_dict:\n",
        "      FeatureGen.all_features_dict.setdefault(spec_name, None)"
      ],
      "execution_count": 0,
      "outputs": []
    },
    {
      "metadata": {
        "id": "8xbJe8o7hp1d",
        "colab_type": "text"
      },
      "cell_type": "markdown",
      "source": [
        "Repeat the same process we saw earlier to create a new **Device** object"
      ]
    },
    {
      "metadata": {
        "id": "mIOia4QshhCx",
        "colab_type": "code",
        "outputId": "7c6eadda-f75e-41d0-edaf-aedb1a2aeecd",
        "colab": {
          "base_uri": "https://localhost:8080/",
          "height": 91
        }
      },
      "cell_type": "code",
      "source": [
        "maker_name = 'Samsung'\n",
        "\n",
        "# get Samsung's maker_id form the list we just created\n",
        "for maker in makers:\n",
        "  if maker[1] == maker_name:\n",
        "    maker_id = maker[0]\n",
        "    \n",
        "print(maker_id)\n",
        "\n",
        "# get the data for Galaxy S10 from the devices_dict \n",
        "device_name = 'Galaxy S10'\n",
        "for device_num, device in devices_dict[maker_name].items():\n",
        "  if device['device_name'] == device_name:\n",
        "    device_id = maker_name.upper() + '_' + device_num \n",
        "    break\n",
        "    \n",
        "print(device_id)\n",
        "print(device)"
      ],
      "execution_count": 0,
      "outputs": [
        {
          "output_type": "stream",
          "text": [
            "84\n",
            "SAMSUNG_3\n",
            "{'device_name': 'Galaxy S10', 'device_info': 'Samsung Galaxy S10 Android smartphone. Announced Feb 2019. Features 6.1″ Dynamic AMOLED display, Exynos 9820 Octa chipset, 3400 mAh battery, 512 GB storage, 8 GB RAM, Corning Gorilla Glass 6.', 'device_img_link': 'https://cdn2.gsmarena.com/vv/bigpic/samsung-galaxy-s10.jpg', 'device_link': 'https://www.gsmarena.com/samsung_galaxy_s10-9536.php', 'device_specs': {'Network': {'Technology': 'GSM / CDMA / HSPA / EVDO / LTE', '2G bands': 'GSM 850 / 900 / 1800 / 1900 - SIM 1 & SIM 2 (dual-SIM model only)', 'NaN': 'CDMA 800 / 1900 - USA', '3G bands': 'HSDPA 850 / 900 / 1700(AWS) / 1900 / 2100 - Global, USA', '4G bands': 'LTE band 1(2100), 2(1900), 3(1800), 4(1700/2100), 5(850), 7(2600), 8(900), 12(700), 13(700), 17(700), 18(800), 19(800), 20(800), 25(1900), 26(850), 28(700), 32(1500), 38(2600), 39(1900), 40(2300), 41(2500), 66(1700/2100) - Global', 'Speed': 'HSPA 42.2/5.76 Mbps, LTE-A (7CA) Cat20 2000/150 Mbps', 'GPRS': 'Yes', 'EDGE': 'Yes'}, 'Launch': {'Announced': '2019, February', 'Status': 'Coming soon. Exp. release 2019, March 8'}, 'Body': {'Dimensions': '149.9 x 70.4 x 7.8 mm (5.90 x 2.77 x 0.31 in)', 'Weight': '157 g (5.54 oz)', 'Build': 'Back glass (Gorilla Glass 5), aluminum frame', 'SIM': 'Single SIM (Nano-SIM) or Hybrid Dual SIM (Nano-SIM, dual stand-by)', 'NaN': '- Samsung Pay (Visa, MasterCard certified)- IP68 dust/water proof (up to 1.5m for 30 mins)'}, 'Display': {'Type': 'Dynamic AMOLED capacitive touchscreen, 16M colors', 'Size': '6.1 inches, 93.2 cm2(~88.3% screen-to-body ratio)', 'Resolution': '1440 x 3040 pixels, 19:9 ratio (~550 ppi density)', 'Protection': 'Corning Gorilla Glass 6', 'NaN': '- HDR10+- Always-on display'}, 'Platform': {'OS': 'Android 9.0 (Pie); One UI', 'Chipset': 'Exynos 9820 Octa (8 nm) - EMEAQualcomm SDM855 Snapdragon 855 (7 nm) - USA/LATAM, China', 'CPU': 'Octa-core (2x2.73 GHz Mongoose M4 & 2x2.31 GHz Cortex-A75 & 4x1.95 GHz Cortex-A55) - EMEAOcta-core (1x2.84 GHz Kryo 485 & 3x2.41 GHz Kryo 485 & 4x1.78 GHz Kryo 485) - USA/LATAM, China', 'GPU': 'Mali-G76 MP12 - EMEAAdreno 640 - USA/LATAM, China'}, 'Memory': {'Card slot': 'microSD, up to 512 GB (uses SIM 2 slot) - dual SIM model only', 'Internal': '128/512 GB, 8 GB RAM'}, 'Main Camera': {'Triple': '12 MP, f/1.5-2.4, 26mm (wide), 1/2.55\", 1.4µm, Dual Pixel PDAF, OIS12 MP, f/2.4, 52mm (telephoto), 1/3.6\", 1.0µm, AF, OIS, 2x optical zoom16 MP, f/2.2, 12mm (ultrawide), 1.0µm', 'Features': 'LED flash, auto-HDR, panorama', 'Video': '2160p@60fps, 1080p@240fps, 720p@960fps, HDR, dual-video rec.'}, 'Selfie camera': {'Single': '10 MP, f/1.9, 26mm (wide), 1.22µm, Dual Pixel PDAF', 'Features': 'Dual video call, Auto-HDR', 'Video': '2160p@30fps, 1080p@30fps'}, 'Sound': {'Loudspeaker': 'Yes, with stereo speakers', '3.5mm jack': 'Yes', 'NaN': '- 32-bit/384kHz audio- Active noise cancellation with dedicated mic- Dolby Atmos/AKG sound'}, 'Comms': {'WLAN': 'Wi-Fi 802.11 a/b/g/n/ac/ax, dual-band, Wi-Fi Direct, hotspot', 'Bluetooth': '5.0, A2DP, LE, aptX', 'GPS': 'Yes, with A-GPS, GLONASS, BDS, GALILEO', 'NFC': 'Yes', 'Radio': 'FM radio (USA & Canada only)', 'USB': '3.1, Type-C 1.0 reversible connector'}, 'Features': {'Sensors': 'Fingerprint (under display), accelerometer, gyro, proximity, compass, barometer, heart rate, SpO2', 'NaN': '- ANT+- Bixby natural language commands and dictation- Samsung DeX (desktop experience support)'}, 'Battery': {'NaN': 'Non-removable Li-Ion 3400 mAh battery', 'Charging': 'Fast battery charging 15WFast wireless charging 15WPower bank/Reverse wireless charging 9W'}, 'Misc': {'Colors': 'Prism White, Prism Black, Prism Green, Prism Blue, Canary Yellow, Flamingo Pink', 'Price': 'About 930 EUR'}, 'Tests': {'Performance': 'Basemark OS II: 4539 / Basemark OS II 2.0: 4465Basemark X: 44097', 'Display': 'Contrast ratio: Infinite (nominal), 4.498 (sunlight)', 'Camera': 'Photo/Video', 'Loudspeaker': 'Voice 82dB / Noise 74dB / Ring 85dB', 'Audio quality': 'Noise -92.2dB / Crosstalk -92.7dB', 'Battery life': 'Endurance rating 79h', 'NaN': nan}, 'Banner': {'released-hl': 'Exp. release 2019, March 8', 'body-hl': '157g, 7.8mm thickness', 'os-hl': 'Android 9.0; One UI', 'storage-hl': '128/512GB storage, microSD card slot', 'device_popularity': ' 54%', 'device_hits': '1,491,081 hits', 'displaysize-hl': '6.1\"', 'displayres-hl': '1440x3040 pixels', 'camerapixels-hl': '16', 'videopixels-hl': '2160p', 'ramsize-hl': '8', 'chipset-hl': 'Exynos 9820 Octa', 'batsize-hl': '3400', 'battype-hl': 'Li-Ion'}, 'Opinions': '283'}}\n"
          ],
          "name": "stdout"
        }
      ]
    },
    {
      "metadata": {
        "id": "IJrmdhdRhzTc",
        "colab_type": "code",
        "colab": {}
      },
      "cell_type": "code",
      "source": [
        "device1 = Device(device, device_id, maker_name, maker_id)"
      ],
      "execution_count": 0,
      "outputs": []
    },
    {
      "metadata": {
        "id": "6ekpfGLCh7CI",
        "colab_type": "code",
        "outputId": "d33ff4e2-51a6-474b-e63e-d736d6842dd7",
        "colab": {
          "base_uri": "https://localhost:8080/",
          "height": 55
        }
      },
      "cell_type": "code",
      "source": [
        "# check that the the data was parsed properly\n",
        "type(device1.batsize)\n",
        "type(device1.displayres_height)\n",
        "type(device1.displayres_len)\n",
        "\n",
        "print('device_name: {} | batsize: {}, {} | displayres_height: {}, {} | displayres_len: {}, {}'\n",
        "      .format(device1.device_name, device1.batsize, type(device1.batsize)\n",
        "             , device1.displayres_height, type(device1.displayres_height)\n",
        "             , device1.displayres_len, type(device1.displayres_len)\n",
        "             ) \n",
        "     )"
      ],
      "execution_count": 0,
      "outputs": [
        {
          "output_type": "stream",
          "text": [
            "device_name: Galaxy S10 | batsize: 3400.0, <class 'numpy.float64'> | displayres_height: 3040.0, <class 'numpy.float64'> | displayres_len: 1440.0, <class 'numpy.float64'>\n"
          ],
          "name": "stdout"
        }
      ]
    },
    {
      "metadata": {
        "id": "dXAyTiPGpMOy",
        "colab_type": "text"
      },
      "cell_type": "markdown",
      "source": [
        "### Creating Your Own Parsing Functions"
      ]
    },
    {
      "metadata": {
        "id": "lsN4Y1Y02jIx",
        "colab_type": "text"
      },
      "cell_type": "markdown",
      "source": [
        "Since each person using this dataset will have their own set of questions to answer, it would be best if we can modify the functionality of  the **ParsingFunctions**  class to take in a list of user defined parsing functions which will then be applied to appropriate colum to get the feature that we want.\n",
        "\n",
        "To acheive this, we create a new *classmethod* called **add_new_parser** which can take in either a single function or a list of functions. To parse a device attribute when the device is created, we first need to initialize **ParsingFunctions** by calling the **add_new_parser** method as shown in the code below.\n",
        "\n",
        "**NOTE:** The two parsing function we defined earlier are no longer defined in the **ParsingFunctions** class. The fact that they are user defined offers us a lot of flexibility.  The features to be parsed in the **allow_parsing** list are also also populated by the **add_new_parser** method. "
      ]
    },
    {
      "metadata": {
        "id": "IRIm-kkL2X-w",
        "colab_type": "code",
        "colab": {}
      },
      "cell_type": "code",
      "source": [
        "class ParsingFunctions:\n",
        "  '''A class for housing all the parsing function which will be used on device specs data'''\n",
        "  \n",
        "  # a list to keep track of which features have parsing functions\n",
        "  allow_parsing = []\n",
        "  \n",
        "  def parse_spec(self, spec_, value):\n",
        "    '''A function for parsing each of the spec to get the information we want\n",
        "       This function is meant to be called on each iteration of banner_spec/value pair\n",
        "    '''\n",
        "    # check if spec_ is the in the allow_parsing list\n",
        "    if spec_ in ParsingFunctions.allow_parsing:\n",
        "      # parsing function for a feature MUST be stored as a function of the name, parse_feature_name\n",
        "      # for example, parse_banner_batsize_hl is the parsing function for the feature banner_batsize_hl\n",
        "      parsing_function_name = 'parse_' + spec_\n",
        "      parsing_function = getattr(ParsingFunctions, parsing_function_name)\n",
        "      parsed_values = parsing_function(value)\n",
        "      # parsing functions will be written in such a way that the features and values are part of a dict\n",
        "      for feature_name, feature_value in parsed_values.items():\n",
        "        setattr(self, feature_name, feature_value)\n",
        "        self.set_all_features(feature_name)\n",
        "        self.create_feature(feature_name)\n",
        "    # if spec_ in not in the allow_parsing list, simply set the value current value of the spec\n",
        "    else:\n",
        "      setattr(self, spec_, value)\n",
        "      self.set_all_features(spec_)\n",
        "      self.create_feature(spec_)\n",
        "      \n",
        "  @classmethod   \n",
        "  def add_new_parsers(cls, new_parsers):\n",
        "    '''A function for creating user defined parsers, initiliaze new parsers before calling Device\n",
        "    \n",
        "       Accepts a single function or a list of functions   \n",
        "    '''\n",
        "    # if a list of parsers is provided, check if each parser is a function that follows our name format\n",
        "    if isinstance(new_parsers, list):\n",
        "      for n, parser in enumerate(new_parsers):\n",
        "        if not callable(parser):\n",
        "          raise TypeError('parser at index {} in new_parsers must be callable, not of type {}'.format(n, type(parser)))\n",
        "        else:\n",
        "          parsing_function_name = parser.__name__\n",
        "          # slice the name, say parse_batsize_hl at parse_  i.e [6:]\n",
        "          col_name = parsing_function_name[6:]\n",
        "          if col_name not in cls.allow_parsing:\n",
        "            cls.allow_parsing.append(col_name)\n",
        "            setattr(cls, parsing_function_name, parser)\n",
        "          else:\n",
        "            print('WARNING! function for parsing {} already exists! {} was not added'.format(col_name, parsing_function_name))\n",
        "    elif callable(new_parsers):\n",
        "      parsing_function_name = new_parsers.__name__\n",
        "      col_name = parsing_function_name[6:]\n",
        "      if col_name not in cls.allow_parsing:\n",
        "        cls.allow_parsing.append(col_name)\n",
        "        setattr(cls, parsing_function_name, new_parsers)\n",
        "      else:\n",
        "        print('WARNING! function for parsing {} already exists! {} was not added'.format(col_name, parsing_function_name))\n",
        "    else:\n",
        "      raise TypeError('parser must be callable, not of type {}'.format(type(new_parsers)))"
      ],
      "execution_count": 0,
      "outputs": []
    },
    {
      "metadata": {
        "id": "MAiv-DpU6UZI",
        "colab_type": "code",
        "colab": {}
      },
      "cell_type": "code",
      "source": [
        "def parse_banner_batsize_hl(value):\n",
        "  '''A function for parsing the batsize_hl\n",
        "\n",
        "     Takes in str '3800' and returns the np.floats64 3800\n",
        "  '''\n",
        "  return {'batsize':np.float64(value)}\n",
        "\n",
        "  \n",
        "def parse_banner_displayres_hl(value):\n",
        "  '''A function for parsing the displayres_hl\n",
        "\n",
        "     Takes in str '1280x1920 pixels' and returns two np.float64's for the length and height of the screen\n",
        "  '''\n",
        "  res_pattern = re.compile('(\\d+)x(\\d+)')\n",
        "  return_val =  re.findall(res_pattern, value)\n",
        "  feature_names = ['displayres_len', 'displayres_height']\n",
        "  if not return_val:\n",
        "    return {'displayres_len':np.NaN, 'displayres_height':np.NaN}\n",
        "  else:\n",
        "    return  {name:np.float64(i) for name, i  in zip(feature_names, return_val[0])}"
      ],
      "execution_count": 0,
      "outputs": []
    },
    {
      "metadata": {
        "id": "_lg1Qo8I7455",
        "colab_type": "code",
        "outputId": "6aa2fa49-9b73-4b69-9879-45cf77f644f4",
        "colab": {
          "base_uri": "https://localhost:8080/",
          "height": 53
        }
      },
      "cell_type": "code",
      "source": [
        "# add the user defined parsing function to the ParsingFunctions class\n",
        "print(ParsingFunctions.allow_parsing)\n",
        "parsing_functions = [parse_banner_batsize_hl, parse_banner_displayres_hl]\n",
        "ParsingFunctions.add_new_parsers(parsing_functions)\n",
        "print(ParsingFunctions.allow_parsing)"
      ],
      "execution_count": 0,
      "outputs": [
        {
          "output_type": "stream",
          "text": [
            "[]\n",
            "['banner_batsize_hl', 'banner_displayres_hl']\n"
          ],
          "name": "stdout"
        }
      ]
    },
    {
      "metadata": {
        "id": "YgjWq_TP_Tfq",
        "colab_type": "code",
        "outputId": "52a52a40-3576-4261-cfb4-76049a00441a",
        "colab": {
          "base_uri": "https://localhost:8080/",
          "height": 35
        }
      },
      "cell_type": "code",
      "source": [
        "# create a test Device object and test it out\n",
        "device1 = Device(device, device_id, maker_name, maker_id)\n",
        "device1.displayres_height"
      ],
      "execution_count": 0,
      "outputs": [
        {
          "output_type": "execute_result",
          "data": {
            "text/plain": [
              "3040.0"
            ]
          },
          "metadata": {
            "tags": []
          },
          "execution_count": 323
        }
      ]
    },
    {
      "metadata": {
        "id": "5t2Gukk3nmB4",
        "colab_type": "text"
      },
      "cell_type": "markdown",
      "source": [
        "\n",
        "Armed with the [data](https://github.com/vigvisw/end2endml) and the knowledge that you have learned here, you can write a parsing function for any spec in the *devices_data.txt*, as long as you follow the rules below."
      ]
    },
    {
      "metadata": {
        "id": "v9frLnqlowGS",
        "colab_type": "text"
      },
      "cell_type": "markdown",
      "source": [
        "**Rules For Writing Parsing Functions For Devices Data**"
      ]
    },
    {
      "metadata": {
        "id": "0lt3fTTmpWoq",
        "colab_type": "text"
      },
      "cell_type": "markdown",
      "source": [
        "1. Currently parsing functions can only be defined for **specs**. This includes everything we collected on a device's page. I have kept is this way because, these are things which I conisider a device's feature. You can modify the three classes to parse device information such as **device_name**, **maker_name** etc, if you choose.\n",
        "2. The parsing function **must** follow the name format 'parse_' + spec_name. For example, if you are trying to parse the feature **platform_os** as seen in the columns of the *Skeleton Dataset*, the parsing function which you define must be be named **parse_platform_os**.\n",
        "3. The return value of the parsing function **must** be a dictionary of the format **{*new_feature_name*:parsed_value,.........}**. The keys of *new_feature_name* will be used used to create new parsed feature column. **Note** that the **new_feature_name**(s) in the above dictionary will replace the input feature in the **all_features_dict**.\n",
        "4. Each parsing function that you want to use must be first defined and then passed as a list (or use the function object itself, if using only one) to **ParsingFunction.add_new_parsers()** as an argument."
      ]
    },
    {
      "metadata": {
        "id": "IBerGvUNHP9T",
        "colab_type": "text"
      },
      "cell_type": "markdown",
      "source": [
        "### Putting It All Together"
      ]
    },
    {
      "metadata": {
        "id": "h2q0gk3sHj_g",
        "colab_type": "text"
      },
      "cell_type": "markdown",
      "source": [
        "Everything we have made so far can be put together and implemented as a module called **deviceparser**.\n",
        "\n",
        "The full source code is copied below and module, called *deviceparser.py*, can be cloned/download on my [GitHub page](https://github.com/vigvisw/devicedataparser)."
      ]
    },
    {
      "metadata": {
        "id": "IMsHMCtoMx_r",
        "colab_type": "code",
        "colab": {}
      },
      "cell_type": "code",
      "source": [
        "import json\n",
        "import re \n",
        "import numpy as np\n",
        "import pandas as pd"
      ],
      "execution_count": 0,
      "outputs": []
    },
    {
      "metadata": {
        "id": "AA9ZiKxYMyrf",
        "colab_type": "code",
        "colab": {}
      },
      "cell_type": "code",
      "source": [
        "class ParsingFunctions:\n",
        "  '''A class for housing all the parsing function which will be used on device specs data'''\n",
        "  \n",
        "  # a list to keep track of which features have parsing functions\n",
        "  allow_parsing = []\n",
        "  \n",
        "  def parse_spec(self, spec_, value):\n",
        "    '''A function for parsing each of the spec to get the information we want\n",
        "       This function is meant to be called on each iteration of banner_spec/value pair\n",
        "    '''\n",
        "    # check if spec_ is the in the allow_parsing list\n",
        "    if spec_ in ParsingFunctions.allow_parsing:\n",
        "      # parsing function for a feature MUST be stored as a function of the name, parse_feature_name\n",
        "      # for example, parse_banner_batsize_hl is the parsing function for the feature banner_batsize_hl\n",
        "      parsing_function_name = 'parse_' + spec_\n",
        "      parsing_function = getattr(ParsingFunctions, parsing_function_name)\n",
        "      parsed_values = parsing_function(value)\n",
        "      # parsing functions will be written in such a way that the features and values are part of a dict\n",
        "      for feature_name, feature_value in parsed_values.items():\n",
        "        setattr(self, feature_name, feature_value)\n",
        "        self.set_all_features(feature_name)\n",
        "        self.create_feature(feature_name)\n",
        "    # if spec_ in not in the allow_parsing list, simply set the value current value of the spec\n",
        "    else:\n",
        "      setattr(self, spec_, value)\n",
        "      self.set_all_features(spec_)\n",
        "      self.create_feature(spec_)\n",
        "      \n",
        "  @classmethod   \n",
        "  def add_new_parsers(cls, new_parsers):\n",
        "    '''A function for creating user defined parsers, initiliaze new parsers before calling Device\n",
        "    \n",
        "       Accepts a single function or a list of functions   \n",
        "    '''\n",
        "    # if a list of parsers is provided, check if each parser is a function that follows our name format\n",
        "    if isinstance(new_parsers, list):\n",
        "      for n, parser in enumerate(new_parsers):\n",
        "        if not callable(parser):\n",
        "          raise TypeError('parser at index {} in new_parsers must be callable, not of type {}'.format(n, type(parser)))\n",
        "        else:\n",
        "          parsing_function_name = parser.__name__\n",
        "          # slice the name, say parse_batsize_hl at parse_  i.e [6:]\n",
        "          col_name = parsing_function_name[6:]\n",
        "          if col_name not in cls.allow_parsing:\n",
        "            cls.allow_parsing.append(col_name)\n",
        "            setattr(cls, parsing_function_name, parser)\n",
        "          else:\n",
        "            print('WARNING! function for parsing {} already exists! {} was not added'.format(col_name, parsing_function_name))\n",
        "    elif callable(new_parsers):\n",
        "      parsing_function_name = new_parsers.__name__\n",
        "      col_name = parsing_function_name[6:]\n",
        "      if col_name not in cls.allow_parsing:\n",
        "        cls.allow_parsing.append(col_name)\n",
        "        setattr(cls, parsing_function_name, new_parsers)\n",
        "      else:\n",
        "        print('WARNING! function for parsing {} already exists! {} was not added'.format(col_name, parsing_function_name))\n",
        "    else:\n",
        "      raise TypeError('parser must be callable, not of type {}'.format(type(new_parsers)))\n",
        "      \n",
        "  @classmethod\n",
        "  def clear_existing_parsers(cls):\n",
        "    '''A function for clearing current parsers'''\n",
        "    cls.allow_parsing = []\n",
        "    print('All exisiting parsing functions have been cleared!')"
      ],
      "execution_count": 0,
      "outputs": []
    },
    {
      "metadata": {
        "id": "_LfeUgoVM7Ke",
        "colab_type": "code",
        "colab": {}
      },
      "cell_type": "code",
      "source": [
        "class FeatureGen(ParsingFunctions):\n",
        "  '''FeatureGen will contain a dict of all features from all the devices called all_features_dict\n",
        "  \n",
        "     It also contains a collection of useful methods for parsing data from a Devices object\n",
        "  '''\n",
        "  \n",
        "  # initialize a collector dictionary to collect features from all devices\n",
        "  # out dict will have a feature called device_notes for collecting specs where the key is nan\n",
        "  all_features_dict = {'device_notes':None}\n",
        "  \n",
        "  def gen_from_dict(self, spec_value, spec_name):\n",
        "    '''A fnction for generating more features from the value of a spec if the spec_value is also a dict'''\n",
        "    for key, value in spec_value.items():\n",
        "      if pd.isna(key):\n",
        "        key = 'nan'\n",
        "      if pd.isna(value):\n",
        "        value = 'nan'\n",
        "      key_ = self.split_string(key)\n",
        "      # in some cases, the spec_ is NaN or '' and in other case the value is nan or ''\n",
        "      # account for these cases \n",
        "      # don't take any action, this is a waste attribute, we don't want to add it to the feature list of a device\n",
        "      if (key_ == 'nan' or key_ == '') and (value == '' or value == 'nan'):\n",
        "        pass\n",
        "      # if key is 'NaN' or '', but the value is not, we want to create a note about the value under device_notes\n",
        "      elif (key_ == 'nan' or key_ == '') and (value != '' or value != 'nan'):\n",
        "        # create a new note using the key and value which is of the format 'battery_-This device has great battery life'\n",
        "        self.device_notes.setdefault(spec_name, value)\n",
        "      # if the key is not empty and the value is, we do not want this spec\n",
        "      elif (key_ != 'nan' or key_ != '') and (value == '' or value == 'nan'):\n",
        "        pass\n",
        "      # if none of the above issues are there, we can add the feature as an attribute of the device\n",
        "      else:\n",
        "        new_key = spec_name + '_' + key_\n",
        "        self.parse_spec(new_key, value)"
      ],
      "execution_count": 0,
      "outputs": []
    },
    {
      "metadata": {
        "id": "P9RpHjGqM-Qo",
        "colab_type": "code",
        "colab": {}
      },
      "cell_type": "code",
      "source": [
        "class Device(FeatureGen):\n",
        "  '''A class for working with device data scrapped on GSMArena''' \n",
        "  # we want to initalize a list to keep track of all the features collected for THIS device\n",
        "  features_list = []\n",
        "  \n",
        "  \n",
        "  # initliaze the class using a device \n",
        "  def __init__(self, device, device_id, maker_name, maker_id):\n",
        "    # start adding attributes to the device object  \n",
        "    self.maker_name = maker_name\n",
        "    self.create_feature('maker_name')\n",
        "    self.set_all_features('maker_name')\n",
        "    \n",
        "    self.maker_id = maker_id\n",
        "    self.create_feature('maker_id')\n",
        "    self.set_all_features('maker_id')\n",
        "    \n",
        "    self.device_id = device_id\n",
        "    self.create_feature('device_id')\n",
        "    self.set_all_features('device_id')\n",
        "                \n",
        "    # set the device_info as attributes of the Device \n",
        "    for device_info_name, device_info in device.items():\n",
        "      # emulates the functionality of self.varable = value\n",
        "      setattr(self, device_info_name, device_info)\n",
        "      self.create_feature(device_info_name)\n",
        "      self.set_all_features(device_info_name)\n",
        "    \n",
        "    # all device \"specs\" exception opinion are a dict of sub specs, which we need to parse\n",
        "    # these will be treated separetly using FeatureGen and ParsingFunctions\n",
        "    self.device_notes = {}\n",
        "    for spec, value in device['device_specs'].items():\n",
        "      spec_ = self.split_string(spec)\n",
        "      if isinstance(value, dict):\n",
        "        self.gen_from_dict(value, spec_)\n",
        "        self.create_feature(spec_)\n",
        "      else:\n",
        "        setattr(self, spec_, value)\n",
        "      \n",
        "      \n",
        "  def split_string(self, spec_name):\n",
        "    '''A function for changing the ' ' and '-' demlimiter\n",
        "       in a spec_name to  '_'\n",
        "       \n",
        "       Given 'Selfie Camera', returns selfie_camera\n",
        "    '''\n",
        "    split_spec_pattern = re.compile('\\s|-|–')\n",
        "    split_specs = re.split(split_spec_pattern, spec_name)\n",
        "    return '_'.join(split_specs).lower()\n",
        "  \n",
        "  \n",
        "  def create_feature(self, spec_name):\n",
        "    '''A function that allows us to consolidate the names of all features recovered from the GIVEN device'''\n",
        "    if spec_name not in self.features_list:\n",
        "      self.features_list.append(spec_name)\n",
        "      \n",
        "      \n",
        "  def set_all_features(self, spec_name):\n",
        "    '''A function that allows us to consolidate the names of all features recovered from ALL devices'''\n",
        "    if spec_name not in FeatureGen.all_features_dict:\n",
        "      FeatureGen.all_features_dict.setdefault(spec_name, None)\n",
        "      \n",
        "  \n",
        "  @staticmethod\n",
        "  def read_devices_json(file_path):\n",
        "    '''A function for reading in a JSON file.\n",
        "\n",
        "       Takes in the string file_path and returns a dict\n",
        "    '''\n",
        "    with open(file_path, 'r', encoding='utf-8') as file:\n",
        "      devices_dict = json.load(file)\n",
        "      return devices_dict\n",
        "    \n",
        "    \n",
        "  @staticmethod\n",
        "  def list_makers(devices_dict):\n",
        "    '''A function that takes in the loaded devices_dict data and returns a list of makers\n",
        "     \n",
        "       Returns a list of the form  [(0, 'Acer'), .......] for all makers in the devices_dict\n",
        "    '''\n",
        "    makers = [(x, y) for x, y in zip(range(devices_dict.keys().__len__()), devices_dict.keys())]\n",
        "    return makers\n",
        "    \n",
        "    \n",
        "  @staticmethod\n",
        "  def create_devices_from_data(devices_dict):\n",
        "    '''A function for creating objects out of all the devices stored in devices_dict\n",
        "\n",
        "       Retuns a list of Device objects for all devices in the devices_dict \n",
        "    '''\n",
        "    # we want to initalize a list for collecting all the device objects\n",
        "    devices_collector = []\n",
        "    # each maker has a maker_id starting from 0 for all the makers\n",
        "    for maker_id, (maker_name, devices_info) in zip(range(len(devices_dict.keys())), devices_dict.items()):\n",
        "      maker_name_split = [split.upper() for split in re.split(re.compile(' |-'), maker_name)]\n",
        "      maker_name_ = ''.join(maker_name_split)\n",
        "\n",
        "      # iterate through each device under a maker and use maker_name_ and device_num to create a unique device_id\n",
        "      for device_num, device in devices_info.items():\n",
        "        device_id = maker_name_ + '_' + device_num\n",
        "        # create the device object using the Device class and then append the object to the collector array \n",
        "        device_ = Device(device, device_id, maker_name, maker_id)\n",
        "        devices_collector.append(device_)\n",
        "    return devices_collector\n",
        "  \n",
        "        \n",
        "  @staticmethod     \n",
        "  def create_feature_column(feature_name, devices_collector):\n",
        "    '''A function for creating a feature column of a given name using devices_collector'''  \n",
        "    collector_array = []\n",
        "    for device in devices_collector:\n",
        "      feature = getattr(device, feature_name, None)\n",
        "      if not feature:\n",
        "        collector_array.append(np.NaN)\n",
        "      else:\n",
        "        collector_array.append(feature)\n",
        "    return collector_array\n",
        "\n",
        "        \n",
        "  @staticmethod\n",
        "  def create_df(devices_dict):\n",
        "    '''A function for creating a DataFrame using all the data from all the Device objects'''\n",
        "    \n",
        "    if not devices_dict:\n",
        "      raise AttributeError('This function cannot be run of devices_dict if is empty')\n",
        "    \n",
        "    # create Device objects from devices_dict\n",
        "    devices_collector = Device.create_devices_from_data(devices_dict)\n",
        "\n",
        "    # get a dict of all features collected across all devices\n",
        "    all_features_dict = FeatureGen.all_features_dict\n",
        "\n",
        "    # create the feature columns for each feature and set it as the new value of the all_features_dict\n",
        "    for feature_name, _ in all_features_dict.items():\n",
        "      col = Device.create_feature_column(feature_name, devices_collector)\n",
        "      all_features_dict[feature_name] = col\n",
        "\n",
        "    # create a DataFrame from the dict and return it\n",
        "    return pd.DataFrame(all_features_dict)"
      ],
      "execution_count": 0,
      "outputs": []
    },
    {
      "metadata": {
        "id": "LMqmr536SJ3y",
        "colab_type": "text"
      },
      "cell_type": "markdown",
      "source": [
        "Instructions For Using deviceparser.py"
      ]
    },
    {
      "metadata": {
        "id": "vHEGv9pGSbO1",
        "colab_type": "text"
      },
      "cell_type": "markdown",
      "source": [
        "1. Download *deviceparser.py* and move it to [Python's working directory](https://stackoverflow.com/questions/17359698/how-to-get-the-current-working-directory-using-python-3/17361545).\n",
        "2. Import the module into your IDE.\n",
        "3. At this point, you can define you own parsing functions which must comply with **Rules For Writing Parsing Functions For Devices Data**.\n",
        "4. Expose the **ParsingFunctions** class to user defined functions by passing a list of functions to the **ParsingFunctions.add_new_parsers()** method.\n",
        "5. Load the **devices_data.txt** file by passing the file path to **Device.read_devices_json()**. This loads in the JSON file as a Python dictionary.\n",
        "6. A list of device objects can be created for all the makers by providing the **Device.create_devices_from_data()** method with the dictionary obtained in step 5.\n",
        "7. To make it easy to manipulate the data once it has been parsed, the **Device.create_df()** method has been defined, which creates a pandas DataFrame from *devices_data*. As an argument, this method takes in the dict object which was loaded in step 5 and applies **Device.create_devices_from_data()**. An internal dictionary called **all_features_dict** is used to keep track of all the features collected from all the devices. For example, flagship devices released in 2018 and 2019 tend to have three main cameras, which is denoted by the feature *main_camera_triple*. This method is written such that a  device feature listed in the keys of **all_features_dict** is given a value and np.NaN, otherwise."
      ]
    },
    {
      "metadata": {
        "id": "OrXORjf_fJjM",
        "colab_type": "code",
        "colab": {}
      },
      "cell_type": "code",
      "source": [
        "# assuming that you have deviceparser.py in your working directory, load it as follows\n",
        "from deviceparser import Device, ParsingFunctions"
      ],
      "execution_count": 0,
      "outputs": []
    },
    {
      "metadata": {
        "id": "e1tzVsA9fjRe",
        "colab_type": "code",
        "colab": {}
      },
      "cell_type": "code",
      "source": [
        "# define your parsing functions \n",
        "class MyParsers:\n",
        "  '''A container class for housing all the parsing functions'''\n",
        "  \n",
        "  # define the parsing functions\n",
        "  def parse_banner_batsize_hl(spec_value):\n",
        "    '''A function for parsing the batsize_hl\n",
        "\n",
        "       Takes in str '3800' and returns the np.floats64 3800\n",
        "    '''\n",
        "    return {'batsize':np.float64(spec_value)}\n",
        "\n",
        "\n",
        "  def parse_banner_displayres_hl(spec_value):\n",
        "    '''A function for parsing the displayres_hl\n",
        "\n",
        "       Takes in str '1280x1920 pixels' and returns two np.float64's for the length and height of the screen\n",
        "    '''\n",
        "    res_pattern = re.compile('(\\d+)x(\\d+)')\n",
        "    return_val =  re.findall(res_pattern, spec_value)\n",
        "    feature_names = ['displayres_len', 'displayres_height']\n",
        "    if not return_val:\n",
        "      return {'displayres_len':np.NaN, 'displayres_height':np.NaN}\n",
        "    else:\n",
        "      return  {name:np.float64(i) for name, i  in zip(feature_names, return_val[0])}\n",
        "\n",
        "\n",
        "  def parse_banner_ramsize_hl(spec_value):\n",
        "      '''A function for parsing the ramsize_hl\n",
        "\n",
        "         Takes in str '2' and returns the np.float64 2\n",
        "      '''\n",
        "      return {'ramsize':np.float64(spec_value)}\n",
        "\n",
        "\n",
        "  def parse_banner_displaysize_hl(spec_value):\n",
        "      '''A function for parsing the displaysize_hl\n",
        "\n",
        "         Takes in str '6.0\"' and returns np.float64 6.0\n",
        "      '''\n",
        "      disp_size_pattern = re.compile('(^\\d+\\.?\\d*)\\s?\"')\n",
        "      return_val = re.findall(disp_size_pattern, spec_value)\n",
        "      if not return_val:\n",
        "        return {'displaysize':np.NaN}\n",
        "      else:\n",
        "        return {'displaysize':np.float64(return_val[0])}\n",
        "\n",
        "\n",
        "  def parse_body_weight(spec_value):\n",
        "    '''A function for parsing body_weight in devices_data\n",
        "       Takes in string '165 g ((9.17 oz))' and returns weight in gm as np.float64\n",
        "    '''\n",
        "    weight_pattern = re.compile('(\\d+\\.?\\d?)\\s?(?:g|gm|gram|grms|grams)')\n",
        "    weight = re.findall(weight_pattern, spec_value)\n",
        "    if not weight:\n",
        "      return {'weight':np.NaN}\n",
        "    else:\n",
        "      feature_value = np.float64(weight[0])    \n",
        "      return {'weight':feature_value}\n",
        "\n",
        "\n",
        "  # examples of launch_status\n",
        "  # 1. Available. Released 2018, July\n",
        "  # 2. Coming soon. Exp. release 2019, Q1\n",
        "  # 3. Cancelled\n",
        "  def parse_launch_status(spec_value):\n",
        "    '''A function for parsing the launch_status\n",
        "\n",
        "       Returns str 'Available' or 'Coming soon' or 'Cancelled'\n",
        "\n",
        "    '''\n",
        "    status_patten = re.compile('(Available|Coming\\s?soon|Cancelled|Discontinued).*')\n",
        "    status = re.findall(status_patten, spec_value)\n",
        "    if not status:\n",
        "      return {'launch_status':np.NaN}\n",
        "    else:\n",
        "      return {'launch_status':status[0]}\n",
        "\n",
        "\n",
        "  def parse_launch_announced(spec_value):\n",
        "    '''A function for parsing the release date of a phone\n",
        "\n",
        "       Returns a pandas.Timestamp object\n",
        "    '''\n",
        "    year_month_pattern = re.compile('\\d{4}[\\s,.]*(?:Jan(?:uary)?|Feb(?:ruary)?|Mar(?:ch)?|\\\n",
        "                                    Apr(?:il)?|May|Jun(?:e)?|Jul(?:y)?|Aug(?:ust)?|Sep(?:tember)?|\\\n",
        "                                    Oct(?:ober)?|Nov(?:ember)?|Dec(?:ember)?)')\n",
        "    year_only_pattern = re.compile('\\d{4}')\n",
        "\n",
        "    # finding year, month gets hightest priority\n",
        "    year_month = re.findall(year_month_pattern, spec_value)\n",
        "\n",
        "    if not year_month:\n",
        "      year = re.findall(year_only_pattern, spec_value)\n",
        "      # if year is also not present then set both month and year to np.NaN\n",
        "      if not year:\n",
        "        dt = np.NaN\n",
        "      else:\n",
        "        dt = year[0]\n",
        "    else:\n",
        "      dt = year_month[0]\n",
        "\n",
        "    return {'launch_announced':pd.to_datetime(dt)}\n",
        "\n",
        "\n",
        "  def parse_body_dimensions(spec_value):\n",
        "    '''A function for parsing the body dimensions\n",
        "\n",
        "       Returns the value of each dimension as a np.float64. Returns np.NaN if dimensions not found\n",
        "    '''\n",
        "    dimensions_pattern = re.compile('((?:\\d+\\.?\\d*[\\sx]+){3})mm')\n",
        "    float_pattern = re.compile('\\d+\\.?\\d*')\n",
        "\n",
        "    dimensions = re.findall(dimensions_pattern, spec_value)\n",
        "    if not dimensions:\n",
        "      return {'body_x':np.NaN, 'body_y':np.NaN, 'body_z':np.NaN}\n",
        "    else:\n",
        "      # find each of the dimensions\n",
        "      each_dim = re.findall(float_pattern, dimensions[0])\n",
        "      x = np.float64(each_dim[0])\n",
        "      y = np.float64(each_dim[1])\n",
        "      z = np.float64(each_dim[2])\n",
        "      return {'body_x':x, 'body_y':y, 'body_z':z}\n",
        "\n",
        "\n",
        "  # different types of displays noticed\n",
        "  # 1. OLED\n",
        "  # 2. LCD \n",
        "  # 3. TFT - variant of LCD\n",
        "  # 4. IPS - variant of LCD\n",
        "  # 5. Monochrome|Grayscale\n",
        "  def parse_display_type(spec_value):\n",
        "    '''A function for categorizing the display types of devices\n",
        "\n",
        "       Returns str category 'OLED', 'LCD', 'TFT', 'IPS' or 'MONO'\n",
        "    '''\n",
        "    # if this is not a known display type return NaN \n",
        "    display_type_category = np.NaN\n",
        "\n",
        "    if re.compile('.*OLED.*').match(spec_value):\n",
        "      display_type_category = 'OLED'\n",
        "    elif re.compile('.*LCD.*').match(spec_value):\n",
        "      display_type_category = 'LCD'\n",
        "    elif re.compile('.*TFT.*').match(spec_value):\n",
        "      display_type_category = 'TFT'\n",
        "    elif re.compile('.*IPS.*').match(spec_value):\n",
        "      display_type_category = 'IPS'\n",
        "    elif re.compile('.*[Mm]onochrome.*|.*[Gg]rayscale.*').match(spec_value):\n",
        "      display_type_category = 'MONO'\n",
        "    return {'display_type':spec_value, 'display_type_category':display_type_category}\n",
        "\n",
        "\n",
        "  # values of battery_talk_talk\n",
        "  # 1. Up to 4 h 30 min\n",
        "  # 2. Up to 4 h\n",
        "  # 3. Up to 7 h 30 min (multimedia)\n",
        "  # 4. Up to 15 h 20 min (2G) / Up to 6 h (3G)\n",
        "  def parse_battery_talk_time(spec_value):\n",
        "    '''A function for parsing a device's talk time\n",
        "\n",
        "       Returns three pd.TimeDelta objects\n",
        "       If 3G or 2G talktimes are reported, they get a value, else np.NaN\n",
        "       If neither 3G nor 2g talktimes are reported then make an attempt to find a generic talktime\n",
        "    '''\n",
        "    # output variables\n",
        "    talk_time_3g_td = np.NaN\n",
        "    talk_time_2g_td = np.NaN\n",
        "    talk_time_td = np.NaN\n",
        "\n",
        "\n",
        "    talk_time_3g_pattern = re.compile('.*Up\\sto\\s((?:\\d+\\sh)?(?:\\s?\\d+\\smin)?)\\s\\(3G\\)')\n",
        "    talk_time_2g_pattern = re.compile('.*Up\\sto\\s((?:\\d+\\sh)?(?:\\s?\\d+\\smin)?)\\s\\(2G\\)')\n",
        "    talk_time_pattern = re.compile('.*Up\\sto\\s((?:\\d+\\sh)?(?:\\s?\\d+\\smin)?)')\n",
        "\n",
        "    talk_time_3g = re.findall(talk_time_3g_pattern, spec_value) \n",
        "    talk_time_2g = re.findall(talk_time_2g_pattern, spec_value) \n",
        "\n",
        "    if talk_time_3g:\n",
        "      talk_time_3g_td = pd.to_timedelta(talk_time_3g[0])\n",
        "\n",
        "    if talk_time_2g:\n",
        "        talk_time_2g_td = pd.to_timedelta(talk_time_2g[0])\n",
        "\n",
        "    # if this device has neither 2g or 3g talk time, try finding a generic talktime\n",
        "    if (not talk_time_3g) and (not talk_time_2g):\n",
        "      talk_time = re.findall(talk_time_pattern, spec_value)\n",
        "      if talk_time:\n",
        "        talk_time_td = pd.to_timedelta(talk_time[0])\n",
        "\n",
        "    return {'talk_time':talk_time_td, 'talk_time_2g':talk_time_2g_td, 'talk_time_3g':talk_time_3g_td}\n",
        "\n",
        "\n",
        "  def parse_platform_chipset(spec_value):\n",
        "    '''A function for parsing the device chipset\n",
        "\n",
        "       Returns silicon gate width (x nm) as np.float64 along with chipset name\n",
        "    '''\n",
        "    gate_width_pattern = re.compile('\\((\\d+)\\snm\\)')\n",
        "    gate_width = re.findall(gate_width_pattern, spec_value)\n",
        "\n",
        "    if gate_width:\n",
        "      return {'platform_chipset':spec_value, 'platform_chipset_gate_width':np.float64(gate_width[0])}\n",
        "    else:\n",
        "      return {'platform_chipset':spec_value, 'platform_chipset_gate_width':np.NaN}"
      ],
      "execution_count": 0,
      "outputs": []
    },
    {
      "metadata": {
        "colab_type": "code",
        "id": "h6RMoXWO6n5p",
        "outputId": "cc65362e-0830-4223-cc30-3e5b2aaee72d",
        "colab": {
          "base_uri": "https://localhost:8080/",
          "height": 109
        }
      },
      "cell_type": "code",
      "source": [
        "# current version of ParsingFunctions does not come preloaded with any methods \n",
        "print(ParsingFunctions.__dict__)\n",
        "\n",
        "# ParsingFunctions can be provided a single parsing functions or a list of parsing functions\n",
        "ParsingFunctions.add_new_parsers(MyParsers.parse_banner_batsize_hl)\n",
        "print(ParsingFunctions.__dict__)\n",
        "\n",
        "ParsingFunctions.add_new_parsers([MyParsers.parse_banner_displayres_hl, \\\n",
        "                                  MyParsers.parse_banner_ramsize_hl, \\\n",
        "                                  MyParsers.parse_banner_displaysize_hl\n",
        "                                 ])\n",
        "\n",
        "print(ParsingFunctions.__dict__)\n",
        "\n",
        "# only one parsing function of a given name can exist at a time inide ParsingFunctions\n",
        "# a warning message is printed out if you try to reassign a function which already exists\n",
        "# use clear_existing_parser() method if you need to reimport a parser of the same name\n",
        "ParsingFunctions.clear_existing_parsers()\n",
        "\n",
        "# defining user defined functions inside a class makes it easy to obtain the functions as a list\n",
        "parsing_functions_list = [value for key, value in MyParsers.__dict__.items() if re.compile('parse_.*').match(key)]\n",
        "\n",
        "ParsingFunctions.add_new_parsers(parsing_functions_list)\n"
      ],
      "execution_count": 0,
      "outputs": [
        {
          "output_type": "stream",
          "text": [
            "{'__module__': '__main__', '__doc__': 'A class for housing all the parsing function which will be used on device specs data', 'allow_parsing': [], 'parse_spec': <function ParsingFunctions.parse_spec at 0x7dc5ca279510>, 'add_new_parsers': <classmethod object at 0x7dc5b41080b8>, 'clear_existing_parsers': <classmethod object at 0x7dc5b4108240>, '__dict__': <attribute '__dict__' of 'ParsingFunctions' objects>, '__weakref__': <attribute '__weakref__' of 'ParsingFunctions' objects>, 'parse_banner_batsize_hl': <function MyParsers.parse_banner_batsize_hl at 0x7dc5b4895048>, 'parse_banner_displayres_hl': <function MyParsers.parse_banner_displayres_hl at 0x7dc5b4895488>, 'parse_banner_ramsize_hl': <function MyParsers.parse_banner_ramsize_hl at 0x7dc5b493e598>, 'parse_banner_displaysize_hl': <function MyParsers.parse_banner_displaysize_hl at 0x7dc5b493e6a8>, 'parse_body_weight': <function MyParsers.parse_body_weight at 0x7dc5b493e400>, 'parse_launch_status': <function MyParsers.parse_launch_status at 0x7dc5b493e510>, 'parse_launch_announced': <function MyParsers.parse_launch_announced at 0x7dc5b493e7b8>, 'parse_body_dimensions': <function MyParsers.parse_body_dimensions at 0x7dc5b493e840>, 'parse_display_type': <function MyParsers.parse_display_type at 0x7dc5b493e8c8>, 'parse_battery_talk_time': <function MyParsers.parse_battery_talk_time at 0x7dc5b493e950>, 'parse_platform_chipset': <function MyParsers.parse_platform_chipset at 0x7dc5b493e9d8>}\n",
            "{'__module__': '__main__', '__doc__': 'A class for housing all the parsing function which will be used on device specs data', 'allow_parsing': ['banner_batsize_hl'], 'parse_spec': <function ParsingFunctions.parse_spec at 0x7dc5ca279510>, 'add_new_parsers': <classmethod object at 0x7dc5b41080b8>, 'clear_existing_parsers': <classmethod object at 0x7dc5b4108240>, '__dict__': <attribute '__dict__' of 'ParsingFunctions' objects>, '__weakref__': <attribute '__weakref__' of 'ParsingFunctions' objects>, 'parse_banner_batsize_hl': <function MyParsers.parse_banner_batsize_hl at 0x7dc5b4895048>, 'parse_banner_displayres_hl': <function MyParsers.parse_banner_displayres_hl at 0x7dc5b4895488>, 'parse_banner_ramsize_hl': <function MyParsers.parse_banner_ramsize_hl at 0x7dc5b493e598>, 'parse_banner_displaysize_hl': <function MyParsers.parse_banner_displaysize_hl at 0x7dc5b493e6a8>, 'parse_body_weight': <function MyParsers.parse_body_weight at 0x7dc5b493e400>, 'parse_launch_status': <function MyParsers.parse_launch_status at 0x7dc5b493e510>, 'parse_launch_announced': <function MyParsers.parse_launch_announced at 0x7dc5b493e7b8>, 'parse_body_dimensions': <function MyParsers.parse_body_dimensions at 0x7dc5b493e840>, 'parse_display_type': <function MyParsers.parse_display_type at 0x7dc5b493e8c8>, 'parse_battery_talk_time': <function MyParsers.parse_battery_talk_time at 0x7dc5b493e950>, 'parse_platform_chipset': <function MyParsers.parse_platform_chipset at 0x7dc5b493e9d8>}\n",
            "{'__module__': '__main__', '__doc__': 'A class for housing all the parsing function which will be used on device specs data', 'allow_parsing': ['banner_batsize_hl', 'banner_displayres_hl', 'banner_ramsize_hl', 'banner_displaysize_hl'], 'parse_spec': <function ParsingFunctions.parse_spec at 0x7dc5ca279510>, 'add_new_parsers': <classmethod object at 0x7dc5b41080b8>, 'clear_existing_parsers': <classmethod object at 0x7dc5b4108240>, '__dict__': <attribute '__dict__' of 'ParsingFunctions' objects>, '__weakref__': <attribute '__weakref__' of 'ParsingFunctions' objects>, 'parse_banner_batsize_hl': <function MyParsers.parse_banner_batsize_hl at 0x7dc5b4895048>, 'parse_banner_displayres_hl': <function MyParsers.parse_banner_displayres_hl at 0x7dc5b4895488>, 'parse_banner_ramsize_hl': <function MyParsers.parse_banner_ramsize_hl at 0x7dc5b493e598>, 'parse_banner_displaysize_hl': <function MyParsers.parse_banner_displaysize_hl at 0x7dc5b493e6a8>, 'parse_body_weight': <function MyParsers.parse_body_weight at 0x7dc5b493e400>, 'parse_launch_status': <function MyParsers.parse_launch_status at 0x7dc5b493e510>, 'parse_launch_announced': <function MyParsers.parse_launch_announced at 0x7dc5b493e7b8>, 'parse_body_dimensions': <function MyParsers.parse_body_dimensions at 0x7dc5b493e840>, 'parse_display_type': <function MyParsers.parse_display_type at 0x7dc5b493e8c8>, 'parse_battery_talk_time': <function MyParsers.parse_battery_talk_time at 0x7dc5b493e950>, 'parse_platform_chipset': <function MyParsers.parse_platform_chipset at 0x7dc5b493e9d8>}\n",
            "All exisiting parsing functions have been cleared!\n"
          ],
          "name": "stdout"
        }
      ]
    },
    {
      "metadata": {
        "id": "b6Fgc9vbjvlW",
        "colab_type": "code",
        "outputId": "723fb587-abd1-4b9a-a535-187be398c4d1",
        "colab": {
          "base_uri": "https://localhost:8080/",
          "height": 55
        }
      },
      "cell_type": "code",
      "source": [
        "# loading devices_data\n",
        "file_path = '../devices_data.txt'\n",
        "devices_dict = Device.read_devices_json(file_path)\n",
        "devices_dict.keys()"
      ],
      "execution_count": 0,
      "outputs": [
        {
          "output_type": "execute_result",
          "data": {
            "text/plain": [
              "dict_keys(['Acer', 'alcatel', 'Allview', 'Amazon', 'Amoi', 'Apple', 'Archos', 'Asus', 'AT&T;', 'Benefon', 'BenQ', 'BenQ-Siemens', 'Bird', 'BlackBerry', 'Blackview', 'BLU', 'Bosch', 'BQ', 'Casio', 'Cat', 'Celkon', 'Chea', 'Coolpad', 'Dell', 'Emporia', 'Energizer', 'Ericsson', 'Eten', 'Fujitsu Siemens', 'Garmin-Asus', 'Gigabyte', 'Gionee', 'Google', 'Haier', 'Honor', 'HP', 'HTC', 'Huawei', 'i-mate', 'i-mobile', 'Icemobile', 'Infinix', 'Innostream', 'iNQ', 'Intex', 'Jolla', 'Karbonn', 'Kyocera', 'Lava', 'LeEco', 'Lenovo', 'LG', 'Maxon', 'Maxwest', 'Meizu', 'Micromax', 'Microsoft', 'Mitac', 'Mitsubishi', 'Modu', 'Motorola', 'MWg', 'NEC', 'Neonode', 'NIU', 'Nokia', 'Nvidia', 'O2', 'OnePlus', 'Oppo', 'Orange', 'Palm', 'Panasonic', 'Pantech', 'Parla', 'Philips', 'Plum', 'Posh', 'Prestigio', 'QMobile', 'Qtek', 'Razer', 'Realme', 'Sagem', 'Samsung', 'Sendo', 'Sewon', 'Sharp', 'Siemens', 'Sonim', 'Sony', 'Sony Ericsson', 'Spice', 'T-Mobile', 'TECNO', 'Tel.Me.', 'Telit', 'Thuraya', 'Toshiba', 'Unnecto', 'Vertu', 'verykool', 'vivo', 'VK Mobile', 'Vodafone', 'Wiko', 'WND', 'XCute', 'Xiaomi', 'XOLO', 'Yezz', 'Yota', 'YU', 'ZTE'])"
            ]
          },
          "metadata": {
            "tags": []
          },
          "execution_count": 351
        }
      ]
    },
    {
      "metadata": {
        "id": "cNgKM44EpekT",
        "colab_type": "code",
        "outputId": "fde4a938-6e0d-48b6-b331-954f886aef9c",
        "colab": {
          "base_uri": "https://localhost:8080/",
          "height": 55
        }
      },
      "cell_type": "code",
      "source": [
        "# access maker_id and maker_name using Device.list_makers() method\n",
        "makers = Device.list_makers(devices_dict)\n",
        "print(makers)"
      ],
      "execution_count": 0,
      "outputs": [
        {
          "output_type": "stream",
          "text": [
            "[(0, 'Acer'), (1, 'alcatel'), (2, 'Allview'), (3, 'Amazon'), (4, 'Amoi'), (5, 'Apple'), (6, 'Archos'), (7, 'Asus'), (8, 'AT&T;'), (9, 'Benefon'), (10, 'BenQ'), (11, 'BenQ-Siemens'), (12, 'Bird'), (13, 'BlackBerry'), (14, 'Blackview'), (15, 'BLU'), (16, 'Bosch'), (17, 'BQ'), (18, 'Casio'), (19, 'Cat'), (20, 'Celkon'), (21, 'Chea'), (22, 'Coolpad'), (23, 'Dell'), (24, 'Emporia'), (25, 'Energizer'), (26, 'Ericsson'), (27, 'Eten'), (28, 'Fujitsu Siemens'), (29, 'Garmin-Asus'), (30, 'Gigabyte'), (31, 'Gionee'), (32, 'Google'), (33, 'Haier'), (34, 'Honor'), (35, 'HP'), (36, 'HTC'), (37, 'Huawei'), (38, 'i-mate'), (39, 'i-mobile'), (40, 'Icemobile'), (41, 'Infinix'), (42, 'Innostream'), (43, 'iNQ'), (44, 'Intex'), (45, 'Jolla'), (46, 'Karbonn'), (47, 'Kyocera'), (48, 'Lava'), (49, 'LeEco'), (50, 'Lenovo'), (51, 'LG'), (52, 'Maxon'), (53, 'Maxwest'), (54, 'Meizu'), (55, 'Micromax'), (56, 'Microsoft'), (57, 'Mitac'), (58, 'Mitsubishi'), (59, 'Modu'), (60, 'Motorola'), (61, 'MWg'), (62, 'NEC'), (63, 'Neonode'), (64, 'NIU'), (65, 'Nokia'), (66, 'Nvidia'), (67, 'O2'), (68, 'OnePlus'), (69, 'Oppo'), (70, 'Orange'), (71, 'Palm'), (72, 'Panasonic'), (73, 'Pantech'), (74, 'Parla'), (75, 'Philips'), (76, 'Plum'), (77, 'Posh'), (78, 'Prestigio'), (79, 'QMobile'), (80, 'Qtek'), (81, 'Razer'), (82, 'Realme'), (83, 'Sagem'), (84, 'Samsung'), (85, 'Sendo'), (86, 'Sewon'), (87, 'Sharp'), (88, 'Siemens'), (89, 'Sonim'), (90, 'Sony'), (91, 'Sony Ericsson'), (92, 'Spice'), (93, 'T-Mobile'), (94, 'TECNO'), (95, 'Tel.Me.'), (96, 'Telit'), (97, 'Thuraya'), (98, 'Toshiba'), (99, 'Unnecto'), (100, 'Vertu'), (101, 'verykool'), (102, 'vivo'), (103, 'VK Mobile'), (104, 'Vodafone'), (105, 'Wiko'), (106, 'WND'), (107, 'XCute'), (108, 'Xiaomi'), (109, 'XOLO'), (110, 'Yezz'), (111, 'Yota'), (112, 'YU'), (113, 'ZTE')]\n"
          ],
          "name": "stdout"
        }
      ]
    },
    {
      "metadata": {
        "id": "xdlncWvnpGYa",
        "colab_type": "code",
        "outputId": "f02d7e14-f3c5-4fd9-f882-189219621938",
        "colab": {
          "base_uri": "https://localhost:8080/",
          "height": 107
        }
      },
      "cell_type": "code",
      "source": [
        "# parsing a single device object\n",
        "\n",
        "maker_name = 'Samsung'\n",
        "# get Samsung's maker_id form the list we just created\n",
        "for maker in makers:\n",
        "  if maker[1] == maker_name:\n",
        "    maker_id = maker[0]\n",
        "    \n",
        "# get the data for Galaxy S10 from the devices_dict \n",
        "device_name = 'Galaxy S10'\n",
        "for device_num, device in devices_dict[maker_name].items():\n",
        "  if device['device_name'] == device_name:\n",
        "    device_id = maker_name.upper() + '_' + device_num \n",
        "    break\n",
        "    \n",
        "# create the device object by initializng an instance of the Device class\n",
        "s10 = Device(device, device_id, maker_name, maker_id)\n",
        "\n",
        "# new features have been created using the parsing functions\n",
        "print(s10.batsize)\n",
        "print(s10.displayres_height)\n",
        "print(s10.displayres_len)\n",
        "print(s10.displaysize)\n",
        "print(s10.ramsize)"
      ],
      "execution_count": 0,
      "outputs": [
        {
          "output_type": "stream",
          "text": [
            "3400.0\n",
            "3040.0\n",
            "1440.0\n",
            "6.1\n",
            "8.0\n"
          ],
          "name": "stdout"
        }
      ]
    },
    {
      "metadata": {
        "id": "gQ9mqtUGlQr_",
        "colab_type": "code",
        "outputId": "ef96b140-8d86-45b7-c0e2-0c516d50bad9",
        "colab": {
          "base_uri": "https://localhost:8080/",
          "height": 53
        }
      },
      "cell_type": "code",
      "source": [
        "# creating a list of device objects for all makers\n",
        "devices_collector = Device.create_devices_from_data(devices_dict)\n",
        "print(len(devices_collector))\n",
        "print(type(devices_collector[0]))"
      ],
      "execution_count": 0,
      "outputs": [
        {
          "output_type": "stream",
          "text": [
            "9536\n",
            "<class '__main__.Device'>\n"
          ],
          "name": "stdout"
        }
      ]
    },
    {
      "metadata": {
        "id": "Tz5KKywtmu83",
        "colab_type": "code",
        "outputId": "6d54cdee-4a08-4879-c527-ba899fddbaee",
        "colab": {
          "base_uri": "https://localhost:8080/",
          "height": 91
        }
      },
      "cell_type": "code",
      "source": [
        "# simple one line filters can be written for devices collector using list comprehensions\n",
        "# use getattr() for getting the value of a feature instead of self.feature_name\n",
        "# this ensures that an AttributeError is not thrown if the device does not have the attribute \n",
        "samsung_devices = [x for x in devices_collector if getattr(x, 'maker_name', None) == 'Samsung']\n",
        "print(len(samsung_devices) == len(devices_dict['Samsung'].keys()))\n",
        "\n",
        "s10 = [x for x in devices_collector if getattr(x, 'device_name', None) == 'Galaxy S10']\n",
        "print(s10[0].device_name)\n",
        "\n",
        "batsize = [x.batsize if getattr(x, 'batsize', None) is not None else np.NaN for x in devices_collector]\n",
        "print(batsize)\n",
        "\n",
        "# this might seem complicated if you are beginner, but it is a great opportunity to learn about list comprehensions"
      ],
      "execution_count": 0,
      "outputs": [
        {
          "output_type": "stream",
          "text": [
            "True\n",
            "Galaxy S10\n",
            "[4500.0, 3400.0, 4080.0, 2000.0, 6100.0, 4020.0, 3000.0, 5000.0, 2000.0, 4420.0, 2870.0, 2000.0, 2000.0, 4000.0, 4000.0, 2420.0, 2420.0, 2000.0, 2000.0, 5910.0, 4550.0, 5910.0, 5910.0, 2300.0, 2000.0, 1300.0, 1300.0, 2000.0, 2300.0, 2000.0, 2700.0, 2100.0, 3500.0, 2500.0, 1300.0, 4600.0, 3400.0, 3400.0, 3700.0, 2000.0, 2500.0, 1630.0, 2955.0, 2955.0, 4000.0, 2000.0, 3300.0, 1500.0, 2400.0, 7300.0, 4960.0, 4960.0, 2000.0, 1300.0, 2000.0, 1760.0, 2640.0, 2710.0, 3420.0, 1300.0, 1500.0, 1500.0, 1300.0, 1460.0, 3260.0, 3260.0, 9800.0, 9800.0, 9800.0, 9800.0, 1300.0, nan, 3260.0, 1500.0, 3260.0, 1530.0, 1530.0, 1300.0, 1300.0, 1300.0, 1500.0, 1500.0, 1500.0, 1500.0, 1400.0, 1350.0, 1090.0, 1090.0, 970.0, 1500.0, 1350.0, 1350.0, 1140.0, 1140.0, 1140.0, 1260.0, 1530.0, 1530.0, 1530.0, 1530.0, 4080.0, 3500.0, 3500.0, 3060.0, 3000.0, 2460.0, 2050.0, 4000.0, 4000.0, 3000.0, 3000.0, 3000.0, 3000.0, 2460.0, 3000.0, 4000.0, 2580.0, 2850.0, 2800.0, 4000.0, 4000.0, 2050.0, 2800.0, 2620.0, 3100.0, 2050.0, 2800.0, 2460.0, 3000.0, 2460.0, 5000.0, 2500.0, 2150.0, 2000.0, 3000.0, 3240.0, 2960.0, 2500.0, 2500.0, 3000.0, 3000.0, 2610.0, 2500.0, 380.0, 2580.0, 2580.0, 2580.0, 1500.0, 1300.0, 4060.0, 2910.0, 2000.0, 2500.0, 210.0, 225.0, 3000.0, 400.0, 750.0, 2910.0, 4060.0, 1450.0, 2000.0, 2000.0, 2000.0, 2500.0, 3500.0, 2000.0, 3200.0, 2910.0, 2000.0, 1300.0, 2800.0, 2910.0, 3240.0, 2820.0, 2820.0, 2820.0, 4600.0, 2000.0, 1780.0, 1650.0, 1300.0, 1300.0, 1400.0, 1300.0, 2000.0, 1000.0, 2500.0, 2500.0, 2000.0, 2000.0, 2000.0, 2000.0, 1400.0, 4100.0, 4060.0, 3100.0, 1300.0, 1800.0, 1300.0, 3240.0, 750.0, 750.0, 750.0, 850.0, 850.0, 3240.0, 2840.0, 3400.0, 3000.0, 2000.0, nan, nan, 1700.0, 1300.0, 2150.0, 2000.0, 2000.0, 1700.0, 1000.0, 1000.0, 1000.0, 2500.0, 2500.0, 4100.0, 3240.0, 1800.0, 1400.0, 2000.0, 1800.0, 1300.0, 1300.0, 2000.0, 4160.0, 3400.0, 2000.0, 1700.0, 3000.0, 2200.0, 1300.0, 1800.0, 2000.0, 1400.0, 1500.0, 2500.0, nan, nan, nan, 3240.0, 3300.0, 1800.0, 1800.0, 1400.0, 1400.0, 1400.0, 1800.0, 2500.0, 2500.0, 2500.0, 1500.0, 1300.0, 1800.0, 1800.0, 1500.0, nan, 1400.0, 1500.0, 1300.0, 1000.0, 650.0, 850.0, 1800.0, 1500.0, 1500.0, 1000.0, 1000.0, nan, 850.0, 850.0, 650.0, 500.0, 650.0, 650.0, 500.0, 1000.0, 500.0, 500.0, nan, 1300.0, 850.0, 850.0, 1150.0, 1500.0, 1300.0, 1300.0, nan, 1300.0, 850.0, 1000.0, 1000.0, 1300.0, 1300.0, 1000.0, 1000.0, 850.0, 1000.0, nan, 850.0, 1000.0, 1000.0, 850.0, 850.0, 650.0, 850.0, 850.0, 650.0, 850.0, 650.0, 650.0, 850.0, 500.0, 500.0, 500.0, 500.0, 500.0, 500.0, 500.0, 500.0, 500.0, 500.0, 650.0, 850.0, 850.0, 670.0, 650.0, 500.0, 850.0, 500.0, 650.0, 650.0, 1000.0, 850.0, 850.0, 500.0, 500.0, 500.0, 1150.0, 850.0, 850.0, 500.0, 650.0, 650.0, 750.0, 650.0, 650.0, 850.0, 850.0, 750.0, 750.0, 650.0, 650.0, 650.0, 750.0, 720.0, 750.0, 720.0, 650.0, 750.0, 650.0, 650.0, 650.0, 720.0, 670.0, 670.0, 720.0, 750.0, 750.0, 1000.0, 1000.0, 750.0, 750.0, 750.0, 750.0, 750.0, 670.0, 750.0, 750.0, 750.0, 750.0, 800.0, 750.0, 750.0, 670.0, 670.0, 670.0, 670.0, 670.0, 720.0, 700.0, 700.0, 720.0, 750.0, 750.0, 750.0, 750.0, 750.0, 650.0, 750.0, 720.0, 650.0, 720.0, 720.0, 650.0, 650.0, 650.0, 650.0, 650.0, 650.0, nan, 650.0, 650.0, 650.0, 650.0, 650.0, 650.0, 800.0, 500.0, 650.0, 650.0, 650.0, 650.0, 650.0, 650.0, 650.0, 650.0, 650.0, 650.0, 650.0, 650.0, 650.0, 650.0, 650.0, 950.0, 720.0, 720.0, nan, 700.0, 950.0, 800.0, 800.0, 800.0, 785.0, nan, nan, nan, 900.0, nan, 600.0, 600.0, 700.0, 600.0, nan, 600.0, 700.0, 600.0, 780.0, nan, nan, 650.0, 600.0, 650.0, 650.0, 650.0, 650.0, 650.0, 880.0, 600.0, 580.0, 580.0, 580.0, 580.0, 580.0, 580.0, 600.0, nan, 2500.0, 2150.0, 200.0, 200.0, 2200.0, 4000.0, 130.0, 3050.0, 2300.0, 3000.0, 3000.0, 3000.0, 3050.0, 3000.0, 3000.0, 3000.0, 3000.0, 4000.0, 3000.0, 2500.0, 4550.0, 4000.0, 3000.0, 2500.0, 4010.0, 2950.0, 3000.0, 100.0, 3150.0, 3000.0, 4000.0, 4000.0, 5000.0, 2300.0, 3150.0, 3130.0, 2400.0, 4000.0, 2500.0, 6000.0, 2300.0, 1850.0, 2300.0, 3000.0, 2350.0, 5020.0, 2300.0, 1400.0, 1400.0, 3150.0, 2350.0, 2350.0, 2400.0, 3150.0, 3150.0, 2000.0, 2000.0, 4000.0, 1700.0, 2700.0, 2700.0, 3140.0, 6000.0, 4000.0, 2100.0, 2100.0, 1850.0, 1400.0, 2000.0, 2800.0, 1600.0, 1850.0, 5000.0, 1800.0, 1950.0, 1800.0, 1950.0, 2700.0, 1750.0, 2000.0, 3500.0, 1750.0, 1400.0, 1800.0, 1920.0, 1920.0, 2400.0, 2200.0, 2050.0, 1420.0, 200.0, 1750.0, 1500.0, 2300.0, 2200.0, 2500.0, 2500.0, 6000.0, 3800.0, 2400.0, 8000.0, 8000.0, 6500.0, 4000.0, 3000.0, 2500.0, 4000.0, 2500.0, 3000.0, 4600.0, 3000.0, 8000.0, 3000.0, 4400.0, 3000.0, 4000.0, 4000.0, 1000.0, 2100.0, 1700.0, 1700.0, 3000.0, 2000.0, 1200.0, 1700.0, 1800.0, 1800.0, 1800.0, 3000.0, 2100.0, 1280.0, 1500.0, 2100.0, 2100.0, 1600.0, 1700.0, 1800.0, 1600.0, 1900.0, 1400.0, 1500.0, 800.0, 950.0, 3830.0, 3210.0, 2980.0, nan, nan, 2980.0, nan, nan, nan, 2400.0, nan, nan, nan, nan, nan, nan, 4400.0, 1150.0, 1100.0, 1100.0, 1100.0, 820.0, 920.0, 780.0, 860.0, 700.0, 750.0, 750.0, 750.0, 750.0, 1100.0, 1100.0, 720.0, 720.0, 720.0, 720.0, 720.0, 720.0, 720.0, 720.0, 720.0, 720.0, 720.0, 720.0, 720.0, 720.0, 720.0, 720.0, 720.0, 720.0, 720.0, 720.0, 720.0, 720.0, 860.0, 860.0, 860.0, 550.0, 860.0, 860.0, 860.0, 860.0, 860.0, 860.0, 9720.0, 7812.0, 3174.0, 2658.0, 2942.0, nan, nan, nan, 2716.0, 2691.0, 1821.0, 279.0, 279.0, 279.0, 10891.0, 8134.0, 8827.0, 334.0, 273.0, 334.0, 273.0, 334.0, 250.0, 273.0, 205.0, 2900.0, 1960.0, 7306.0, 1624.0, 2750.0, 1715.0, 10307.0, 5124.0, 250.0, 205.0, 250.0, 205.0, 250.0, 205.0, 7340.0, 6470.0, 2915.0, 1810.0, 8820.0, 6470.0, 1560.0, 1510.0, nan, nan, 11560.0, 11560.0, 1440.0, 11560.0, 11560.0, 1432.0, 6930.0, 6930.0, 6930.0, 1420.0, 1420.0, nan, nan, nan, nan, nan, 3400.0, 5000.0, 3000.0, 2800.0, 4000.0, 3100.0, 3000.0, 6600.0, 2950.0, 3000.0, 3000.0, 3500.0, 5000.0, 3000.0, 2400.0, 2600.0, 2100.0, 2950.0, 2700.0, 2000.0, 2850.0, 2300.0, 2100.0, 2000.0, 2700.0, 1700.0, 1700.0, 1450.0, 1900.0, 3500.0, 2800.0, 2000.0, 1400.0, 2000.0, 1850.0, 2300.0, 2800.0, 2000.0, 1600.0, 2500.0, 2100.0, 1680.0, 1500.0, 5000.0, 4000.0, 4000.0, 3000.0, 4000.0, 3000.0, 5000.0, 3300.0, 3300.0, 3300.0, 4000.0, 4130.0, 3000.0, 3600.0, 3300.0, 3000.0, 3000.0, 3000.0, 3000.0, 4100.0, 5000.0, 5000.0, 5000.0, 4680.0, 4680.0, 3000.0, 2650.0, 5000.0, 7800.0, 3300.0, 5000.0, 4680.0, 4680.0, 2600.0, 4100.0, 3000.0, 7800.0, 341.0, 5900.0, 4100.0, 3000.0, 2600.0, 4100.0, 4680.0, 4600.0, 3000.0, 3000.0, 5000.0, 2070.0, 2070.0, 3010.0, 2500.0, 1600.0, 2070.0, 400.0, 300.0, 370.0, 3000.0, 3000.0, 4000.0, 4890.0, 4890.0, 2070.0, 5000.0, 3000.0, 3000.0, 3000.0, 3000.0, 2040.0, 2400.0, 3500.0, 2500.0, 3030.0, 4000.0, 4000.0, 4000.0, 4000.0, 3500.0, 3450.0, 3000.0, 2500.0, 3000.0, 3000.0, 3950.0, 2160.0, 3950.0, 3000.0, 2500.0, 2500.0, 5000.0, 2060.0, 3950.0, 3950.0, 2110.0, 1750.0, 4000.0, 4000.0, 3950.0, 3950.0, 3950.0, 3950.0, 6600.0, 5000.0, 3910.0, 2300.0, 2300.0, 2400.0, 1820.0, 3230.0, 3300.0, 2110.0, 2110.0, 1600.0, 1170.0, 1170.0, 1500.0, nan, 2400.0, 5070.0, 3950.0, 3950.0, 3950.0, 3200.0, nan, 6760.0, nan, nan, 4270.0, 2400.0, nan, 4270.0, 4325.0, nan, 2140.0, 4325.0, nan, nan, nan, nan, nan, 4400.0, nan, nan, 1520.0, 1100.0, nan, 1300.0, 1300.0, 1100.0, 1100.0, 1100.0, 1530.0, 1300.0, nan, 750.0, nan, nan, 1200.0, 1300.0, 750.0, 1300.0, 720.0, 1300.0, 1300.0, 1000.0, 700.0, 700.0, 920.0, 750.0, 720.0, 720.0, 700.0, 5000.0, 1200.0, 1320.0, 1320.0, 1350.0, 1350.0, 1000.0, 620.0, 700.0, 650.0, 650.0, 700.0, 700.0, 700.0, 2500.0, 1800.0, 1840.0, 2520.0, 2100.0, 2000.0, 900.0, 640.0, 900.0, 750.0, 920.0, 900.0, 650.0, 750.0, 750.0, 570.0, 870.0, 1000.0, 1000.0, 760.0, 760.0, 840.0, 700.0, 740.0, 700.0, 800.0, 1240.0, 760.0, 760.0, 760.0, 760.0, 760.0, 550.0, 550.0, 550.0, 920.0, 920.0, 720.0, 920.0, 750.0, 600.0, 600.0, 950.0, 900.0, 730.0, 750.0, 820.0, 820.0, 860.0, 750.0, 1370.0, 570.0, 750.0, 750.0, 820.0, 840.0, 1000.0, 920.0, 870.0, 950.0, 920.0, 660.0, 600.0, 600.0, 600.0, 650.0, 700.0, 700.0, 700.0, 600.0, 600.0, 700.0, 650.0, 650.0, 650.0, 700.0, 650.0, 700.0, 650.0, 700.0, 700.0, 700.0, 500.0, 500.0, 500.0, 500.0, 500.0, 720.0, 720.0, 720.0, 900.0, 900.0, 900.0, 900.0, 900.0, 900.0, 1620.0, 1620.0, 1620.0, 1620.0, 1620.0, 1620.0, 1620.0, 1000.0, 760.0, 800.0, 600.0, 820.0, 750.0, 920.0, 670.0, 670.0, 670.0, 920.0, 920.0, 920.0, 670.0, 920.0, 670.0, 920.0, 670.0, 670.0, 920.0, 3000.0, 4000.0, 4000.0, 3500.0, 4000.0, 3000.0, 3500.0, 3000.0, 2610.0, 3410.0, 2800.0, 2515.0, 2100.0, 3450.0, 2515.0, 2500.0, 1800.0, 2880.0, 1450.0, 2180.0, 1800.0, 2100.0, nan, 1450.0, 1450.0, nan, 1230.0, 1230.0, 1000.0, 1000.0, 1000.0, 1270.0, 1230.0, 1230.0, 1230.0, 1230.0, 5300.0, 5300.0, 5300.0, 1500.0, 1150.0, 1150.0, 1150.0, 1300.0, 1150.0, 1150.0, 1400.0, 1500.0, 1400.0, 1400.0, 1150.0, 1150.0, 1400.0, 1400.0, nan, 1230.0, 1400.0, 1400.0, 900.0, 900.0, 1500.0, nan, 900.0, 900.0, 900.0, 1150.0, 1100.0, 1100.0, 1100.0, 1400.0, 1400.0, nan, 900.0, 1100.0, 1100.0, 1100.0, 1500.0, 1100.0, nan, nan, nan, nan, nan, nan, nan, nan, nan, 1000.0, 2800.0, nan, 4800.0, 2800.0, 4180.0, 3180.0, 6180.0, 2800.0, 2800.0, 2800.0, 2000.0, 2000.0, 2500.0, 3000.0, 2600.0, 4000.0, 2600.0, 2600.0, 1300.0, 3000.0, 3050.0, 1300.0, 1300.0, 2000.0, 2500.0, 2500.0, 3000.0, 3000.0, 3000.0, 4000.0, 1700.0, 320.0, 3000.0, 4010.0, 2000.0, 3000.0, 3000.0, 2000.0, 1700.0, 2800.0, 5000.0, 3000.0, 2050.0, 2600.0, 2000.0, 2600.0, 2000.0, 2800.0, 3200.0, 2800.0, 2000.0, 1700.0, 4010.0, 2500.0, 2500.0, 3000.0, 1500.0, 3000.0, 3000.0, 4300.0, 1350.0, 2400.0, 2650.0, 2000.0, 2500.0, 4000.0, 2000.0, 3000.0, 1400.0, 1300.0, 3150.0, 1500.0, 2200.0, 4000.0, 2200.0, 2200.0, 2300.0, 3000.0, 2800.0, 720.0, 4900.0, 4000.0, 2000.0, 3150.0, 1300.0, 2500.0, 2000.0, 3130.0, 4900.0, 2300.0, 2500.0, 3150.0, 3150.0, 3000.0, 2200.0, 2200.0, 2200.0, 3000.0, 3000.0, 4000.0, 2200.0, 4000.0, 2500.0, 2500.0, 2500.0, 3000.0, 1800.0, 1700.0, 5000.0, 2800.0, 2500.0, 1400.0, 3000.0, 2800.0, 2000.0, 2000.0, 3000.0, 1300.0, 2000.0, 2000.0, 1800.0, 2300.0, 3200.0, 2450.0, 2750.0, 4000.0, 2820.0, 2500.0, 4000.0, 2500.0, 2000.0, 2000.0, 2000.0, 3150.0, 3150.0, 2900.0, 2800.0, 2500.0, 3700.0, 1450.0, 2500.0, 1800.0, 2000.0, 5000.0, 2750.0, 4000.0, 3500.0, 2050.0, 3000.0, 2500.0, 3000.0, 3450.0, 2800.0, 2300.0, 4000.0, 2000.0, 2000.0, 2920.0, 2820.0, 3000.0, 1300.0, 2300.0, 2500.0, 2000.0, 2420.0, 2820.0, 5000.0, 2000.0, 2600.0, 2100.0, 2100.0, 3200.0, 2200.0, 1850.0, 3000.0, 2000.0, 3800.0, 1450.0, 1450.0, 1450.0, 1950.0, 2200.0, 2000.0, 2000.0, 1800.0, 1800.0, 2300.0, 2000.0, 2500.0, 2200.0, 3000.0, 1800.0, 1300.0, 2000.0, 2100.0, 2350.0, 3000.0, 2000.0, 4500.0, 1800.0, 2000.0, 2000.0, 1800.0, 2020.0, 2000.0, 1600.0, 2500.0, 2250.0, 820.0, 820.0, 820.0, 820.0, 2000.0, 1500.0, 1000.0, 2000.0, 1600.0, 2800.0, 2000.0, 2000.0, 1500.0, 1400.0, 820.0, 620.0, 2600.0, 2000.0, 1800.0, 2200.0, 1760.0, 2800.0, 1800.0, 1800.0, 1100.0, 1500.0, 1280.0, 750.0, 1600.0, 6000.0, 3500.0, 3000.0, 1300.0, 1600.0, 1110.0, 950.0, 820.0, 1600.0, 1800.0, 900.0, 2500.0, 4250.0, 900.0, 820.0, 820.0, 1200.0, 800.0, 800.0, 850.0, 1050.0, 900.0, 750.0, 700.0, 750.0, 750.0, 850.0, 750.0, 560.0, 800.0, 1450.0, 1000.0, 1000.0, 800.0, 800.0, 500.0, 1200.0, 930.0, 800.0, 800.0, 800.0, 700.0, 750.0, 750.0, 750.0, 850.0, 800.0, 800.0, 800.0, 800.0, 750.0, 750.0, 850.0, 600.0, 650.0, 650.0, 650.0, 650.0, 650.0, 500.0, 550.0, 550.0, 600.0, 3100.0, 3100.0, 3400.0, 3100.0, 3100.0, 3100.0, 3400.0, 3100.0, 3100.0, 3100.0, 3080.0, 3080.0, 3050.0, 3200.0, 2850.0, 2900.0, 3120.0, 3620.0, 2470.0, 7280.0, 1800.0, 1460.0, 1150.0, 1140.0, 1440.0, 2300.0, 5000.0, 4000.0, 4500.0, 3800.0, 3000.0, 3000.0, 1000.0, 2000.0, 2630.0, 2000.0, 1150.0, 1300.0, 1400.0, 1600.0, 2500.0, 1700.0, 2000.0, 1800.0, 1500.0, 1400.0, 3000.0, 5000.0, 1500.0, 2000.0, 2000.0, 2000.0, 1800.0, 1500.0, 2000.0, 1400.0, 1200.0, 1200.0, 1500.0, 2000.0, 1500.0, 1400.0, 3500.0, 2500.0, 1400.0, 1500.0, 1800.0, 1200.0, 1400.0, 1400.0, 1400.0, 2500.0, 1500.0, 2000.0, 1500.0, 2000.0, 2000.0, 1800.0, 3000.0, 1400.0, 2000.0, 1200.0, 1000.0, 2000.0, 2000.0, 1100.0, 2200.0, 1000.0, 1800.0, 1000.0, 1000.0, 1000.0, 1000.0, 1800.0, 1500.0, 2000.0, 1400.0, 2000.0, 1350.0, 2100.0, 1100.0, 1200.0, 3000.0, 3500.0, 4000.0, 3000.0, 2300.0, 1500.0, 2000.0, 1500.0, 2000.0, 1400.0, 1200.0, 2200.0, 1800.0, 1400.0, 1400.0, 1600.0, 1800.0, 2000.0, 1500.0, 1400.0, 1500.0, 1500.0, 1000.0, 1200.0, 2100.0, 900.0, 1000.0, 1600.0, 1500.0, 1100.0, 3500.0, 2000.0, 2100.0, 1350.0, 2100.0, 2100.0, 3500.0, 1450.0, 1400.0, 1500.0, 1350.0, 1800.0, 2100.0, 1200.0, 1200.0, 1800.0, 1500.0, 1000.0, 3000.0, 1100.0, 1100.0, 1400.0, 1400.0, 2000.0, 1800.0, 1300.0, 1450.0, 1300.0, 5000.0, 1500.0, 1400.0, 2000.0, 1200.0, 2000.0, 3000.0, 1000.0, 1800.0, 1400.0, 3000.0, 1800.0, 3000.0, 1500.0, 1400.0, 1800.0, 1500.0, 1500.0, 950.0, 1000.0, 1500.0, 1400.0, 1420.0, 1300.0, 1500.0, 1800.0, 2000.0, 1000.0, 1400.0, 1500.0, 1500.0, 1000.0, 1200.0, 1200.0, 1450.0, 1450.0, 1350.0, 1450.0, 1000.0, 1000.0, 1500.0, 800.0, 1000.0, 1450.0, 1200.0, 3000.0, 1000.0, 1000.0, 1000.0, 850.0, 1500.0, 1000.0, 1000.0, 1000.0, 2000.0, 1000.0, 1000.0, 1000.0, 2000.0, 1000.0, 1000.0, 1800.0, 1000.0, 1200.0, 1000.0, 1000.0, 1000.0, 1800.0, 1000.0, 1000.0, 1550.0, 2000.0, 1000.0, 800.0, 1500.0, 800.0, 800.0, 1300.0, 2000.0, 1500.0, 1000.0, 1500.0, 1000.0, 1000.0, 1000.0, 1000.0, 1000.0, 800.0, 1300.0, 1300.0, 1050.0, 800.0, 1200.0, 1000.0, 1800.0, 1000.0, 1000.0, 1000.0, 1000.0, 1000.0, 1000.0, 1800.0, 1000.0, 1800.0, nan, 1500.0, 1000.0, 720.0, 720.0, 650.0, 650.0, 650.0, 650.0, 650.0, 650.0, 650.0, 650.0, 650.0, 650.0, 4000.0, 2500.0, 4070.0, 3200.0, 4060.0, 3200.0, 2000.0, 2500.0, 2500.0, 4060.0, 2500.0, 4070.0, 2500.0, 3050.0, 4010.0, 2500.0, 2500.0, 2500.0, 3000.0, 2800.0, 2000.0, 1800.0, 2500.0, 1800.0, 3000.0, 2500.0, 2500.0, 1800.0, nan, 7000.0, 5900.0, 4100.0, 4100.0, 4100.0, nan, 1520.0, nan, 2780.0, 2780.0, 1400.0, 1250.0, 1100.0, 1170.0, 1300.0, 1400.0, 1530.0, 1000.0, 1000.0, 1000.0, 1020.0, 1020.0, 1020.0, 1000.0, 1000.0, 1750.0, 1750.0, 1100.0, 1100.0, 1150.0, 1000.0, 1000.0, 1000.0, 800.0, 1200.0, 10000.0, 18000.0, 3200.0, 3500.0, 3500.0, 4000.0, 3000.0, 5800.0, 6500.0, 2500.0, 2000.0, 2500.0, 1500.0, 1500.0, 2500.0, 2000.0, 1900.0, 1000.0, 1000.0, 1000.0, 4000.0, 4000.0, 3000.0, 2000.0, 2000.0, 1800.0, 1000.0, 4000.0, nan, 2000.0, 4000.0, 4500.0, 5000.0, 3000.0, 2000.0, 4000.0, 2500.0, 1500.0, 1000.0, 1000.0, 3000.0, 2400.0, 1900.0, 1450.0, 1500.0, 650.0, 500.0, 650.0, 540.0, 500.0, 900.0, 600.0, 540.0, 500.0, 600.0, 1300.0, nan, 900.0, 900.0, 540.0, 900.0, 500.0, 500.0, 500.0, 750.0, 750.0, 800.0, 800.0, 800.0, 800.0, 550.0, 550.0, 550.0, 550.0, 1200.0, 1000.0, 915.0, 915.0, 915.0, 915.0, 915.0, 1200.0, 1200.0, 1200.0, 650.0, 1530.0, 1530.0, 1300.0, 1300.0, 1530.0, 1530.0, 1530.0, 1530.0, 1530.0, 1530.0, 1530.0, 1530.0, 1530.0, 1440.0, 1440.0, 1440.0, 1440.0, 1440.0, 1440.0, 1300.0, 1050.0, 1440.0, 1500.0, 1500.0, 1500.0, 1150.0, 1500.0, 1100.0, 920.0, 1300.0, 2100.0, 2000.0, 2000.0, 2300.0, 3000.0, 2000.0, 1800.0, 1900.0, 2200.0, 3000.0, 1300.0, 2000.0, 2000.0, 1400.0, 3000.0, 1800.0, 2500.0, 2000.0, 1400.0, 2000.0, 1500.0, 1700.0, 2000.0, 1900.0, 1700.0, 1500.0, 1500.0, 1550.0, 1500.0, 1500.0, 1500.0, 900.0, 1260.0, 1260.0, 1260.0, 1320.0, 1230.0, 1300.0, 1300.0, 1010.0, 1300.0, 1300.0, 1300.0, 1300.0, 1500.0, 1300.0, nan, 1300.0, 1300.0, 920.0, 840.0, 1300.0, 1300.0, 1050.0, 700.0, 700.0, 700.0, 700.0, 700.0, 700.0, 700.0, 700.0, 2670.0, 3600.0, 3410.0, 3030.0, 5000.0, 5000.0, 4000.0, 4000.0, 3000.0, 3150.0, 4000.0, 3450.0, 3700.0, 3100.0, 6020.0, 4550.0, 4010.0, 4000.0, 7000.0, 4000.0, 2300.0, 3000.0, 3100.0, 2400.0, 3150.0, 6020.0, 5000.0, 3130.0, 1800.0, 2530.0, 3000.0, 4000.0, 5000.0, 5020.0, 4000.0, 2000.0, 3150.0, 3150.0, 2400.0, 3500.0, 2400.0, 5000.0, 6020.0, 1800.0, 2700.0, 2000.0, 3000.0, 1600.0, 700.0, 3000.0, 1700.0, 5000.0, 2050.0, 1950.0, 2300.0, 1800.0, 1950.0, 1800.0, 2300.0, 2200.0, 2500.0, 2000.0, 2000.0, 1800.0, 4200.0, 2400.0, 3200.0, 2250.0, 3000.0, 2100.0, 1700.0, 1700.0, 1500.0, 1700.0, 1500.0, 1800.0, 1800.0, 1800.0, 2100.0, 3430.0, 2915.0, 3450.0, 3520.0, 2700.0, 2770.0, 9240.0, nan, 3300.0, 2500.0, 4000.0, 3300.0, 3000.0, 2200.0, 2000.0, 1100.0, 900.0, 1200.0, 1000.0, 1000.0, 1000.0, 1250.0, 2000.0, 1000.0, 1000.0, 1000.0, 650.0, 650.0, 650.0, 560.0, 730.0, 600.0, 980.0, 600.0, 600.0, 600.0, 560.0, 630.0, 650.0, 720.0, 720.0, 900.0, 600.0, 550.0, 600.0, 480.0, 600.0, 620.0, 600.0, 600.0, 680.0, 580.0, 600.0, 900.0, 720.0, 720.0, 600.0, 720.0, 720.0, 720.0, 520.0, 600.0, 600.0, 530.0, 600.0, 600.0, 5100.0, 4000.0, 3500.0, 3500.0, 3020.0, 3400.0, 4000.0, 3750.0, 5000.0, 5000.0, 3000.0, 3750.0, 3020.0, 3400.0, 3000.0, 3000.0, 3000.0, 3340.0, 3750.0, 3000.0, 3200.0, 3020.0, 4000.0, 2900.0, 3500.0, 4800.0, 3340.0, 3100.0, 4500.0, 3000.0, 2200.0, 3000.0, 4000.0, 3000.0, 3100.0, 3100.0, 1730.0, 2550.0, 3600.0, 3000.0, 2000.0, 2000.0, 2000.0, 3100.0, 3000.0, 2300.0, 3000.0, 2300.0, 2150.0, 2230.0, 4150.0, nan, nan, 8380.0, 5900.0, 3000.0, 7700.0, 3000.0, 2800.0, 3800.0, 5000.0, 4100.0, 3000.0, 5680.0, 7000.0, 4100.0, 4000.0, nan, 6300.0, 910.0, 910.0, 1230.0, 1230.0, 6300.0, nan, 1260.0, 1140.0, 1840.0, 1590.0, 1100.0, 1530.0, 1530.0, 1530.0, 1200.0, 1200.0, 1200.0, 1200.0, 1800.0, 1800.0, 1800.0, 1800.0, 3075.0, 3500.0, 3600.0, 3500.0, 2965.0, 2730.0, 3930.0, 3930.0, 2600.0, 3000.0, 4000.0, 3000.0, 2500.0, 3200.0, 2200.0, 3000.0, 3300.0, 2700.0, 2300.0, 2800.0, 2200.0, 2840.0, 2800.0, 2840.0, 3000.0, 3000.0, 2700.0, 2200.0, 2200.0, 2000.0, 3000.0, 2840.0, 2800.0, 2800.0, 2600.0, 2700.0, 2150.0, 2840.0, 2000.0, 2000.0, 2000.0, 2000.0, 2840.0, 2600.0, 2000.0, 2840.0, 2840.0, 2800.0, 2800.0, 2840.0, 2600.0, 2000.0, 2000.0, 2000.0, 2600.0, 2100.0, 2100.0, 2100.0, 6700.0, 2600.0, 2600.0, 2400.0, 2040.0, 2600.0, 2600.0, 2600.0, 2600.0, 2100.0, 2600.0, 2600.0, 2700.0, 2100.0, 2600.0, 1950.0, 2600.0, 2100.0, 2000.0, 1300.0, 2600.0, 2600.0, 2000.0, 2000.0, 2600.0, 2600.0, 2040.0, 2100.0, 2100.0, 2100.0, 2100.0, 2100.0, 3300.0, 1650.0, 2100.0, 1800.0, 1800.0, 1800.0, 1620.0, 1650.0, 1800.0, 3200.0, 1230.0, 1860.0, 2000.0, 2300.0, 2300.0, 1650.0, 1800.0, 2020.0, 2020.0, 1800.0, 1800.0, 1620.0, 1800.0, 2100.0, 1800.0, 1800.0, 1700.0, 1800.0, 1800.0, 1650.0, 1650.0, 1650.0, 1650.0, 1650.0, 1230.0, 1810.0, 1700.0, 2000.0, 2000.0, 1800.0, 1800.0, 1800.0, 1650.0, 1650.0, 1500.0, 1620.0, 1620.0, 1730.0, 1620.0, 1620.0, 1520.0, 1600.0, 1230.0, 1730.0, 1620.0, 1600.0, 1520.0, 1600.0, 1730.0, 7300.0, nan, 1600.0, 1520.0, 1400.0, nan, 1250.0, 1300.0, 1450.0, 1520.0, 1730.0, 1520.0, 1730.0, 1230.0, nan, 1400.0, 1450.0, 1450.0, 1230.0, 1520.0, 1250.0, 4000.0, 4000.0, 4000.0, 1230.0, 1300.0, 1400.0, 1500.0, 1200.0, 1230.0, 1230.0, 1230.0, 1300.0, 1300.0, 1500.0, 1230.0, 1300.0, 1200.0, 1730.0, 1200.0, 1300.0, 1300.0, 1400.0, 1200.0, 1300.0, nan, 1400.0, 1100.0, 1230.0, 1500.0, 1300.0, 1300.0, 1100.0, 1100.0, 1000.0, 1500.0, 1350.0, 1500.0, nan, 1500.0, 1340.0, 1500.0, 1500.0, 1500.0, 1500.0, 1100.0, 1150.0, 1100.0, 1500.0, 1350.0, 1350.0, 1100.0, 1100.0, 1050.0, 1340.0, 1340.0, 1340.0, 900.0, 2100.0, 1100.0, 1350.0, 1120.0, 1500.0, 1050.0, 1350.0, 1050.0, 1100.0, 1300.0, 2700.0, 2200.0, 1050.0, 1200.0, 1250.0, 1130.0, nan, 1500.0, 1250.0, 960.0, 1150.0, 1350.0, 1190.0, 1650.0, 1830.0, 2100.0, nan, nan, nan, nan, nan, 1800.0, 4500.0, 3020.0, 3020.0, 4000.0, 4000.0, 4000.0, 3020.0, 3750.0, 3400.0, 4000.0, 178.0, 420.0, 4200.0, 5000.0, 4200.0, 4000.0, 5100.0, 7500.0, 4000.0, 3750.0, 3340.0, 3750.0, 420.0, 3020.0, 2280.0, 3000.0, 3000.0, 4000.0, 4000.0, 3400.0, 3000.0, 3000.0, 3000.0, 3000.0, 4000.0, 7500.0, 7500.0, 5100.0, 3000.0, 3340.0, 4000.0, 4000.0, 4000.0, 420.0, 3340.0, 3020.0, 4000.0, 4800.0, 4800.0, 6660.0, 3340.0, 2950.0, 2200.0, 4800.0, 3100.0, 4000.0, 3000.0, 3000.0, 2200.0, 420.0, 420.0, 3750.0, 3200.0, 3000.0, 3000.0, 3020.0, 4000.0, 4000.0, 4000.0, 80.0, 4100.0, 5100.0, 3340.0, 3020.0, 6660.0, 4360.0, 4100.0, 3340.0, 4100.0, 4360.0, 2100.0, 2200.0, 3000.0, 3400.0, 3000.0, 6660.0, 300.0, 2200.0, 4000.0, 3000.0, 4000.0, 3450.0, 2700.0, 2200.0, 3000.0, 4800.0, 2000.0, 2000.0, 2200.0, 2200.0, 4360.0, 2600.0, 2200.0, 5000.0, 2000.0, 1730.0, 1950.0, nan, 1750.0, 1350.0, 3500.0, 4100.0, 4800.0, 4800.0, 4100.0, 2000.0, 2000.0, 3000.0, 2500.0, 4100.0, 2000.0, 1730.0, 2000.0, 1500.0, 1700.0, 2500.0, 2000.0, 2300.0, 2100.0, 6600.0, 2000.0, 2000.0, 4800.0, 5000.0, 1750.0, 4100.0, 2000.0, 4050.0, 1350.0, 1350.0, 2400.0, 1730.0, 1700.0, 1050.0, 600.0, 2150.0, 2150.0, nan, 1700.0, 4100.0, 4100.0, 2000.0, 1730.0, 1650.0, 1700.0, 2420.0, 2150.0, 1950.0, 1730.0, 1500.0, 1950.0, 4050.0, 3000.0, 1700.0, 1930.0, 1400.0, 6600.0, 1400.0, 1400.0, 2000.0, 1400.0, 1930.0, 1500.0, 4100.0, 1050.0, 1400.0, 1550.0, 1500.0, 2600.0, 1670.0, 1500.0, 600.0, nan, 1000.0, 1000.0, 1880.0, 1000.0, 1050.0, 1400.0, 6600.0, 2600.0, 1800.0, 2600.0, 1800.0, 1800.0, 1900.0, 1300.0, 800.0, 4100.0, 4100.0, 1000.0, 1500.0, 1200.0, 1200.0, 1500.0, 900.0, 1400.0, 1400.0, 1500.0, 1050.0, 1000.0, 800.0, 800.0, 1400.0, 1200.0, 1000.0, 1100.0, 830.0, 3250.0, 3250.0, 1400.0, 1500.0, 1200.0, 1200.0, 1150.0, 1000.0, 1100.0, nan, 930.0, 2200.0, 1050.0, 1000.0, 1150.0, 1150.0, 1500.0, 1500.0, nan, 800.0, nan, 1250.0, 1000.0, nan, 1300.0, nan, nan, nan, nan, 900.0, 900.0, nan, nan, nan, nan, nan, nan, nan, nan, nan, nan, 3340.0, nan, 1200.0, 1620.0, 1530.0, 1050.0, 1020.0, 1000.0, 1400.0, 1530.0, 1400.0, 1530.0, 1400.0, 1660.0, 1100.0, 1200.0, 1100.0, 1440.0, 1300.0, 1190.0, 750.0, 1200.0, 1620.0, 1250.0, 1050.0, 1050.0, 1150.0, 1200.0, 1200.0, 1300.0, 1050.0, 1050.0, 1050.0, 1200.0, 1000.0, 920.0, 1500.0, 1500.0, 1200.0, 1000.0, 1100.0, 1050.0, 750.0, 700.0, 1000.0, 1000.0, 1100.0, 950.0, 1050.0, 1000.0, 1050.0, 1050.0, 1000.0, 830.0, 1100.0, 1100.0, 1000.0, 1000.0, 750.0, 830.0, 1000.0, 1100.0, 830.0, 850.0, 1000.0, 750.0, 1000.0, 720.0, 700.0, 720.0, 750.0, 750.0, 680.0, 2800.0, 800.0, 2600.0, 2000.0, 1600.0, 1400.0, 2800.0, 1000.0, 2250.0, 1200.0, 1550.0, 1200.0, 1200.0, 2800.0, 2800.0, 1550.0, 1000.0, 6000.0, 2800.0, 1000.0, 500.0, 700.0, 2800.0, 1600.0, 2800.0, 3000.0, 800.0, 1500.0, 2150.0, 1800.0, 800.0, 1200.0, 1200.0, 1000.0, 950.0, 1000.0, 700.0, 1200.0, 3600.0, 2200.0, 700.0, 700.0, 950.0, 1050.0, 850.0, 1000.0, 800.0, 1050.0, 1000.0, 1000.0, 800.0, nan, 1050.0, 1050.0, 800.0, 800.0, 800.0, 800.0, nan, 580.0, 650.0, 3500.0, 4000.0, 4000.0, 4000.0, 4000.0, 4500.0, 3050.0, 3050.0, 4000.0, 4000.0, 4350.0, 4350.0, 4000.0, 4000.0, 4500.0, 4300.0, 3060.0, 4000.0, 3200.0, 3000.0, 4000.0, 4000.0, 4500.0, 4500.0, 3000.0, 780.0, 830.0, 920.0, 650.0, 780.0, 920.0, 650.0, 650.0, 650.0, 830.0, 780.0, 720.0, 680.0, 720.0, 720.0, 740.0, 740.0, 740.0, 1300.0, 1300.0, 1150.0, 1150.0, 1150.0, 2500.0, 2850.0, 2300.0, 3000.0, 600.0, 2300.0, 2000.0, 1500.0, 2000.0, 2000.0, 2000.0, 1700.0, 4000.0, 4000.0, 1600.0, 2500.0, 4450.0, 2100.0, 1900.0, 1950.0, 1400.0, 1700.0, 2000.0, 1400.0, 1500.0, 2050.0, 2000.0, 2000.0, 2300.0, 1350.0, 1400.0, 1800.0, 2000.0, 2600.0, 1400.0, 1200.0, 3000.0, 3000.0, 2000.0, 1400.0, 1250.0, 1750.0, 1800.0, 2100.0, 1450.0, 1400.0, 1400.0, 1750.0, 2000.0, 1600.0, 4000.0, 4500.0, 6000.0, 3700.0, 3700.0, 1000.0, 1200.0, 1800.0, 1600.0, 1000.0, 1800.0, 1500.0, 2200.0, 1800.0, 1800.0, 1000.0, 1000.0, 1000.0, 1500.0, 1800.0, 1500.0, 1800.0, 800.0, 2100.0, 1420.0, 1000.0, 1420.0, 2500.0, 3240.0, 3240.0, 3700.0, 3100.0, 2000.0, 3100.0, 2100.0, 2000.0, 2500.0, 1500.0, 1500.0, 1490.0, 1490.0, 920.0, 870.0, 1370.0, 1360.0, 1360.0, 780.0, 900.0, 920.0, 920.0, 650.0, 600.0, 2250.0, 3260.0, 3000.0, 2500.0, 3000.0, 3000.0, 3000.0, 2000.0, 2750.0, 2500.0, 2500.0, 2350.0, 1500.0, 2000.0, 3020.0, 2620.0, 2600.0, 2000.0, 2200.0, 1550.0, 1550.0, 2800.0, 2500.0, 1750.0, 1850.0, 2350.0, 2600.0, 2500.0, 1300.0, 4000.0, 1500.0, 1750.0, 2800.0, 2350.0, 2700.0, 2500.0, 2000.0, 2000.0, 2200.0, 1750.0, 2000.0, 2500.0, 2500.0, 1850.0, 2500.0, 2500.0, 2000.0, 3000.0, 2500.0, 2000.0, 3000.0, 2500.0, 2000.0, 1550.0, 2900.0, 2000.0, 1400.0, 4000.0, 2000.0, 1400.0, 2500.0, 1750.0, 2000.0, 2560.0, 1400.0, 1400.0, 2500.0, 2200.0, 1750.0, 2200.0, 2500.0, 1650.0, 1750.0, 1450.0, 1400.0, 1100.0, 1400.0, 4000.0, 1950.0, 1450.0, 1400.0, 1200.0, 1400.0, 1700.0, 1500.0, 3000.0, 1400.0, 1400.0, 1650.0, 2100.0, 2000.0, 1800.0, 1200.0, 1500.0, 1800.0, 1500.0, 1400.0, 2000.0, 1500.0, 1800.0, 1700.0, 2600.0, 2000.0, 2000.0, 1500.0, 1400.0, 1400.0, 1400.0, 2000.0, 2000.0, 2000.0, 2000.0, 1500.0, 1500.0, 1400.0, 2000.0, 4000.0, 4070.0, 3000.0, 4070.0, 3100.0, 3000.0, 3000.0, 3400.0, 3000.0, 5180.0, 3500.0, 3300.0, 3350.0, 3350.0, 3500.0, 4050.0, 3000.0, 3300.0, 3760.0, 4000.0, 3000.0, 3000.0, 3000.0, 3000.0, 7000.0, 3500.0, 3500.0, 4000.0, 4000.0, 4000.0, 7000.0, 7000.0, 4850.0, 4850.0, 4250.0, 3100.0, 2300.0, 2300.0, 2000.0, 2000.0, 5100.0, 4000.0, 4000.0, 3000.0, 9600.0, 1700.0, 3500.0, 2750.0, 4050.0, 4050.0, 4050.0, 3500.0, 2300.0, 3100.0, 7000.0, 4290.0, 3450.0, 2750.0, 2750.0, 2900.0, 4900.0, 3500.0, 2750.0, 2700.0, 3300.0, 3300.0, 3500.0, 2300.0, 10200.0, 6200.0, 2000.0, 4250.0, 3500.0, 5000.0, 2300.0, 2300.0, 4000.0, 2420.0, 4100.0, 2000.0, 2250.0, 2300.0, 4000.0, 2150.0, 2300.0, 1500.0, 3000.0, 3000.0, 2900.0, 2900.0, 4000.0, 7000.0, 4290.0, 4000.0, 3450.0, 3450.0, 3450.0, 2300.0, 4000.0, 2410.0, 2300.0, 3300.0, 2500.0, 2500.0, 1500.0, 2300.0, 2150.0, 2000.0, 9600.0, 9600.0, 6400.0, 4290.0, 2300.0, 3000.0, 2500.0, 4000.0, 2500.0, 2000.0, 3000.0, 2000.0, 2500.0, 2000.0, 1300.0, 2000.0, 2000.0, 2000.0, 6340.0, 4200.0, 3450.0, 3500.0, 9000.0, 4000.0, 2000.0, 3000.0, 2500.0, 2250.0, 3000.0, 2000.0, 3000.0, 9000.0, 6000.0, 2500.0, 2000.0, 2000.0, 3450.0, 2250.0, 2000.0, 4000.0, 2000.0, 1500.0, 1500.0, 1300.0, 2250.0, 6350.0, 6350.0, 6350.0, 6350.0, 3500.0, 3500.0, 2500.0, 2250.0, 3550.0, 2250.0, 2000.0, 2000.0, 2000.0, 1500.0, 2000.0, 3500.0, 1500.0, 2000.0, 2250.0, 1500.0, 2250.0, 2500.0, 1500.0, 1700.0, 1800.0, 650.0, 1100.0, 1000.0, 1400.0, 650.0, 1500.0, 1500.0, 1900.0, 1350.0, 7560.0, 3780.0, 1680.0, nan, 7400.0, 3250.0, 3400.0, nan, nan, nan, 4000.0, 3550.0, 3500.0, 3500.0, 3500.0, 3000.0, 3000.0, 3300.0, 240.0, 2500.0, 2500.0, 3000.0, 3000.0, 3300.0, 3000.0, 3300.0, 3300.0, 3300.0, 3000.0, 3000.0, 3300.0, 2500.0, 2880.0, 3000.0, 2500.0, 2410.0, 3000.0, 3300.0, 3000.0, 3000.0, 3000.0, 4100.0, 3300.0, 4500.0, 430.0, 240.0, 3080.0, 3200.0, 2800.0, 2700.0, 2800.0, 2500.0, 2500.0, 2500.0, 2100.0, 6000.0, 3000.0, 3200.0, 2100.0, 2800.0, 2800.0, 3000.0, 4800.0, 4800.0, 4100.0, 2100.0, 3000.0, 3000.0, 1900.0, 1940.0, 2800.0, 2800.0, 2520.0, 2300.0, 2125.0, 3000.0, 2300.0, 2125.0, 1940.0, 4800.0, 3000.0, 3000.0, 410.0, 410.0, 570.0, 3000.0, 2700.0, 2050.0, 7400.0, 4200.0, 1700.0, 1900.0, 2540.0, 2300.0, 950.0, 950.0, 2540.0, 3000.0, 3000.0, 3000.0, 3000.0, 2610.0, 700.0, 400.0, 2540.0, 2100.0, 1900.0, 1900.0, 3000.0, 2100.0, 2460.0, 1820.0, 3000.0, 3000.0, 2100.0, 1540.0, 1700.0, 3000.0, 2540.0, 1900.0, 4200.0, 3200.0, 2610.0, 4000.0, 1900.0, 1540.0, 1540.0, 3200.0, 3000.0, 2540.0, 2540.0, 2100.0, 3000.0, 3000.0, 950.0, 1540.0, 3000.0, 8000.0, 8000.0, 4200.0, 4000.0, 2540.0, 2540.0, 2440.0, 2100.0, 4600.0, 2440.0, 2440.0, 2440.0, 2440.0, 2540.0, 2540.0, 2100.0, 2100.0, 1540.0, 1700.0, 1700.0, 3200.0, 2150.0, 1540.0, 2460.0, 3140.0, 2300.0, 3500.0, 1540.0, 3140.0, 3140.0, 1540.0, 2610.0, 4600.0, 3000.0, 2150.0, 2460.0, 2280.0, 1700.0, 1700.0, 1540.0, 2460.0, 2150.0, 2540.0, 2460.0, 2150.0, 3140.0, 2460.0, 2460.0, 1700.0, 1700.0, 1540.0, 1540.0, 1540.0, 2100.0, 1700.0, 1500.0, 950.0, 1110.0, 2150.0, 1700.0, 2150.0, 2150.0, 2150.0, 2100.0, 2100.0, 2100.0, 2080.0, 1700.0, 2150.0, 1540.0, 2150.0, 1700.0, 2100.0, 1540.0, 1100.0, 950.0, 950.0, 1520.0, 950.0, 2150.0, 1830.0, 1000.0, 1700.0, 1300.0, 2150.0, 1520.0, 1520.0, 1700.0, 1500.0, 2080.0, 1700.0, 1500.0, 6800.0, 1000.0, 1540.0, 1700.0, 1830.0, 1500.0, 1540.0, 1830.0, 1830.0, 1500.0, 1000.0, 1500.0, 1540.0, 900.0, 1500.0, 1500.0, 1830.0, 1830.0, 1500.0, 1500.0, 1500.0, 1500.0, 1500.0, 1500.0, 1500.0, 1500.0, 1500.0, 1500.0, 900.0, 950.0, 900.0, 900.0, 950.0, 950.0, 1500.0, 950.0, 900.0, 1100.0, 1100.0, 950.0, 1280.0, nan, 950.0, 950.0, 950.0, 950.0, 1500.0, 900.0, 1500.0, 1500.0, 1500.0, 1500.0, 900.0, 1500.0, 6400.0, 950.0, 950.0, 950.0, 670.0, 1500.0, 1280.0, 1500.0, 1500.0, 1500.0, 1500.0, 1500.0, 900.0, 1250.0, 900.0, 900.0, 950.0, 900.0, 900.0, 1500.0, 1500.0, 1500.0, 1500.0, 1000.0, 1500.0, 900.0, 950.0, 900.0, 1500.0, 1500.0, 1500.0, 900.0, 1250.0, nan, 1500.0, 1500.0, 1500.0, 1500.0, 1500.0, 900.0, 950.0, 900.0, 800.0, 1250.0, 1100.0, 900.0, 900.0, 900.0, 1500.0, 900.0, 900.0, 900.0, 950.0, 1500.0, 900.0, 900.0, nan, 950.0, 1000.0, 1250.0, 1350.0, 900.0, 900.0, 1500.0, 1500.0, 1000.0, 900.0, 800.0, 950.0, 950.0, 950.0, 900.0, 800.0, 1500.0, 1500.0, 900.0, nan, 1850.0, 900.0, 1500.0, 800.0, 1500.0, 1000.0, 900.0, 950.0, 950.0, 1500.0, 800.0, 1100.0, 950.0, 1500.0, 900.0, 900.0, 950.0, 900.0, 1000.0, 950.0, 900.0, 900.0, 900.0, 900.0, 1500.0, 1500.0, 1000.0, 900.0, 1000.0, 950.0, 950.0, 950.0, 1300.0, 1000.0, nan, 1000.0, 950.0, 1000.0, 1000.0, 800.0, 800.0, 950.0, 950.0, 950.0, 950.0, 1100.0, 900.0, 1000.0, 1000.0, 1000.0, 800.0, 800.0, 800.0, 950.0, 950.0, 900.0, 800.0, 900.0, 950.0, 950.0, nan, 1030.0, 800.0, 950.0, 950.0, 900.0, 900.0, 900.0, 900.0, 1000.0, 1000.0, 900.0, 900.0, 900.0, 800.0, 900.0, nan, 1350.0, 900.0, 800.0, 800.0, nan, nan, 800.0, 800.0, 800.0, 860.0, 1000.0, 900.0, 800.0, 800.0, 800.0, 1000.0, 900.0, 800.0, 800.0, 900.0, 960.0, 800.0, 800.0, 830.0, 900.0, 800.0, 800.0, 800.0, 800.0, 800.0, 750.0, 830.0, 750.0, 900.0, nan, 900.0, 900.0, 900.0, 900.0, 900.0, 900.0, 1000.0, 820.0, 830.0, 1050.0, 1000.0, 1000.0, 800.0, 800.0, 800.0, 750.0, 1300.0, 860.0, 800.0, 750.0, 800.0, 800.0, 900.0, 950.0, 950.0, 800.0, 980.0, 1110.0, 1000.0, 900.0, 950.0, 1530.0, 800.0, 750.0, 1050.0, 680.0, 970.0, 830.0, 800.0, 830.0, 1100.0, 1530.0, 850.0, 1530.0, 800.0, 700.0, 1000.0, 1000.0, 1000.0, 750.0, 800.0, 800.0, 750.0, 830.0, 820.0, 1050.0, 950.0, 1400.0, 830.0, 830.0, 1100.0, 830.0, 830.0, 720.0, 800.0, 830.0, 800.0, 800.0, 1440.0, 1440.0, 800.0, 720.0, 720.0, 1440.0, 800.0, 1000.0, 930.0, 1050.0, 800.0, 780.0, 930.0, 780.0, 1000.0, 700.0, 1300.0, 1000.0, 1000.0, 1050.0, 1000.0, 950.0, 1000.0, 930.0, 780.0, 1000.0, 1000.0, 1050.0, 1400.0, 1400.0, 1400.0, 1400.0, 1000.0, 1000.0, 930.0, 780.0, 780.0, 1000.0, 1050.0, 950.0, 950.0, 760.0, 760.0, 950.0, 720.0, 950.0, 700.0, 1000.0, 800.0, 950.0, 1200.0, 850.0, 950.0, 760.0, 760.0, 780.0, 950.0, 720.0, 850.0, 780.0, 1200.0, 1000.0, 700.0, 1200.0, 1050.0, 780.0, 720.0, 760.0, 720.0, 850.0, 760.0, 760.0, 760.0, 850.0, 810.0, 820.0, 820.0, 820.0, 820.0, 780.0, 780.0, 850.0, 850.0, 650.0, 630.0, 600.0, 600.0, 600.0, 1500.0, 1540.0, 3600.0, 1700.0, 2000.0, 720.0, 720.0, 720.0, 850.0, 900.0, nan, 850.0, 1000.0, 850.0, 850.0, 900.0, 850.0, 720.0, 720.0, 720.0, 900.0, 850.0, 900.0, 600.0, 600.0, 600.0, 600.0, 600.0, 850.0, 850.0, 550.0, 550.0, 600.0, 600.0, 600.0, 600.0, 2800.0, 3000.0, 2200.0, 2000.0, 2200.0, 1400.0, 2200.0, 900.0, 3000.0, 2700.0, 3000.0, 2100.0, 800.0, 1400.0, 2000.0, 1700.0, 2800.0, 2200.0, 2000.0, 800.0, 1400.0, 1300.0, 2300.0, 2300.0, 2800.0, 1300.0, 2350.0, 1300.0, 2800.0, 800.0, 1450.0, 2350.0, 2000.0, 1400.0, 1100.0, 2000.0, 2000.0, 2000.0, 1700.0, 800.0, 800.0, 4000.0, 3000.0, nan, 3000.0, 3600.0, 3210.0, 3100.0, 3200.0, 3100.0, 3010.0, 3570.0, 3070.0, 3300.0, 3500.0, 3000.0, 3000.0, 3360.0, 3000.0, 3070.0, 4000.0, 3500.0, 3000.0, 3000.0, 3400.0, 3000.0, 4000.0, 3200.0, 3400.0, 3150.0, 2760.0, 3260.0, 3060.0, 3070.0, 4100.0, 3100.0, 3060.0, 3020.0, 2870.0, 2560.0, 4100.0, nan, 3140.0, 3050.0, 2500.0, 3150.0, 3100.0, 3140.0, 2500.0, 3350.0, 3100.0, 2400.0, 1800.0, 1700.0, 1600.0, 4000.0, 4000.0, 5000.0, 2000.0, 3000.0, 2500.0, 5000.0, 5000.0, 5000.0, 3000.0, 1300.0, 2730.0, 3000.0, 2500.0, 1600.0, 1600.0, 3000.0, 2980.0, 3000.0, 3000.0, 2500.0, 3050.0, 4000.0, 4000.0, 1300.0, 3200.0, 1800.0, 3000.0, 4000.0, 1800.0, 1800.0, 1600.0, 2000.0, 3050.0, 2000.0, 2000.0, 3000.0, 2000.0, 2500.0, 2500.0, 2000.0, 1400.0, 1200.0, 3000.0, 1750.0, 2000.0, 2500.0, 2500.0, 2500.0, 3900.0, 2500.0, 3000.0, 3000.0, 4000.0, 2230.0, 3000.0, 2100.0, 2500.0, 2000.0, 2500.0, 2000.0, 1750.0, 2500.0, 2900.0, 2820.0, 2000.0, 2820.0, 2000.0, 4000.0, 1650.0, 200.0, 2000.0, 1450.0, 1850.0, 2000.0, 4000.0, 1800.0, 2500.0, 2300.0, 2000.0, 2500.0, 1300.0, 1200.0, 2800.0, 2000.0, 4000.0, 2260.0, 1700.0, 3000.0, 2400.0, 2000.0, 2820.0, 2000.0, 1200.0, 1600.0, 1800.0, 3000.0, 1450.0, 1800.0, 1700.0, 1300.0, 2000.0, 2500.0, 2000.0, 4400.0, 3200.0, 2300.0, 1300.0, 3000.0, 1900.0, 1950.0, 2000.0, 1700.0, 2500.0, 1500.0, 2000.0, 2350.0, 2000.0, 1750.0, 2300.0, 2000.0, 1500.0, 2100.0, 2000.0, 1900.0, 3000.0, 2000.0, 2000.0, 2500.0, 1600.0, 2800.0, 1800.0, 1750.0, 1900.0, 1500.0, 1500.0, 1500.0, 2350.0, 1800.0, 1800.0, 2450.0, 2000.0, 1500.0, 3000.0, 2000.0, 2000.0, 4800.0, 2000.0, 2000.0, 1500.0, 1850.0, 1500.0, 2600.0, 2000.0, 2000.0, 1800.0, 2000.0, nan, nan, nan, nan, nan, nan, nan, nan, nan, 2100.0, 3000.0, 3000.0, nan, 3000.0, nan, nan, nan, nan, 1500.0, nan, nan, 2000.0, 2000.0, 2100.0, 2000.0, 1450.0, 1400.0, 1400.0, 4000.0, 2800.0, 5600.0, 2000.0, 1600.0, 1600.0, 1630.0, 2500.0, 1200.0, 1280.0, 1000.0, 1450.0, 1000.0, 1000.0, 1800.0, 800.0, 1400.0, 1280.0, 1300.0, 1200.0, nan, nan, nan, nan, nan, nan, nan, nan, 1200.0, 1300.0, 2800.0, 1300.0, 1080.0, 850.0, 1000.0, 2400.0, 1500.0, 1800.0, 1300.0, 1800.0, 1200.0, 950.0, nan, 1100.0, 1000.0, 1000.0, 1000.0, 900.0, 1500.0, 1200.0, 1450.0, 850.0, 800.0, 1000.0, 1200.0, 850.0, 850.0, 1000.0, 1000.0, 1000.0, 1100.0, 1280.0, 1100.0, 1200.0, 1500.0, 800.0, 900.0, 1800.0, 850.0, 450.0, 1800.0, 940.0, 1000.0, 1050.0, 800.0, 1200.0, 950.0, 800.0, 850.0, 1500.0, nan, 1000.0, 1000.0, 1000.0, 1000.0, 1000.0, 850.0, 1800.0, 1800.0, 480.0, 1050.0, 1000.0, 800.0, 700.0, 1050.0, 2000.0, 3300.0, 3300.0, 3000.0, 3000.0, 2100.0, 2200.0, 1500.0, 3000.0, 3000.0, 3000.0, 3000.0, 2500.0, 2500.0, 2500.0, 1560.0, 1560.0, 1560.0, 1560.0, 1905.0, 1905.0, nan, nan, 1240.0, 1240.0, 1390.0, 1240.0, 2600.0, nan, nan, 1000.0, 1000.0, 670.0, 790.0, 1050.0, 1050.0, 1130.0, 1300.0, 1050.0, 850.0, 1050.0, 1050.0, 810.0, 680.0, 730.0, 600.0, 680.0, 900.0, 780.0, 780.0, nan, 800.0, 900.0, 900.0, 500.0, 500.0, 800.0, 800.0, 900.0, 540.0, 540.0, 540.0, 540.0, 580.0, 900.0, 900.0, 900.0, 500.0, 530.0, 530.0, 530.0, 530.0, 530.0, 530.0, 530.0, 3000.0, 3000.0, 5000.0, 3000.0, 3000.0, 5000.0, 3000.0, 3000.0, 2800.0, 2100.0, 2800.0, 5000.0, 4000.0, 4000.0, 3000.0, 3200.0, 3000.0, 3000.0, 3300.0, 3000.0, 3000.0, 2730.0, 5000.0, 5000.0, 2800.0, 2800.0, 3000.0, 4000.0, 2350.0, 3000.0, 2800.0, 3050.0, 3500.0, 3510.0, 2800.0, 3500.0, 2600.0, 3000.0, 3000.0, 2800.0, 2470.0, 3760.0, 3760.0, 3630.0, 3000.0, 3630.0, 3630.0, 2470.0, 300.0, 300.0, 400.0, 320.0, 2470.0, 2390.0, 2390.0, 2390.0, 2390.0, 3900.0, 3900.0, 3220.0, 2300.0, 2070.0, 2070.0, 2070.0, 2000.0, 1980.0, 1980.0, 2070.0, 2070.0, 2200.0, 2130.0, 3500.0, 2000.0, 2000.0, 1785.0, 2000.0, 2000.0, 3300.0, 2530.0, 2500.0, 2000.0, 2000.0, 1650.0, 1780.0, 1785.0, 1700.0, 1780.0, 1650.0, nan, 1700.0, 910.0, 1500.0, 750.0, 1750.0, 1780.0, 1750.0, 1735.0, 910.0, 1540.0, nan, 3300.0, 1650.0, 750.0, 1785.0, 3300.0, 1390.0, nan, 1400.0, 1650.0, 1650.0, 1390.0, 910.0, 1400.0, 1735.0, 1735.0, 3960.0, 7000.0, 1500.0, 1390.0, 910.0, 910.0, 3960.0, 3960.0, 7000.0, 7000.0, nan, 1780.0, 1780.0, 1785.0, 1860.0, nan, 1600.0, 1700.0, 750.0, 910.0, 910.0, 750.0, 750.0, 750.0, 1540.0, 1420.0, 1420.0, 1420.0, 1540.0, 1540.0, 1400.0, 1700.0, 910.0, 910.0, 1880.0, 1390.0, 1500.0, 1880.0, 1420.0, 1860.0, 750.0, 1420.0, nan, nan, nan, 1930.0, 1930.0, 1420.0, 1735.0, 1540.0, 1930.0, 1500.0, 1390.0, 1420.0, 910.0, 910.0, 910.0, 1420.0, 1170.0, 1170.0, 1170.0, 1380.0, 1540.0, 1150.0, 1150.0, 1130.0, 910.0, 930.0, 930.0, 950.0, 1540.0, 1400.0, 1400.0, 1140.0, nan, 1380.0, 1130.0, nan, 950.0, nan, 1130.0, 1540.0, 1540.0, 1540.0, 1390.0, 1390.0, 1270.0, 1270.0, 1130.0, 750.0, 750.0, 750.0, 750.0, 750.0, 750.0, 1420.0, 1400.0, 1390.0, 1420.0, 1140.0, 1390.0, 1400.0, 650.0, 650.0, 650.0, 650.0, 650.0, 650.0, 930.0, 1420.0, 950.0, 1170.0, 1130.0, 910.0, 880.0, 2400.0, 940.0, 910.0, 1170.0, 1130.0, 1130.0, nan, 700.0, 810.0, 810.0, 810.0, 1170.0, nan, 950.0, nan, 940.0, nan, 970.0, 940.0, 780.0, 950.0, 850.0, 850.0, 950.0, 1130.0, 930.0, 1000.0, 1000.0, 910.0, 940.0, 920.0, 950.0, 930.0, 850.0, nan, nan, 940.0, 940.0, 1130.0, 970.0, nan, nan, nan, nan, nan, 1130.0, 900.0, 950.0, 770.0, 880.0, nan, 850.0, 850.0, 850.0, 850.0, 1030.0, 910.0, 880.0, 1170.0, 1170.0, 880.0, 850.0, 850.0, 720.0, 1000.0, 880.0, 940.0, 940.0, 720.0, 700.0, nan, 850.0, 850.0, 800.0, 880.0, 1000.0, nan, 850.0, 710.0, 830.0, 1000.0, 850.0, 1000.0, 1000.0, 1000.0, 840.0, 1130.0, 1020.0, 820.0, 820.0, 820.0, 820.0, 820.0, 820.0, 820.0, 820.0, 1000.0, 920.0, 920.0, 920.0, 1530.0, 920.0, 920.0, 820.0, 750.0, nan, 700.0, 810.0, 810.0, 820.0, 820.0, 810.0, 810.0, 600.0, 720.0, 820.0, nan, 810.0, 820.0, 820.0, 820.0, 820.0, 680.0, 680.0, 780.0, 1750.0, nan, 930.0, 820.0, 780.0, 820.0, 850.0, 780.0, 830.0, 800.0, nan, 830.0, 920.0, 920.0, 930.0, 860.0, 960.0, 1000.0, 960.0, 810.0, nan, 820.0, 1600.0, 780.0, 850.0, 800.0, 820.0, 540.0, 700.0, 700.0, 860.0, 860.0, 640.0, 1050.0, 1050.0, nan, 860.0, nan, 700.0, nan, 650.0, 780.0, 700.0, 700.0, nan, 600.0, 600.0, 600.0, 750.0, 600.0, 700.0, 1050.0, 800.0, 750.0, nan, 700.0, nan, 780.0, 600.0, 750.0, 1100.0, 1100.0, 550.0, 600.0, 750.0, 600.0, 430.0, 600.0, 600.0, 600.0, 600.0, 600.0, 700.0, 500.0, 800.0, 700.0, 500.0, 800.0, 500.0, 600.0, nan, nan, 600.0, 600.0, 500.0, 600.0, 700.0, 500.0, 500.0, 700.0, 700.0, 600.0, 600.0, 500.0, 600.0, 500.0, 500.0, 500.0, 500.0, 500.0, 900.0, 1000.0, 1000.0, 700.0, 700.0, 700.0, 700.0, 700.0, 700.0, 650.0, 1530.0, 1530.0, 1500.0, 1300.0, 1250.0, 1900.0, 720.0, 1530.0, 720.0, 1000.0, 900.0, 850.0, 820.0, 860.0, 550.0, 770.0, 800.0, 720.0, 600.0, 1000.0, 850.0, 850.0, 800.0, 530.0, 700.0, 720.0, 300.0, 720.0, 850.0, 1200.0, 800.0, 700.0, 830.0, 1100.0, 700.0, 820.0, 780.0, 540.0, 780.0, 780.0, 570.0, 570.0, 630.0, 1300.0, 800.0, 700.0, 1100.0, 950.0, 950.0, 700.0, 1100.0, 720.0, 750.0, 760.0, 680.0, 700.0, 1050.0, 1050.0, 780.0, 780.0, 1000.0, 1200.0, 1200.0, 800.0, 800.0, 700.0, 800.0, 780.0, 800.0, 1550.0, 1550.0, 600.0, 600.0, 800.0, 550.0, 550.0, 550.0, 550.0, 750.0, 1100.0, 1100.0, 3000.0, 1300.0, 1400.0, 1550.0, 1800.0, 600.0, 600.0, 1000.0, 2000.0, 1200.0, 1200.0, 650.0, 1650.0, 1500.0, 1400.0, 500.0, 1300.0, 860.0, 800.0, 1200.0, 1650.0, 800.0, 1200.0, 1000.0, 500.0, 750.0, 850.0, 1000.0, 1000.0, 1000.0, 3320.0, 3000.0, 4000.0, 2500.0, 1020.0, 3500.0, 800.0, 3500.0, 3060.0, 3060.0, 3060.0, 2970.0, 2990.0, 4000.0, 1500.0, 3260.0, 3800.0, 3000.0, 2150.0, 1200.0, 4100.0, 3000.0, 1200.0, 3090.0, 800.0, 1020.0, 2630.0, 3000.0, 3000.0, 1200.0, 1020.0, 1020.0, 1200.0, 1200.0, 1100.0, 1100.0, 800.0, 800.0, 1100.0, 1100.0, 1830.0, 5300.0, 2200.0, 2200.0, 2200.0, 1020.0, 1020.0, 1430.0, 1430.0, 1800.0, 1200.0, 1200.0, 2420.0, 1830.0, 1830.0, 1830.0, 2000.0, 1500.0, 1500.0, 1020.0, 1100.0, 2420.0, 1430.0, 3400.0, 3400.0, 8120.0, 1200.0, 1200.0, 1010.0, 1200.0, 1200.0, 950.0, 1200.0, 1020.0, 800.0, 2000.0, 2000.0, 1020.0, 1020.0, 2000.0, 2000.0, 1200.0, 1200.0, 2000.0, 1430.0, 1110.0, 800.0, 1110.0, 1300.0, 1300.0, 1020.0, 1100.0, 1020.0, 800.0, 1800.0, 1300.0, 1800.0, 1110.0, 1110.0, 2000.0, 1650.0, 1110.0, 1110.0, 1110.0, 800.0, 1400.0, 800.0, 1020.0, 1300.0, 800.0, 1400.0, 1450.0, 1300.0, 1320.0, 1020.0, 1020.0, 1830.0, 1830.0, 1300.0, 1020.0, 1450.0, 1300.0, 1300.0, 1300.0, 1110.0, 1430.0, 1430.0, nan, 860.0, 800.0, 1000.0, 1000.0, 1000.0, 1020.0, 850.0, 1300.0, 1080.0, 1200.0, 1050.0, 1110.0, 1450.0, 1050.0, 1020.0, 1020.0, 1020.0, 1200.0, 1200.0, 1320.0, 1200.0, 1320.0, 1200.0, 1500.0, 1200.0, 1320.0, 1020.0, 1020.0, 1000.0, 1200.0, 1050.0, 1200.0, 1050.0, 1000.0, nan, 860.0, 1320.0, 950.0, 1320.0, 1500.0, 1020.0, 1020.0, 800.0, 1020.0, 1200.0, 860.0, 1200.0, 1200.0, 1320.0, 1050.0, 950.0, 950.0, 1050.0, 1200.0, 1320.0, 1020.0, 1320.0, 860.0, 860.0, 1000.0, 860.0, 860.0, 800.0, 800.0, 800.0, 1320.0, 1200.0, 1200.0, 860.0, 1320.0, 1320.0, 1020.0, 1320.0, 1050.0, 1050.0, 1500.0, 1500.0, 1050.0, 1000.0, 1500.0, 860.0, 1050.0, 1000.0, 860.0, 860.0, 1020.0, 1500.0, 1000.0, 1000.0, 1000.0, 1020.0, 1200.0, 1000.0, 1500.0, 1050.0, 950.0, 860.0, 970.0, 1050.0, 1020.0, 860.0, 1000.0, 1500.0, 950.0, 1500.0, 860.0, 1020.0, 1020.0, 1020.0, 860.0, 860.0, 720.0, 1320.0, 1200.0, 1200.0, 1000.0, 1020.0, 860.0, 870.0, 860.0, 860.0, 1500.0, 1000.0, 860.0, nan, 1000.0, 860.0, 890.0, 1020.0, 1000.0, 700.0, 700.0, 860.0, 700.0, 860.0, 950.0, 1200.0, 900.0, 950.0, 890.0, 1500.0, 1020.0, 1000.0, 850.0, 870.0, 700.0, 1020.0, 1050.0, 1000.0, 1000.0, 860.0, 1050.0, 1050.0, nan, 1050.0, 1050.0, 1200.0, 900.0, 860.0, 1020.0, 850.0, 700.0, 900.0, 900.0, 830.0, 1500.0, 820.0, 700.0, nan, 1020.0, 700.0, 700.0, 1020.0, 700.0, 700.0, 890.0, 890.0, 900.0, 860.0, 1500.0, 950.0, 1500.0, 1100.0, 900.0, nan, 1020.0, 1020.0, 700.0, 950.0, 950.0, 850.0, 860.0, 970.0, 950.0, 800.0, 860.0, 760.0, 1100.0, 970.0, 700.0, nan, 700.0, 1100.0, 820.0, 900.0, 970.0, 860.0, 1100.0, 1100.0, 970.0, 970.0, 970.0, 700.0, 820.0, 820.0, 820.0, 820.0, 760.0, 820.0, 820.0, 1100.0, nan, 970.0, 1100.0, 1500.0, 820.0, 970.0, 700.0, 700.0, 760.0, 1150.0, 1500.0, 1500.0, 970.0, 1100.0, nan, 970.0, 970.0, 700.0, 760.0, 900.0, 760.0, 970.0, 760.0, 900.0, 900.0, 850.0, 760.0, 600.0, 900.0, 900.0, 900.0, 900.0, 900.0, 760.0, 850.0, 1300.0, 760.0, 760.0, 900.0, 700.0, 780.0, 760.0, 970.0, 900.0, 760.0, 760.0, 720.0, 760.0, 820.0, 760.0, 1070.0, 820.0, 900.0, 1300.0, 760.0, 780.0, 760.0, 1300.0, 760.0, 850.0, 850.0, 1000.0, 850.0, 850.0, 780.0, 850.0, 850.0, 850.0, 850.0, 850.0, 780.0, 850.0, 780.0, 780.0, 850.0, 780.0, 830.0, 1000.0, 760.0, 760.0, 720.0, 950.0, 850.0, 1000.0, 950.0, 780.0, 830.0, 1300.0, 780.0, 1050.0, 950.0, 825.0, 750.0, 830.0, 750.0, 750.0, 1000.0, 750.0, 950.0, 830.0, 1050.0, 1000.0, 900.0, 830.0, 1300.0, 900.0, 830.0, 650.0, 830.0, 1200.0, 600.0, 1050.0, 600.0, 1100.0, nan, nan, 600.0, 600.0, 600.0, 600.0, 400.0, 400.0, 550.0, 5200.0, 5400.0, 5400.0, 1340.0, 1110.0, 1300.0, 900.0, 1350.0, 1350.0, 1350.0, 1350.0, 1350.0, 1300.0, 1120.0, 920.0, 1620.0, 1530.0, 1300.0, 1100.0, 1000.0, 1000.0, 1300.0, 700.0, 970.0, 1530.0, 1350.0, 1200.0, 1530.0, 1150.0, 1620.0, 1200.0, 1100.0, 730.0, 1150.0, 1050.0, 780.0, 760.0, 750.0, 1200.0, 1490.0, 1200.0, 700.0, 1240.0, 1240.0, 820.0, 1200.0, 1000.0, nan, 3700.0, 3700.0, 3300.0, 3300.0, 3300.0, 3400.0, 3000.0, 2525.0, 3300.0, 3100.0, 4000.0, 4000.0, 4230.0, 3600.0, 3600.0, 3600.0, 3500.0, 3700.0, 3500.0, 3500.0, 4230.0, 4230.0, 3400.0, 3730.0, 3410.0, 3400.0, 3400.0, 3430.0, 3450.0, 3180.0, 3000.0, 3180.0, 3200.0, 3200.0, 4000.0, 3200.0, 3000.0, 3200.0, 4000.0, 3000.0, 3200.0, 2900.0, 3200.0, 4000.0, 2900.0, 3075.0, 4000.0, 3010.0, 2630.0, 3075.0, 4120.0, 2850.0, 2500.0, 3075.0, 2400.0, 2420.0, 3070.0, 2320.0, 2000.0, 2420.0, 2420.0, 2000.0, 4100.0, 2320.0, 2000.0, 2000.0, 1700.0, 2000.0, 2000.0, 2420.0, 3000.0, 2000.0, 3000.0, 2410.0, 1900.0, 2000.0, 1900.0, 1700.0, 1900.0, 2140.0, 2410.0, 3000.0, 2800.0, 1900.0, 2410.0, 3610.0, 2000.0, 2500.0, 2020.0, 1100.0, 1700.0, 1520.0, 3150.0, 1710.0, 1710.0, 1500.0, 1710.0, 2300.0, 2000.0, 2000.0, 1700.0, nan, 4000.0, 1400.0, nan, nan, 800.0, 1000.0, nan, 1250.0, nan, nan, nan, nan, nan, 800.0, nan, nan, 1150.0, 1150.0, 1150.0, 1150.0, 1500.0, 1150.0, 1200.0, 1200.0, 1000.0, 1200.0, 780.0, 780.0, 780.0, 780.0, 4000.0, 4000.0, 4000.0, 3000.0, 4000.0, 3000.0, 2400.0, 2300.0, 4000.0, 3250.0, 2500.0, 2200.0, 2500.0, 3000.0, 2500.0, 2500.0, 5000.0, 2000.0, 3000.0, 4000.0, 5000.0, 2210.0, 2200.0, 4000.0, 4000.0, 5000.0, 4000.0, 4000.0, 4000.0, 3000.0, 4000.0, 3000.0, 3000.0, 2200.0, 2000.0, 2500.0, 2000.0, 2800.0, 2450.0, 3000.0, 4000.0, 2700.0, 2000.0, 1800.0, 3200.0, 2350.0, 1600.0, 2500.0, 2910.0, 2500.0, 2000.0, 1800.0, 3500.0, 2050.0, 2000.0, 1980.0, 2500.0, 2100.0, 2800.0, 1650.0, 1500.0, 2500.0, 2000.0, 2600.0, 2000.0, 2500.0, 2500.0, 1300.0, 1700.0, 2000.0, 1500.0, 2500.0, 2000.0, 1800.0, 1150.0, 4590.0, nan, 940.0, 940.0, 830.0, 830.0, 830.0, 830.0, 1660.0, 1620.0, 1660.0, 1620.0, 730.0, 730.0, 720.0, 730.0, 780.0, 730.0, 600.0, 780.0, 600.0, 730.0, 760.0, 730.0, 780.0, 680.0, 680.0, 660.0, 680.0, 780.0, 680.0, 680.0, 780.0, 740.0, 780.0, 720.0, 720.0, 690.0, 690.0, 650.0, 700.0, 650.0, 650.0, 650.0, 700.0, 700.0, 650.0, 1030.0, 3140.0, 2100.0, 2600.0, 1830.0, 1000.0, 1680.0, 2020.0, 1830.0, 1650.0, 6400.0, 1000.0, 1000.0, 1650.0, 950.0, 1000.0, 1500.0, 920.0, 1500.0, nan, nan, 1000.0, 1000.0, 1100.0, 1100.0, 920.0, 930.0, 1000.0, 930.0, 950.0, 950.0, 1320.0, 950.0, nan, 1320.0, 820.0, 710.0, 720.0, 720.0, 720.0, 720.0, 570.0, 720.0, 800.0, 800.0, 800.0, 800.0, 790.0, 820.0, 570.0, nan, 720.0, 700.0, 760.0, 670.0, nan, 850.0, 680.0, nan, 780.0, 820.0, 850.0, 680.0, 640.0, nan, nan, 760.0, nan, nan, nan, nan, nan, 600.0, 1300.0, 600.0, 1300.0, 600.0, 600.0, 800.0, 700.0, 700.0, 700.0, 2000.0, 1600.0, 5000.0, 5000.0, 3000.0, 3000.0, 5000.0, 3000.0, 2300.0, 1700.0, 1400.0, 5300.0, 2000.0, 2200.0, 3300.0, 2400.0, 2400.0, 2100.0, 2400.0, 2400.0, 2000.0, 2000.0, 2400.0, 2900.0, 1630.0, 1530.0, 2000.0, 1050.0, 800.0, 2400.0, 3300.0, 3300.0, 2000.0, 2000.0, 1630.0, 3000.0, 2400.0, 2400.0, 2400.0, 1630.0, 1630.0, 1350.0, 1630.0, 800.0, 2400.0, 2000.0, 2000.0, 2000.0, 1000.0, 1530.0, 1630.0, 2100.0, 1630.0, 1500.0, 1150.0, 2100.0, 2000.0, 1530.0, 1050.0, 1530.0, 2000.0, 1280.0, 2100.0, 2100.0, 1530.0, 1000.0, 1530.0, 1300.0, 2100.0, 1900.0, 1200.0, 980.0, 920.0, 1000.0, 1050.0, 1200.0, 2000.0, 1530.0, 920.0, 1530.0, 1530.0, 1100.0, 1050.0, 1530.0, 1530.0, 1530.0, 1050.0, 800.0, 2000.0, 1000.0, nan, 1000.0, 1050.0, nan, 1530.0, 1000.0, 1000.0, 1000.0, 1050.0, 1050.0, 1450.0, nan, 1080.0, 1530.0, 1380.0, 1530.0, 1050.0, 1050.0, 1050.0, 1800.0, 1000.0, 1000.0, nan, 650.0, 1530.0, 1030.0, 970.0, 1530.0, 1350.0, 1050.0, 1050.0, 1050.0, 1100.0, 820.0, 980.0, 950.0, 1900.0, 1530.0, 650.0, nan, 1720.0, 1050.0, 890.0, 890.0, 600.0, 1250.0, nan, 890.0, 650.0, nan, nan, 980.0, 1050.0, nan, 850.0, 910.0, 820.0, 620.0, 1790.0, 900.0, 920.0, 1280.0, 1050.0, 1100.0, 680.0, 620.0, 950.0, 950.0, 680.0, 650.0, 1000.0, 750.0, 950.0, 720.0, nan, 720.0, 580.0, 580.0, 1100.0, 1100.0, 1200.0, 720.0, 1000.0, 1000.0, 950.0, 1000.0, 1100.0, 720.0, 1450.0, 750.0, 750.0, 770.0, 720.0, 720.0, 600.0, 1100.0, 1050.0, 720.0, 1100.0, 600.0, 600.0, nan, 720.0, 720.0, 600.0, 600.0, 600.0, nan, nan, 720.0, 720.0, 850.0, 560.0, 570.0, nan, nan, nan, nan, 750.0, 750.0, nan, nan, nan, 550.0, nan, 670.0, nan, nan, nan, 550.0, 550.0, 550.0, 550.0, 700.0, 600.0, 4000.0, nan, 800.0, 2700.0, 4700.0, 750.0, 1700.0, 3700.0, 800.0, 3500.0, 2400.0, 2400.0, 2000.0, 600.0, 1400.0, 2100.0, 5000.0, 2500.0, 1700.0, 1700.0, 600.0, 2000.0, 600.0, 2400.0, 1400.0, 4500.0, 3400.0, 2800.0, 2700.0, 600.0, 2000.0, 1600.0, 1600.0, 800.0, 1300.0, 1300.0, 2100.0, 2800.0, 2400.0, 1300.0, 2000.0, 1900.0, 1200.0, 1350.0, 2200.0, 2400.0, 2800.0, 1100.0, 1350.0, 3600.0, 3000.0, 2600.0, 2200.0, 2000.0, 1500.0, 1200.0, 600.0, 800.0, 1350.0, 800.0, 1200.0, 1100.0, 1450.0, 6000.0, 3000.0, 2000.0, 950.0, 800.0, 1700.0, 3000.0, 1350.0, 1500.0, 750.0, 1500.0, 800.0, 1500.0, 800.0, 4250.0, 2800.0, 2500.0, 1400.0, 1200.0, 1000.0, 1200.0, 1100.0, 800.0, 1050.0, 430.0, 900.0, 900.0, 1100.0, 1050.0, 1200.0, 800.0, 1000.0, 800.0, 800.0, 800.0, 800.0, 700.0, 700.0, 800.0, 650.0, 700.0, 800.0, 600.0, 700.0, 700.0, 700.0, 2700.0, 2650.0, 2700.0, 2000.0, 3000.0, 2100.0, 4000.0, 6000.0, 2800.0, 1300.0, 1600.0, 1450.0, 1800.0, 2400.0, 2230.0, 650.0, 3000.0, 2100.0, 2600.0, 2100.0, 2500.0, 2500.0, 1800.0, 2100.0, 1800.0, 2000.0, 1450.0, 1200.0, 1100.0, 800.0, 2300.0, 1950.0, 4000.0, 2000.0, 2000.0, 7000.0, 8000.0, 4600.0, 2600.0, 2300.0, 2000.0, 2000.0, 1500.0, 1500.0, 1500.0, 2000.0, 1700.0, 2100.0, 2000.0, 2200.0, 1800.0, 1850.0, 1500.0, 1500.0, 2500.0, 1500.0, 1500.0, 2000.0, 4850.0, 3000.0, 7000.0, 8000.0, 4700.0, 6000.0, 5300.0, 4600.0, 4100.0, 6400.0, 6400.0, 3000.0, 4400.0, 4000.0, 6000.0, 7800.0, 3200.0, 4700.0, 4100.0, 5000.0, 3200.0, 4000.0, 4000.0, 3200.0, 3000.0, 2500.0, 2500.0, 3000.0, 4010.0, 4000.0, 3150.0, 5000.0, 4000.0, 4000.0, 5000.0, 5000.0, 4000.0, 2500.0, 3100.0, 3150.0, 3130.0, 4000.0, 2400.0, 3000.0, 2400.0, 2000.0, 2500.0, 3000.0, 3150.0, 3150.0, 2900.0, 2000.0, 3500.0, 2300.0, 2800.0, 2000.0, 1700.0, 2000.0, 2500.0, 1200.0, 1450.0, 2500.0, 4700.0, 1450.0, 2120.0, 1950.0, 2820.0, 1800.0, 2000.0, 5000.0, 1950.0, 2400.0, 2000.0, 1500.0, 2050.0, 2000.0, 2000.0, 1800.0, 1800.0, 1920.0, 2100.0, 1500.0, 1500.0, 1800.0, 1800.0, 1800.0, 1700.0, 1450.0, 1800.0, 1700.0, 1800.0, 1700.0, 4200.0, 2000.0, 1000.0, 1700.0, 1700.0, 1200.0, 1600.0, 2500.0, 2000.0, 2300.0, 4500.0, 1500.0, 1000.0, 1300.0, 2000.0, 1800.0, 1500.0, 1700.0, 2000.0, 1700.0, 2600.0, 2000.0, 2000.0, 2200.0, 2100.0, 1800.0, 1350.0, 1190.0, 1250.0, 750.0, 1200.0, 1620.0, 1150.0, 1150.0, 1250.0, 1050.0, 1200.0, 1200.0, 1490.0, 1050.0, 1050.0, 1300.0, 1200.0, 1000.0, 1000.0, 1500.0, 1000.0, 4000.0, 4000.0, 4230.0, 4230.0, 3500.0, 3500.0, 4230.0, 4230.0, 3410.0, 880.0, 810.0, 1300.0, 1300.0, 670.0, 1000.0, 600.0, 1000.0, 1000.0, 1000.0, 1000.0, 1000.0, 1000.0, 1000.0, 1000.0, 1350.0, 1350.0, 920.0, 1000.0, 1000.0, 1000.0, 1000.0, 1000.0, 670.0, 1000.0, 1000.0, 1000.0, 1000.0, 1000.0, 900.0, 1300.0, 1000.0, 1000.0, 1000.0, 1530.0, 850.0, 1000.0, 840.0, 1000.0, 1000.0, 1000.0, 850.0, 850.0, 1000.0, 1000.0, 850.0, 820.0, 680.0, 800.0, 700.0, 680.0, 800.0, 800.0, 720.0, 850.0, 730.0, 920.0, 920.0, 800.0, 920.0, 920.0, 1100.0, 1100.0, 700.0, 700.0, 700.0, 650.0, 780.0, 760.0, 680.0, 670.0, 680.0, 1300.0, 1300.0, 650.0, 630.0, 830.0, 780.0, 1490.0, 850.0, 920.0, 850.0, 785.0, 780.0, 750.0, 780.0, 1050.0, 1050.0, 760.0, 1050.0, 850.0, 750.0, 1000.0, 600.0, 1050.0, 1000.0, 1000.0, 720.0, 850.0, 650.0, 650.0, 650.0, 600.0, 800.0, 850.0, 850.0, 850.0, 600.0, 600.0, 500.0, 500.0, 500.0, 500.0, 500.0, 600.0, 600.0, 600.0, 600.0, 600.0, 600.0, 4380.0, 4500.0, 4100.0, 3400.0, 3100.0, 230.0, 5000.0, 4000.0, 4000.0, 3400.0, 7040.0, 6150.0, 5000.0, 3400.0, 3400.0, 3300.0, 3800.0, 3300.0, 4000.0, 472.0, 3300.0, 3300.0, 3300.0, 2600.0, 7300.0, 7300.0, 3000.0, 3300.0, 2600.0, 3700.0, 3000.0, 3500.0, 3000.0, 3000.0, 3500.0, 3000.0, 3000.0, 3300.0, 3500.0, 3000.0, 2600.0, 3500.0, 3000.0, 2000.0, 4450.0, 5000.0, 3000.0, 300.0, 3300.0, 4000.0, 3300.0, 3200.0, 3300.0, 3600.0, 3600.0, 3000.0, 2400.0, 1950.0, 2050.0, 3000.0, 3500.0, 380.0, 2600.0, 2800.0, 6000.0, 1500.0, 2600.0, 3300.0, 3600.0, 3000.0, 2350.0, 2600.0, 2600.0, 4000.0, 4000.0, 3300.0, 3300.0, 3300.0, 380.0, 380.0, 380.0, 2400.0, 3300.0, 1500.0, 3500.0, 3500.0, 3000.0, 2600.0, 4000.0, 4000.0, 2600.0, 2600.0, 2600.0, 2200.0, 4000.0, 2600.0, 3300.0, 2600.0, 5000.0, 3300.0, 3100.0, 7300.0, 4000.0, 3000.0, 3600.0, 3600.0, 3000.0, 1500.0, 300.0, 5000.0, 2050.0, 4000.0, 3300.0, 2900.0, 2300.0, 2600.0, 2600.0, 5700.0, 3000.0, 2600.0, 2600.0, 1850.0, 250.0, 250.0, 300.0, 3000.0, 3000.0, 3000.0, 3000.0, 3000.0, 3000.0, 2800.0, 1900.0, 1800.0, 5870.0, 4000.0, 3050.0, 3050.0, 1500.0, 3000.0, 3000.0, 2600.0, 6800.0, 5000.0, 800.0, 1000.0, 1500.0, 3500.0, 3600.0, 6000.0, 6000.0, 4200.0, 4200.0, 2200.0, 2600.0, 2550.0, 2600.0, 3000.0, 2550.0, 2550.0, 1850.0, 1850.0, 2000.0, 3600.0, 1500.0, 2600.0, 2600.0, 2500.0, 2950.0, 2400.0, 2000.0, 2300.0, 2300.0, 1900.0, 1900.0, 2800.0, 1200.0, 1500.0, 2600.0, 2600.0, 1900.0, 3000.0, 3000.0, 3220.0, 3220.0, 4450.0, 4450.0, 2800.0, 300.0, 300.0, 300.0, 300.0, 315.0, 2800.0, 1860.0, 1860.0, 2100.0, 2100.0, 1500.0, 800.0, 1000.0, 1500.0, 4450.0, 1800.0, 2100.0, 1800.0, 1500.0, 1300.0, 1300.0, 2000.0, 2800.0, 2800.0, 4900.0, 4900.0, 7900.0, 7900.0, 2000.0, 2100.0, 3200.0, 2600.0, 2800.0, 2430.0, 2600.0, 2100.0, 1500.0, 2600.0, 4000.0, 4000.0, 4000.0, 4450.0, 4450.0, 4450.0, 6800.0, 6800.0, 6800.0, 2100.0, 1500.0, 2800.0, 2800.0, 2800.0, 2800.0, 2100.0, 2100.0, 1000.0, 800.0, 1300.0, 3100.0, 3100.0, 3600.0, 3600.0, 2100.0, 9500.0, 9500.0, 9500.0, 9500.0, 9500.0, 9500.0, 8220.0, 8220.0, 4800.0, 4800.0, 2000.0, 2000.0, 2600.0, 2600.0, 2100.0, 1500.0, 2600.0, 1820.0, 2100.0, 800.0, 2600.0, 1800.0, 2800.0, 1500.0, 1800.0, 1300.0, 1300.0, 1500.0, 8220.0, 3200.0, 1200.0, 1750.0, 1000.0, 2000.0, 2330.0, 1500.0, 1800.0, 1900.0, 2600.0, 4450.0, 6800.0, 6800.0, 6800.0, 1500.0, 1800.0, 4000.0, 4000.0, 3200.0, 2600.0, 1500.0, 2000.0, 1200.0, 1200.0, 2600.0, 2600.0, 2600.0, 2600.0, 4600.0, 4600.0, 1200.0, 1000.0, 1000.0, 1000.0, 1000.0, 1000.0, 1000.0, 800.0, 1300.0, 1300.0, 2000.0, 1700.0, 1650.0, 2100.0, 2100.0, 2100.0, 1000.0, 7000.0, 1300.0, 2100.0, 1800.0, 1300.0, 2100.0, 2100.0, 9000.0, 8200.0, 1000.0, 1500.0, 1300.0, 1300.0, 1850.0, 2000.0, 1000.0, 2100.0, 2100.0, 1800.0, 1000.0, 1200.0, 3100.0, 3100.0, 2300.0, 1650.0, 1750.0, 2100.0, 1700.0, 4000.0, 7000.0, 7000.0, 1000.0, 1600.0, 1500.0, 800.0, 1000.0, 800.0, 800.0, 1000.0, 1200.0, 1000.0, 1650.0, 1300.0, 1300.0, 1300.0, 6100.0, 1000.0, 1000.0, 1500.0, 1500.0, 1750.0, 1750.0, 2100.0, 2100.0, 2100.0, 2100.0, 800.0, 1000.0, 2500.0, 1200.0, 1200.0, 2000.0, 7000.0, 7000.0, 7000.0, 1650.0, 1500.0, 1500.0, 1500.0, 1300.0, 1650.0, 1200.0, 4000.0, 4000.0, 1500.0, 1000.0, 1000.0, 1000.0, 1750.0, 1650.0, 1750.0, 5100.0, 1850.0, 1750.0, nan, 2500.0, 2500.0, 1650.0, 1300.0, 1800.0, 1300.0, 1350.0, 800.0, 1000.0, 1500.0, 1500.0, 800.0, 1000.0, 800.0, 1650.0, 1500.0, 1850.0, 1000.0, 1500.0, 1300.0, 800.0, 1850.0, 1750.0, 1650.0, 1800.0, 1500.0, 1650.0, 1200.0, 1500.0, 4000.0, 4000.0, 1500.0, 1850.0, 1000.0, 5100.0, 5100.0, 2500.0, 1650.0, nan, 1850.0, 1800.0, 1500.0, 1350.0, 1200.0, 1850.0, 1850.0, 6100.0, 1500.0, 1350.0, 1200.0, 1200.0, 1200.0, 1000.0, nan, 1000.0, 1000.0, 1500.0, 1700.0, 1650.0, 1600.0, 1300.0, 1500.0, 1000.0, 1000.0, 1000.0, 1500.0, 1500.0, nan, 800.0, 800.0, 800.0, 1200.0, 1000.0, 800.0, 1000.0, 1000.0, 1650.0, 1200.0, 1200.0, 1000.0, 1000.0, 1160.0, 1500.0, 1500.0, 1500.0, 1500.0, 1000.0, 4000.0, 7000.0, 6800.0, 7000.0, 6000.0, 6000.0, 1500.0, 800.0, 1000.0, 1350.0, 1650.0, 1000.0, 1000.0, 1200.0, 6860.0, 2500.0, 960.0, 800.0, 800.0, 800.0, 1650.0, 1350.0, 1350.0, 1350.0, 1350.0, 1200.0, 1200.0, 1650.0, 1000.0, 1750.0, 1500.0, 1600.0, 1500.0, 1500.0, nan, 900.0, 960.0, 1650.0, 1000.0, 1000.0, 800.0, nan, 1080.0, 880.0, nan, 1000.0, 1000.0, 1000.0, 1000.0, 800.0, 1000.0, 1000.0, 1000.0, 960.0, 800.0, 800.0, 1500.0, 1500.0, 1200.0, 1500.0, 1500.0, 4000.0, 4000.0, 4000.0, 4000.0, 800.0, 1140.0, 1140.0, 1500.0, 880.0, 1000.0, 1500.0, 1500.0, 1500.0, 1000.0, nan, 1200.0, 1300.0, 1500.0, 1200.0, 800.0, 900.0, 1500.0, 1000.0, 800.0, 1000.0, 1500.0, 1500.0, nan, 1000.0, 1000.0, 1000.0, 800.0, 1500.0, 1500.0, 1500.0, 1000.0, 1000.0, 1500.0, 1500.0, 1500.0, 1500.0, 1000.0, 1500.0, 1160.0, 1000.0, 1000.0, 1200.0, 1200.0, 1200.0, 1500.0, 1500.0, 1200.0, 1300.0, 1000.0, 1150.0, 1500.0, 1500.0, 1500.0, 1500.0, 1000.0, nan, 1000.0, 960.0, 960.0, 1000.0, 1000.0, 1000.0, 1500.0, 1800.0, 960.0, 960.0, 2000.0, 800.0, 1000.0, 1000.0, 960.0, 800.0, 900.0, 800.0, 960.0, 800.0, 960.0, 960.0, 960.0, 960.0, 800.0, 1000.0, 1200.0, 960.0, 960.0, 1150.0, 960.0, 800.0, 1000.0, 960.0, 1500.0, 1000.0, 960.0, 960.0, 1500.0, 1000.0, 1000.0, 1000.0, 1000.0, nan, 1500.0, 1500.0, 1500.0, 1080.0, 1500.0, 1500.0, 960.0, 800.0, 1000.0, 1500.0, 800.0, 800.0, 800.0, 1000.0, 1080.0, 960.0, nan, 800.0, 800.0, 1000.0, 960.0, 1440.0, 1080.0, 880.0, 1440.0, 1480.0, 1440.0, 960.0, 960.0, 800.0, 1000.0, 1000.0, 1000.0, 1000.0, 630.0, 1000.0, 960.0, 1200.0, 1000.0, 880.0, 960.0, 800.0, 800.0, 1200.0, 1100.0, 1500.0, 1500.0, 1480.0, 1500.0, 1000.0, 800.0, 800.0, 800.0, nan, 800.0, 1480.0, 880.0, 960.0, 800.0, 800.0, 1500.0, 800.0, nan, 800.0, 800.0, 1420.0, 1000.0, 800.0, 1000.0, 1000.0, 1000.0, 1000.0, 1500.0, 880.0, 960.0, 880.0, nan, 960.0, 960.0, 800.0, nan, 800.0, 1440.0, 1000.0, 800.0, 800.0, 880.0, 1300.0, 880.0, 800.0, 750.0, 750.0, 800.0, 800.0, 800.0, 800.0, 1200.0, 1000.0, 1200.0, 1140.0, 1140.0, 960.0, 800.0, nan, nan, 1330.0, 880.0, nan, nan, 800.0, 800.0, 1000.0, 1000.0, 1000.0, 1000.0, 1300.0, 1800.0, 1000.0, 1200.0, 960.0, 960.0, 1000.0, 880.0, 960.0, 800.0, 880.0, 800.0, 800.0, 800.0, 1000.0, 800.0, 800.0, 850.0, 800.0, nan, nan, 1300.0, 880.0, 800.0, 770.0, 1200.0, 800.0, nan, 750.0, 1200.0, 880.0, 1500.0, nan, 800.0, 800.0, nan, 960.0, 1440.0, nan, 1000.0, 800.0, nan, 800.0, 800.0, nan, 1200.0, nan, 800.0, nan, 880.0, 880.0, 1000.0, 1200.0, nan, 1000.0, 800.0, 1300.0, 1200.0, 960.0, 880.0, nan, 960.0, 800.0, nan, nan, nan, 880.0, nan, nan, 1000.0, 1000.0, nan, 900.0, 800.0, 800.0, 1300.0, nan, 1000.0, nan, 880.0, 1000.0, 880.0, nan, 800.0, 1000.0, 1200.0, 1480.0, nan, 1200.0, nan, 800.0, nan, 880.0, 800.0, 960.0, 820.0, 800.0, nan, 800.0, 880.0, 800.0, 800.0, 800.0, 880.0, 960.0, 800.0, 800.0, 500.0, 800.0, 880.0, 800.0, 800.0, 1000.0, nan, 1000.0, 800.0, 800.0, nan, nan, 1000.0, 800.0, 750.0, nan, 1200.0, 1000.0, 960.0, 900.0, 880.0, 800.0, nan, 690.0, 690.0, 690.0, 690.0, 1200.0, 950.0, nan, nan, nan, 690.0, 800.0, 880.0, 800.0, 750.0, 800.0, 800.0, 750.0, 800.0, nan, 750.0, 750.0, 800.0, 1200.0, 1700.0, 1200.0, 900.0, 720.0, nan, 950.0, 800.0, 850.0, 800.0, 750.0, nan, 800.0, 750.0, 750.0, 750.0, 800.0, 700.0, 800.0, 750.0, 750.0, 800.0, 880.0, nan, 550.0, 900.0, 900.0, 900.0, 900.0, 900.0, 800.0, 750.0, 800.0, 800.0, 750.0, 700.0, 750.0, 750.0, 730.0, 730.0, 800.0, 800.0, 630.0, 800.0, 800.0, 630.0, 750.0, 800.0, 750.0, nan, nan, 800.0, nan, nan, 1000.0, nan, 900.0, 800.0, 900.0, 1000.0, 800.0, 900.0, 950.0, 800.0, 800.0, 880.0, 950.0, 950.0, 950.0, 900.0, 950.0, 950.0, 900.0, 800.0, 800.0, 800.0, 830.0, 750.0, 800.0, 800.0, 1000.0, 800.0, 800.0, 850.0, 880.0, 800.0, 800.0, 800.0, 800.0, 800.0, 1000.0, 1000.0, 620.0, 900.0, 800.0, 800.0, 800.0, 950.0, 950.0, 800.0, 900.0, 800.0, 800.0, 800.0, 850.0, 800.0, 800.0, 800.0, 960.0, 950.0, 1000.0, 1000.0, 820.0, 950.0, 1000.0, 1000.0, 800.0, 900.0, 800.0, 800.0, 800.0, 1000.0, 800.0, 800.0, 820.0, 800.0, 820.0, 800.0, 800.0, 800.0, 800.0, 800.0, 800.0, 800.0, 800.0, 800.0, 800.0, 800.0, 800.0, 1360.0, 800.0, 800.0, 780.0, 800.0, 820.0, 800.0, 800.0, 800.0, 800.0, 1300.0, 820.0, 700.0, 800.0, 600.0, 1100.0, 780.0, 1100.0, 820.0, 820.0, 800.0, 800.0, 830.0, 800.0, 800.0, 820.0, 830.0, 960.0, 1000.0, 800.0, 900.0, 1000.0, 900.0, 720.0, 720.0, 780.0, 900.0, 900.0, 900.0, 800.0, 780.0, 780.0, 800.0, 900.0, 780.0, 720.0, 900.0, 620.0, 700.0, 900.0, 800.0, 400.0, 720.0, 850.0, 780.0, 900.0, 570.0, 800.0, 800.0, 570.0, 800.0, 700.0, 800.0, 800.0, 800.0, 750.0, 830.0, 720.0, 650.0, 800.0, 1000.0, 650.0, 900.0, 900.0, 650.0, 900.0, 750.0, 750.0, 750.0, 600.0, 600.0, 750.0, 1300.0, 800.0, 800.0, 700.0, 700.0, 700.0, 700.0, 700.0, 700.0, 700.0, 700.0, 700.0, nan, nan, nan, nan, 2500.0, 2600.0, 4000.0, 720.0, 720.0, 720.0, 570.0, 800.0, 600.0, 1300.0, 1050.0, 730.0, 760.0, 600.0, 750.0, 600.0, 600.0, 650.0, 600.0, 650.0, 600.0, 830.0, 720.0, 1050.0, 900.0, 900.0, 900.0, 900.0, 600.0, 900.0, 550.0, 550.0, 550.0, 550.0, 780.0, 550.0, 550.0, 550.0, 700.0, 700.0, 700.0, 720.0, 900.0, 900.0, 700.0, 700.0, 730.0, 3130.0, 2500.0, 2900.0, 4000.0, 2700.0, 3200.0, 3130.0, 3200.0, 3020.0, 3000.0, 5000.0, 3020.0, 3100.0, 3000.0, 2600.0, 3000.0, 2030.0, 2040.0, 1950.0, 1240.0, 1240.0, 1240.0, 1240.0, 1300.0, nan, nan, nan, 680.0, 790.0, 680.0, 1500.0, 920.0, 1200.0, 1350.0, 930.0, 750.0, 750.0, 820.0, 1440.0, 1440.0, 900.0, 700.0, 900.0, 650.0, 870.0, 870.0, 840.0, 780.0, 780.0, 780.0, 750.0, 780.0, 780.0, 720.0, 720.0, 720.0, 720.0, 720.0, 600.0, 820.0, 620.0, 1000.0, 860.0, 600.0, 920.0, 840.0, 800.0, 600.0, 750.0, 820.0, 700.0, 750.0, 750.0, 1000.0, 750.0, 750.0, 600.0, 780.0, 600.0, 650.0, 650.0, 660.0, 750.0, 750.0, 670.0, 750.0, 700.0, 700.0, 700.0, 700.0, 600.0, 750.0, 750.0, 600.0, 750.0, 750.0, 600.0, 700.0, 860.0, 750.0, 700.0, 850.0, 850.0, 850.0, 850.0, 800.0, 630.0, 700.0, 1000.0, 750.0, 700.0, 700.0, 610.0, 650.0, 620.0, 650.0, 800.0, 700.0, 700.0, 700.0, 500.0, 700.0, 600.0, 700.0, 780.0, 720.0, 720.0, 1550.0, 540.0, 540.0, 840.0, 850.0, 650.0, 540.0, 830.0, 650.0, 500.0, 500.0, 500.0, 600.0, 600.0, 600.0, 650.0, 830.0, 650.0, 650.0, 1800.0, 1800.0, 1800.0, 1800.0, 700.0, 700.0, 4900.0, 4800.0, 4800.0, 1750.0, 1950.0, 1750.0, 1750.0, 1750.0, 1850.0, 1300.0, 1850.0, 1850.0, 1180.0, 1000.0, 3330.0, 3000.0, 2870.0, 3300.0, 3300.0, 3580.0, 3540.0, 3180.0, 2870.0, 3580.0, 3300.0, 3300.0, 2620.0, 2700.0, 3430.0, 2700.0, 2620.0, 2900.0, 3230.0, 2700.0, 2300.0, 2700.0, 2900.0, 2300.0, 2700.0, 2700.0, 2620.0, 2300.0, 2300.0, 3430.0, 3430.0, 2900.0, 2900.0, 2700.0, 2600.0, 2600.0, 2930.0, 2930.0, 3000.0, 2930.0, 2930.0, 2600.0, 2600.0, 2400.0, 2400.0, 6000.0, 6000.0, 2300.0, 2300.0, 2300.0, 2300.0, 2330.0, 2330.0, 4500.0, 3100.0, 3200.0, 3100.0, 2600.0, 2300.0, 2500.0, 2500.0, 3000.0, 2500.0, 420.0, 225.0, 2300.0, 2300.0, 6000.0, 6000.0, 3200.0, 1750.0, 1750.0, 3000.0, 3000.0, 3000.0, 2300.0, 3000.0, 3050.0, 2390.0, 1750.0, 2300.0, 1750.0, 2370.0, 6000.0, 6000.0, 2330.0, 2370.0, 1530.0, 1530.0, 1850.0, 6000.0, 6000.0, 1750.0, 1750.0, 1750.0, 1850.0, 1750.0, 1500.0, 1500.0, 1500.0, 1305.0, 1910.0, 1500.0, 1700.0, 1910.0, 1900.0, 1500.0, 1320.0, 1320.0, 1305.0, 1750.0, 1900.0, 1900.0, 3080.0, 3080.0, nan, nan, nan, 650.0, 1700.0, 650.0, 620.0, 650.0, 540.0, 500.0, 500.0, 500.0, 600.0, 730.0, 1800.0, 1350.0, nan, nan, nan, 4000.0, nan, nan, 4280.0, 3420.0, 3050.0, 1500.0, 1500.0, 1200.0, 1500.0, 1200.0, 1000.0, 1000.0, 1000.0, 1200.0, 1200.0, 1200.0, 1200.0, 1500.0, 1500.0, 1500.0, 1500.0, 1500.0, nan, 1200.0, 1000.0, 970.0, 930.0, 870.0, nan, nan, 930.0, 950.0, 1200.0, 1500.0, 1200.0, 1000.0, 1000.0, nan, 1500.0, 1500.0, nan, nan, 950.0, 950.0, 950.0, 1000.0, 1000.0, 1000.0, 930.0, nan, nan, 930.0, 1000.0, 950.0, 950.0, 930.0, 930.0, 1000.0, 950.0, 950.0, 950.0, 950.0, 930.0, 950.0, 950.0, 950.0, 930.0, 950.0, 950.0, 930.0, 770.0, 950.0, 950.0, 930.0, 1500.0, 950.0, 950.0, 950.0, 930.0, 930.0, 950.0, 930.0, 780.0, 780.0, 930.0, nan, 930.0, 930.0, 780.0, 950.0, 950.0, 930.0, nan, 930.0, 930.0, 900.0, 930.0, 950.0, nan, nan, nan, 950.0, 930.0, 930.0, nan, 930.0, 930.0, nan, 950.0, 950.0, 950.0, 950.0, 900.0, nan, 900.0, nan, nan, 950.0, nan, nan, 780.0, 900.0, 750.0, nan, 950.0, nan, 950.0, 900.0, 900.0, 750.0, nan, nan, 900.0, 900.0, nan, 900.0, 900.0, nan, 750.0, nan, 900.0, 900.0, nan, 900.0, nan, 900.0, 900.0, nan, 900.0, nan, 900.0, nan, nan, 900.0, 670.0, 900.0, 900.0, 900.0, 900.0, 750.0, nan, 900.0, 900.0, 670.0, 670.0, 700.0, nan, 1000.0, 780.0, 700.0, nan, nan, nan, nan, nan, 750.0, 1000.0, 780.0, nan, 670.0, 1000.0, 770.0, nan, 700.0, nan, nan, 700.0, 700.0, 1000.0, nan, 700.0, nan, 2500.0, 420.0, 1400.0, 2000.0, 2000.0, 2000.0, 1400.0, 1450.0, 1400.0, 1400.0, 1800.0, 2000.0, 2500.0, 2500.0, 2000.0, 2000.0, 1400.0, 1500.0, 1450.0, 1450.0, 1700.0, 1800.0, 1500.0, 1400.0, 1350.0, 1800.0, 1450.0, 1700.0, 1400.0, 1500.0, 2500.0, 2100.0, 1730.0, 1400.0, 1400.0, 1450.0, 2100.0, 2000.0, 2100.0, 2100.0, 1700.0, 1500.0, 1300.0, 1500.0, 3000.0, 2100.0, 2550.0, 2550.0, 7600.0, 1700.0, 2400.0, 1400.0, 1200.0, 1000.0, 1000.0, 1000.0, 1000.0, 950.0, 1800.0, 1800.0, 1800.0, 2200.0, 1500.0, 1800.0, 1420.0, 2000.0, 1150.0, 1200.0, 1000.0, 1500.0, 1400.0, 1200.0, 1000.0, 1200.0, 950.0, 1000.0, 1000.0, 1800.0, 1000.0, 1000.0, 4200.0, 1400.0, 1000.0, 1000.0, 1200.0, 1200.0, 1200.0, 1100.0, 1200.0, 1000.0, 1150.0, 1000.0, 1200.0, 1000.0, 1100.0, 1000.0, nan, nan, 1000.0, 1500.0, 1000.0, 900.0, 1000.0, 1000.0, 1200.0, 1000.0, 880.0, 1000.0, nan, 1000.0, 1200.0, 1000.0, 780.0, nan, 1500.0, 700.0, 750.0, 750.0, 1350.0, 1300.0, nan, 3000.0, 1750.0, 1500.0, 1500.0, 1500.0, 1400.0, 2000.0, 1100.0, 1520.0, 1500.0, nan, 7000.0, 1500.0, 1500.0, nan, 1500.0, 1300.0, 1500.0, 850.0, nan, 1200.0, 1400.0, 1300.0, 1300.0, 1150.0, 1150.0, 1340.0, 1230.0, 1150.0, 1500.0, 850.0, 800.0, 1350.0, 1500.0, nan, 1340.0, 1500.0, 1100.0, 1250.0, 1100.0, nan, 1100.0, 1150.0, 1340.0, 920.0, 900.0, 1030.0, 1130.0, 1540.0, 1500.0, 1130.0, 960.0, nan, 3050.0, 3050.0, 3750.0, 3750.0, 3000.0, 2400.0, 2400.0, 2400.0, 2000.0, 2000.0, 5000.0, 5000.0, 5000.0, 3000.0, 3400.0, 3050.0, 3500.0, 3000.0, 3750.0, 3750.0, 3200.0, 3200.0, 3200.0, 3000.0, 3500.0, 4050.0, 2700.0, 800.0, 720.0, 1000.0, 900.0, 600.0, 600.0, 600.0, 860.0, 800.0, 800.0, 730.0, 1000.0, 1000.0, 860.0, 650.0, 650.0, 650.0, 800.0, 800.0, 800.0, 650.0, 920.0, 720.0, 720.0, 720.0, 720.0, 1000.0, 780.0, 600.0, 550.0, 610.0, 550.0, 650.0, 650.0, 1000.0, 650.0, 600.0, 1280.0, 3500.0, 3500.0, nan, nan, nan, nan, nan, nan, nan, nan, nan, 1460.0, nan, 1000.0, 1000.0, 1000.0, 1530.0, 1320.0, 600.0, 1050.0, 1320.0, 1200.0, nan, nan, nan, nan, nan, nan, 720.0, 720.0, nan, 1000.0, nan, 1000.0, 700.0, 2000.0, 2000.0, 1400.0, 1600.0, 1100.0, 800.0, 2000.0, 1600.0, 1600.0, 1100.0, 1100.0, 2100.0, 1900.0, 1700.0, 2000.0, 1500.0, 1200.0, 1400.0, 1100.0, 800.0, 950.0, 1000.0, 1000.0, 900.0, 1000.0, 800.0, 800.0, 1100.0, 600.0, 600.0, 3160.0, 2275.0, 2275.0, 1800.0, nan, 1200.0, nan, 1500.0, nan, 1000.0, 950.0, 950.0, 950.0, 800.0, 1000.0, 780.0, 950.0, 3200.0, 2000.0, 2000.0, 2000.0, 2000.0, 2000.0, 2000.0, 2000.0, 3000.0, 2800.0, 3000.0, 2700.0, 2500.0, 1200.0, 2800.0, 2050.0, 2000.0, 2000.0, 2000.0, 2000.0, 1700.0, 3000.0, 2000.0, 2000.0, 1400.0, 2900.0, 2500.0, 2600.0, 2800.0, 2800.0, 4060.0, 1300.0, 3000.0, 2800.0, 2200.0, 2200.0, 2500.0, 1950.0, 3000.0, 2000.0, 1800.0, 2500.0, 2600.0, 1850.0, 1900.0, 1400.0, 2500.0, 1850.0, 1200.0, 2600.0, 1800.0, 1700.0, 800.0, 1650.0, 1900.0, 2300.0, 2100.0, 1400.0, 1450.0, 1000.0, 900.0, 2300.0, 2300.0, 1200.0, 2000.0, 1400.0, 1600.0, 1150.0, 600.0, 2000.0, 1750.0, 2500.0, 1400.0, 800.0, 800.0, 650.0, 500.0, 600.0, 1400.0, 500.0, 2000.0, 800.0, 1800.0, 650.0, 1350.0, 700.0, 1450.0, 2350.0, 1100.0, 1050.0, 550.0, 650.0, 650.0, 1050.0, 1350.0, 1000.0, 800.0, nan, 1100.0, 1110.0, nan, nan, 3500.0, 600.0, 2300.0, 1000.0, 1000.0, 950.0, 800.0, 1400.0, nan, nan, nan, nan, nan, nan, 1100.0, 700.0, nan, nan, nan, nan, nan, 800.0, 1000.0, nan, nan, nan, nan, nan, nan, nan, nan, nan, nan, nan, nan, nan, nan, 4000.0, 4000.0, 3700.0, 3260.0, 3500.0, 4030.0, 4030.0, 4030.0, 3260.0, 4030.0, 4030.0, 4030.0, 4030.0, 3260.0, 3315.0, 3315.0, 3360.0, 3315.0, 3315.0, 3400.0, 3400.0, 3260.0, 3260.0, 3260.0, 4000.0, 4000.0, 3260.0, 3260.0, 3260.0, 3425.0, 2500.0, 3360.0, 3260.0, 3260.0, 3200.0, 3200.0, 3000.0, 3900.0, 3900.0, 3250.0, 3225.0, 3000.0, 3000.0, 2500.0, 4015.0, 3320.0, 3000.0, 1900.0, 2650.0, 2730.0, 3000.0, 3160.0, 3000.0, 4080.0, 4000.0, 3050.0, 3000.0, 4000.0, 3000.0, 3000.0, 2550.0, 3000.0, 2400.0, 3600.0, 3600.0, 2350.0, 2400.0, 3000.0, 1900.0, 2300.0, 2720.0, 2100.0, 2300.0, 2720.0, 4150.0, 2450.0, 2300.0, 2300.0, 1700.0, 2250.0, 3200.0, 2600.0, 2000.0, 2100.0, 2260.0, 1900.0, 1900.0, nan, 710.0, 800.0, 800.0, 800.0, 720.0, 800.0, 800.0, 1000.0, 1000.0, 620.0, 720.0, 790.0, 790.0, 940.0, 800.0, 970.0, 970.0, 970.0, 760.0, 1200.0, 1150.0, 810.0, 880.0, 720.0, 720.0, 720.0, 720.0, 720.0, 720.0, 720.0, 720.0, 2000.0, 3100.0, 2900.0, 2460.0, 4600.0, 2200.0, 3000.0, 2400.0, 5830.0, 2000.0, 3000.0, 2960.0, 2540.0, 1400.0, 1780.0, 3000.0, 4600.0, 2500.0, 1400.0, 3000.0, 4060.0, 1880.0, 1880.0, 3000.0, 1880.0, 1400.0, nan, nan, nan, nan, 1500.0, 6340.0, 3550.0, 1200.0, nan, 3400.0, nan, 1000.0, nan, 1500.0, 900.0, nan, 1200.0, nan, nan, nan, nan, nan, nan, nan, nan, 500.0, 500.0, nan, nan, 750.0, 850.0, 700.0, nan, 1500.0, 750.0, 1100.0, nan, nan, nan, nan, nan, 680.0, nan, 670.0, nan, 670.0, 800.0, 670.0, 1100.0, nan, 670.0, nan, 670.0, nan, 720.0, nan, 720.0, 670.0, 690.0, 4000.0, 4000.0, 4000.0, 3000.0, 3000.0, 3000.0, 3000.0, 2900.0, 3200.0, 3000.0, 3000.0, 3000.0, 3000.0, 2500.0, 2500.0, 2500.0, 2000.0, 2500.0, 4900.0, 2500.0, 2500.0, 4000.0, 4000.0, 2500.0, 3000.0, 2500.0, 2500.0, 2000.0, 1300.0, 1200.0, 2500.0, 2800.0, 2500.0, 2000.0, 2900.0, 2820.0, 2820.0, 2500.0, 2500.0, 2900.0, 1800.0, 2500.0, 2500.0, 2000.0, 2300.0, 2800.0, 1300.0, 2120.0, 2820.0, 2820.0, 2450.0, 2000.0, 1800.0, 2000.0, 1300.0, 1700.0, 2000.0, 2500.0, 2000.0, 2350.0, 2000.0, 2000.0, 2350.0, 820.0, 930.0, 930.0, 930.0, 1660.0, 1000.0, 1000.0, 800.0, 800.0, 4000.0, 3800.0, 3300.0, 3070.0, 3300.0, 3000.0, 4000.0, 3000.0, 3200.0, 4000.0, 4000.0, 3000.0, 3350.0, 4000.0, 3000.0, 4000.0, 5500.0, 6000.0, 8620.0, 3000.0, 3000.0, 3000.0, 3400.0, 3120.0, 3080.0, 3400.0, 4000.0, 4000.0, 4000.0, 4000.0, 3300.0, 3000.0, 3080.0, 3080.0, 3500.0, 3400.0, 3080.0, 5300.0, 4100.0, 3350.0, 6600.0, 2860.0, 4100.0, 4100.0, 3120.0, 4100.0, 4100.0, 4500.0, 4400.0, 4070.0, 3800.0, 3200.0, 4100.0, 4050.0, 4100.0, 4100.0, 4100.0, 4100.0, 3000.0, 4850.0, 3260.0, 4050.0, 4100.0, 3100.0, 6190.0, 4000.0, 3080.0, 3060.0, 2200.0, 2200.0, 3120.0, 3090.0, 3000.0, 2200.0, 2200.0, 3080.0, 3100.0, 3080.0, 6700.0, 3200.0, 3050.0, 2000.0, 2000.0, 2030.0, 2000.0, 2000.0, 1930.0, nan, 4500.0, nan, 2500.0, 2350.0, 2500.0, 2500.0, 4000.0, 2500.0, 2300.0, 3200.0, 2400.0, 3200.0, 2100.0, 2100.0, 1800.0, 2920.0, 2500.0, 2200.0, 2500.0, 2000.0, 1820.0, 1800.0, 2600.0, 2100.0, 2500.0, 640.0, 2100.0, 1700.0, 2800.0, 2500.0, 2100.0, 1500.0, 1800.0, 3000.0, 1700.0, 2000.0, 2300.0, 1920.0, 1400.0, 1800.0, 1500.0, 1900.0, 2100.0, 2500.0, 1800.0, 2000.0, 2250.0, 2000.0, 2000.0, 1400.0, 1800.0, 2250.0, 1400.0, 3000.0, 1400.0, 2250.0, 2000.0, 1800.0, 4000.0, 2000.0, 1810.0, 4100.0, 1450.0, 2100.0, 1400.0, 2600.0, 1800.0, 1900.0, 1500.0, 2400.0, 4000.0, 4000.0, 2500.0, 1400.0, 2000.0, 2000.0, 1900.0, 2000.0, 1500.0, 2100.0, 2100.0, 2400.0, 2000.0, 1400.0, 2000.0, 9000.0, 1400.0, 1700.0, 2300.0, 600.0, 2000.0, 2000.0, 1780.0, 2200.0, 800.0, 2400.0, 3000.0, 3000.0, 600.0, 1400.0, 2000.0, 1400.0, 1300.0, 2900.0, 2100.0, 2100.0, 2000.0, 1600.0, 800.0, 2100.0, 2000.0, 1100.0, 1000.0, 1450.0, 1400.0, 1300.0, 950.0, 600.0, nan, 2020.0, 2020.0, 650.0, 600.0, 600.0, 1780.0, 1300.0, 1800.0, 2020.0, 2020.0, 2500.0, 1500.0, 1780.0, 1400.0, 1300.0, 1550.0, 1300.0, 3000.0, 600.0, 1800.0, 1800.0, 2500.0, 1300.0, 2500.0, 2400.0, 2400.0, 1400.0, 1550.0, 2000.0, 1500.0, 1500.0, 1400.0, 1200.0, 550.0, 2000.0, 2600.0, 1000.0, 800.0, 1000.0, 1200.0, 1650.0, 700.0, 700.0, 1000.0, 550.0, 550.0, 1100.0, 600.0, 1000.0, 1000.0, 800.0, 1000.0, 800.0, 350.0, 3200.0, 2500.0, 1800.0, 4000.0, 3930.0, 2500.0, 3000.0, 2000.0, 3000.0, 4000.0, 4000.0, 3000.0, 2000.0, 2230.0, 2500.0, 2500.0, 500.0, 4000.0, 3200.0, 3800.0, 3800.0, 3450.0, 4000.0, 3800.0, 3450.0, 4000.0, 5000.0, 3200.0, 3100.0, 2200.0, 4000.0, 5000.0, 2300.0, 3000.0, 3180.0, 3100.0, 3200.0, 3200.0, 4080.0, 3000.0, 2200.0, 4000.0, 4620.0, 2540.0, 500.0, 5000.0, 3630.0, 3000.0, 3000.0, 3200.0, 3400.0, 3990.0, 2950.0, 2400.0, 3000.0, 2800.0, 2500.0, 5000.0, 3000.0, 3140.0, 2730.0, 4100.0, 3140.0, 3000.0, 3000.0, 2705.0, 3000.0, 3400.0, 5000.0, 4000.0, 3250.0, 3000.0, 1400.0, 3400.0, 2800.0, 2150.0, 3000.0, 4000.0, 2540.0, 4000.0, 2500.0, 2500.0, 2540.0, 2500.0, 4140.0, 2200.0, 3080.0, 2300.0, 3000.0, 2400.0, 4000.0, 300.0, 3000.0, 2500.0, 2800.0, 3000.0, 3000.0, 2200.0, 3000.0, 3400.0, 2200.0, 2200.0, 3000.0, 1500.0, 1800.0, 2480.0, 1650.0, 2000.0, 2100.0, 1800.0, 2200.0, 2900.0, 3000.0, 2900.0, 2900.0, 2200.0, 3100.0, 2000.0, 2000.0, 1850.0, 1200.0, 2400.0, 2400.0, 2300.0, 3200.0, 2400.0, 2300.0, 2000.0, 2500.0, 2300.0, 1500.0, 3200.0, 3400.0, 2300.0, 2300.0, 1850.0, 2000.0, 3000.0, 3100.0, 2300.0, 2000.0, 1400.0, 2000.0, 2400.0, 2300.0, 4250.0, 3200.0, 1400.0, 1150.0, 3200.0, 1780.0, 3100.0, 2300.0, 2000.0, 2300.0, 2000.0, 1800.0, 1500.0, 2070.0, 1800.0, 2000.0, 2500.0, 2500.0, 2500.0, 2000.0, 2000.0, 2500.0, 1600.0, 2300.0, 3200.0, 1200.0, 1600.0, 1500.0, 3700.0, 1780.0, 1730.0, 1650.0, 2000.0, 1200.0, 1500.0, 2300.0, 1780.0, 1780.0, 1650.0, 1800.0, 1600.0, 1650.0, 1650.0, 1900.0, 1600.0, nan, 1500.0, nan, nan, nan, nan, 4000.0, nan, 1650.0, 1600.0, 1600.0, 1400.0, 1650.0, nan, 1900.0, nan, nan, nan, nan, 1200.0, nan, nan, 4000.0, 3400.0, 3400.0, 1250.0, 1000.0, 1150.0, 1400.0, 1600.0, 1200.0, 1800.0, nan, 3400.0, 1100.0, 1400.0, nan, nan, 1100.0, nan, nan, nan, 1250.0, nan, nan, 1500.0, nan, 720.0, 1000.0, 700.0, 1000.0, 720.0, 650.0, nan, nan, 1300.0, 1100.0, 1250.0, nan, nan, nan, nan, 1250.0, 1300.0, nan, 1000.0, 830.0, 1000.0, 1250.0, 900.0, 1250.0, 800.0, 1000.0, 1000.0, 1000.0, 690.0]\n"
          ],
          "name": "stdout"
        }
      ]
    },
    {
      "metadata": {
        "id": "cq-wHjBxyHhG",
        "colab_type": "code",
        "outputId": "6a6d1584-5bb0-40ab-95ba-c6d6879efb66",
        "colab": {
          "base_uri": "https://localhost:8080/",
          "height": 525
        }
      },
      "cell_type": "code",
      "source": [
        "# create a DataFrame after applying all the user defined parsing functions to the devices data\n",
        "df = Device.create_df(devices_dict)\n",
        "df.head()"
      ],
      "execution_count": 0,
      "outputs": [
        {
          "output_type": "execute_result",
          "data": {
            "text/plain": [
              "                                        device_notes maker_name  maker_id  \\\n",
              "0  {'body': '- Stylus', 'battery': 'Non-removable...       Acer       NaN   \n",
              "1  {'network': 'LTE band 3(1800), 7(2600), 8(900)...       Acer       NaN   \n",
              "2  {'battery': 'Non-removable Li-Po 4080 mAh batt...       Acer       NaN   \n",
              "3   {'battery': 'Removable Li-Ion 2000 mAh battery'}       Acer       NaN   \n",
              "4  {'sound': '- DTS HD sound', 'features': '- HDM...       Acer       NaN   \n",
              "\n",
              "  device_id           device_name  \\\n",
              "0    ACER_0     Chromebook Tab 10   \n",
              "1    ACER_1         Iconia Talk S   \n",
              "2    ACER_2        Liquid Z6 Plus   \n",
              "3    ACER_3             Liquid Z6   \n",
              "4    ACER_4  Iconia Tab 10 A3-A40   \n",
              "\n",
              "                                         device_info  \\\n",
              "0  Acer Chromebook Tab 10 tablet. Announced Mar 2...   \n",
              "1  Acer Iconia Talk S Android tablet. Announced A...   \n",
              "2  Acer Liquid Z6 Plus Android smartphone. Announ...   \n",
              "3  Acer Liquid Z6 Android smartphone. Announced A...   \n",
              "4  Acer Iconia Tab 10 A3-A40 Android tablet. Anno...   \n",
              "\n",
              "                                     device_img_link  \\\n",
              "0  https://cdn2.gsmarena.com/vv/bigpic/acer-chrom...   \n",
              "1  https://cdn2.gsmarena.com/vv/bigpic/acer-iconi...   \n",
              "2  https://cdn2.gsmarena.com/vv/bigpic/acer-liqui...   \n",
              "3  https://cdn2.gsmarena.com/vv/bigpic/acer-liqui...   \n",
              "4  https://cdn2.gsmarena.com/vv/bigpic/acer-iconi...   \n",
              "\n",
              "                                         device_link  \\\n",
              "0  https://www.gsmarena.com/acer_chromebook_tab_1...   \n",
              "1  https://www.gsmarena.com/acer_iconia_talk_s-83...   \n",
              "2  https://www.gsmarena.com/acer_liquid_z6_plus-8...   \n",
              "3   https://www.gsmarena.com/acer_liquid_z6-8304.php   \n",
              "4  https://www.gsmarena.com/acer_iconia_tab_10_a3...   \n",
              "\n",
              "                                        device_specs  \\\n",
              "0  {'Network': {'Technology': 'No cellular connec...   \n",
              "1  {'Network': {'Technology': 'GSM / HSPA / LTE',...   \n",
              "2  {'Network': {'Technology': 'GSM / HSPA / LTE',...   \n",
              "3  {'Network': {'Technology': 'GSM / HSPA / LTE',...   \n",
              "4  {'Network': {'Technology': 'No cellular connec...   \n",
              "\n",
              "         network_technology        ...        features_messaging  \\\n",
              "0  No cellular connectivity        ...                       NaN   \n",
              "1          GSM / HSPA / LTE        ...                       NaN   \n",
              "2          GSM / HSPA / LTE        ...                       NaN   \n",
              "3          GSM / HSPA / LTE        ...                       NaN   \n",
              "4  No cellular connectivity        ...                       NaN   \n",
              "\n",
              "  features_games features_java sound_alert_types features_clock  \\\n",
              "0            NaN           NaN               NaN            NaN   \n",
              "1            NaN           NaN               NaN            NaN   \n",
              "2            NaN           NaN               NaN            NaN   \n",
              "3            NaN           NaN               NaN            NaN   \n",
              "4            NaN           NaN               NaN            NaN   \n",
              "\n",
              "  features_alarm features_languages main_camera_quad  selfie_camera_triple  \\\n",
              "0            NaN                NaN              NaN                   NaN   \n",
              "1            NaN                NaN              NaN                   NaN   \n",
              "2            NaN                NaN              NaN                   NaN   \n",
              "3            NaN                NaN              NaN                   NaN   \n",
              "4            NaN                NaN              NaN                   NaN   \n",
              "\n",
              "   main_camera_five  \n",
              "0               NaN  \n",
              "1               NaN  \n",
              "2               NaN  \n",
              "3               NaN  \n",
              "4               NaN  \n",
              "\n",
              "[5 rows x 100 columns]"
            ],
            "text/html": [
              "<div>\n",
              "<style scoped>\n",
              "    .dataframe tbody tr th:only-of-type {\n",
              "        vertical-align: middle;\n",
              "    }\n",
              "\n",
              "    .dataframe tbody tr th {\n",
              "        vertical-align: top;\n",
              "    }\n",
              "\n",
              "    .dataframe thead th {\n",
              "        text-align: right;\n",
              "    }\n",
              "</style>\n",
              "<table border=\"1\" class=\"dataframe\">\n",
              "  <thead>\n",
              "    <tr style=\"text-align: right;\">\n",
              "      <th></th>\n",
              "      <th>device_notes</th>\n",
              "      <th>maker_name</th>\n",
              "      <th>maker_id</th>\n",
              "      <th>device_id</th>\n",
              "      <th>device_name</th>\n",
              "      <th>device_info</th>\n",
              "      <th>device_img_link</th>\n",
              "      <th>device_link</th>\n",
              "      <th>device_specs</th>\n",
              "      <th>network_technology</th>\n",
              "      <th>...</th>\n",
              "      <th>features_messaging</th>\n",
              "      <th>features_games</th>\n",
              "      <th>features_java</th>\n",
              "      <th>sound_alert_types</th>\n",
              "      <th>features_clock</th>\n",
              "      <th>features_alarm</th>\n",
              "      <th>features_languages</th>\n",
              "      <th>main_camera_quad</th>\n",
              "      <th>selfie_camera_triple</th>\n",
              "      <th>main_camera_five</th>\n",
              "    </tr>\n",
              "  </thead>\n",
              "  <tbody>\n",
              "    <tr>\n",
              "      <th>0</th>\n",
              "      <td>{'body': '- Stylus', 'battery': 'Non-removable...</td>\n",
              "      <td>Acer</td>\n",
              "      <td>NaN</td>\n",
              "      <td>ACER_0</td>\n",
              "      <td>Chromebook Tab 10</td>\n",
              "      <td>Acer Chromebook Tab 10 tablet. Announced Mar 2...</td>\n",
              "      <td>https://cdn2.gsmarena.com/vv/bigpic/acer-chrom...</td>\n",
              "      <td>https://www.gsmarena.com/acer_chromebook_tab_1...</td>\n",
              "      <td>{'Network': {'Technology': 'No cellular connec...</td>\n",
              "      <td>No cellular connectivity</td>\n",
              "      <td>...</td>\n",
              "      <td>NaN</td>\n",
              "      <td>NaN</td>\n",
              "      <td>NaN</td>\n",
              "      <td>NaN</td>\n",
              "      <td>NaN</td>\n",
              "      <td>NaN</td>\n",
              "      <td>NaN</td>\n",
              "      <td>NaN</td>\n",
              "      <td>NaN</td>\n",
              "      <td>NaN</td>\n",
              "    </tr>\n",
              "    <tr>\n",
              "      <th>1</th>\n",
              "      <td>{'network': 'LTE band 3(1800), 7(2600), 8(900)...</td>\n",
              "      <td>Acer</td>\n",
              "      <td>NaN</td>\n",
              "      <td>ACER_1</td>\n",
              "      <td>Iconia Talk S</td>\n",
              "      <td>Acer Iconia Talk S Android tablet. Announced A...</td>\n",
              "      <td>https://cdn2.gsmarena.com/vv/bigpic/acer-iconi...</td>\n",
              "      <td>https://www.gsmarena.com/acer_iconia_talk_s-83...</td>\n",
              "      <td>{'Network': {'Technology': 'GSM / HSPA / LTE',...</td>\n",
              "      <td>GSM / HSPA / LTE</td>\n",
              "      <td>...</td>\n",
              "      <td>NaN</td>\n",
              "      <td>NaN</td>\n",
              "      <td>NaN</td>\n",
              "      <td>NaN</td>\n",
              "      <td>NaN</td>\n",
              "      <td>NaN</td>\n",
              "      <td>NaN</td>\n",
              "      <td>NaN</td>\n",
              "      <td>NaN</td>\n",
              "      <td>NaN</td>\n",
              "    </tr>\n",
              "    <tr>\n",
              "      <th>2</th>\n",
              "      <td>{'battery': 'Non-removable Li-Po 4080 mAh batt...</td>\n",
              "      <td>Acer</td>\n",
              "      <td>NaN</td>\n",
              "      <td>ACER_2</td>\n",
              "      <td>Liquid Z6 Plus</td>\n",
              "      <td>Acer Liquid Z6 Plus Android smartphone. Announ...</td>\n",
              "      <td>https://cdn2.gsmarena.com/vv/bigpic/acer-liqui...</td>\n",
              "      <td>https://www.gsmarena.com/acer_liquid_z6_plus-8...</td>\n",
              "      <td>{'Network': {'Technology': 'GSM / HSPA / LTE',...</td>\n",
              "      <td>GSM / HSPA / LTE</td>\n",
              "      <td>...</td>\n",
              "      <td>NaN</td>\n",
              "      <td>NaN</td>\n",
              "      <td>NaN</td>\n",
              "      <td>NaN</td>\n",
              "      <td>NaN</td>\n",
              "      <td>NaN</td>\n",
              "      <td>NaN</td>\n",
              "      <td>NaN</td>\n",
              "      <td>NaN</td>\n",
              "      <td>NaN</td>\n",
              "    </tr>\n",
              "    <tr>\n",
              "      <th>3</th>\n",
              "      <td>{'battery': 'Removable Li-Ion 2000 mAh battery'}</td>\n",
              "      <td>Acer</td>\n",
              "      <td>NaN</td>\n",
              "      <td>ACER_3</td>\n",
              "      <td>Liquid Z6</td>\n",
              "      <td>Acer Liquid Z6 Android smartphone. Announced A...</td>\n",
              "      <td>https://cdn2.gsmarena.com/vv/bigpic/acer-liqui...</td>\n",
              "      <td>https://www.gsmarena.com/acer_liquid_z6-8304.php</td>\n",
              "      <td>{'Network': {'Technology': 'GSM / HSPA / LTE',...</td>\n",
              "      <td>GSM / HSPA / LTE</td>\n",
              "      <td>...</td>\n",
              "      <td>NaN</td>\n",
              "      <td>NaN</td>\n",
              "      <td>NaN</td>\n",
              "      <td>NaN</td>\n",
              "      <td>NaN</td>\n",
              "      <td>NaN</td>\n",
              "      <td>NaN</td>\n",
              "      <td>NaN</td>\n",
              "      <td>NaN</td>\n",
              "      <td>NaN</td>\n",
              "    </tr>\n",
              "    <tr>\n",
              "      <th>4</th>\n",
              "      <td>{'sound': '- DTS HD sound', 'features': '- HDM...</td>\n",
              "      <td>Acer</td>\n",
              "      <td>NaN</td>\n",
              "      <td>ACER_4</td>\n",
              "      <td>Iconia Tab 10 A3-A40</td>\n",
              "      <td>Acer Iconia Tab 10 A3-A40 Android tablet. Anno...</td>\n",
              "      <td>https://cdn2.gsmarena.com/vv/bigpic/acer-iconi...</td>\n",
              "      <td>https://www.gsmarena.com/acer_iconia_tab_10_a3...</td>\n",
              "      <td>{'Network': {'Technology': 'No cellular connec...</td>\n",
              "      <td>No cellular connectivity</td>\n",
              "      <td>...</td>\n",
              "      <td>NaN</td>\n",
              "      <td>NaN</td>\n",
              "      <td>NaN</td>\n",
              "      <td>NaN</td>\n",
              "      <td>NaN</td>\n",
              "      <td>NaN</td>\n",
              "      <td>NaN</td>\n",
              "      <td>NaN</td>\n",
              "      <td>NaN</td>\n",
              "      <td>NaN</td>\n",
              "    </tr>\n",
              "  </tbody>\n",
              "</table>\n",
              "<p>5 rows × 100 columns</p>\n",
              "</div>"
            ]
          },
          "metadata": {
            "tags": []
          },
          "execution_count": 361
        }
      ]
    },
    {
      "metadata": {
        "id": "AoPlrw0G9V-K",
        "colab_type": "code",
        "outputId": "4e6ec7e2-d1a2-4040-86cf-2d7543f95f23",
        "colab": {
          "base_uri": "https://localhost:8080/",
          "height": 1907
        }
      },
      "cell_type": "code",
      "source": [
        "df.info()"
      ],
      "execution_count": 0,
      "outputs": [
        {
          "output_type": "stream",
          "text": [
            "<class 'pandas.core.frame.DataFrame'>\n",
            "RangeIndex: 9536 entries, 0 to 9535\n",
            "Data columns (total 100 columns):\n",
            "device_notes                   9535 non-null object\n",
            "maker_name                     9536 non-null object\n",
            "maker_id                       9436 non-null float64\n",
            "device_id                      9536 non-null object\n",
            "device_name                    9536 non-null object\n",
            "device_info                    9536 non-null object\n",
            "device_img_link                9536 non-null object\n",
            "device_link                    9536 non-null object\n",
            "device_specs                   9536 non-null object\n",
            "network_technology             9536 non-null object\n",
            "network_2g_bands               9521 non-null object\n",
            "network_3g_bands               5728 non-null object\n",
            "network_4g_bands               2392 non-null object\n",
            "network_speed                  5755 non-null object\n",
            "network_gprs                   9504 non-null object\n",
            "network_edge                   9513 non-null object\n",
            "launch_announced               9459 non-null datetime64[ns]\n",
            "launch_status                  9536 non-null object\n",
            "body_x                         9163 non-null float64\n",
            "body_y                         9163 non-null float64\n",
            "body_z                         9159 non-null float64\n",
            "weight                         8560 non-null float64\n",
            "body_build                     662 non-null object\n",
            "body_sim                       9535 non-null object\n",
            "display_type                   9532 non-null object\n",
            "display_type_category          8438 non-null object\n",
            "display_size                   8316 non-null object\n",
            "display_resolution             9493 non-null object\n",
            "display_protection             1734 non-null object\n",
            "platform_os                    5790 non-null object\n",
            "platform_chipset               4537 non-null object\n",
            "platform_chipset_gate_width    2976 non-null float64\n",
            "platform_cpu                   5724 non-null object\n",
            "platform_gpu                   4419 non-null object\n",
            "memory_card_slot               9536 non-null object\n",
            "memory_internal                7781 non-null object\n",
            "main_camera_triple             34 non-null object\n",
            "main_camera_features           4943 non-null object\n",
            "main_camera_video              8241 non-null object\n",
            "selfie_camera_single           4859 non-null object\n",
            "selfie_camera_features         773 non-null object\n",
            "selfie_camera_video            1074 non-null object\n",
            "sound_loudspeaker              9536 non-null object\n",
            "sound_3.5mm_jack               9468 non-null object\n",
            "comms_wlan                     9533 non-null object\n",
            "comms_bluetooth                9517 non-null object\n",
            "comms_gps                      9506 non-null object\n",
            "comms_nfc                      1039 non-null object\n",
            "comms_radio                    9425 non-null object\n",
            "comms_usb                      8627 non-null object\n",
            "features_sensors               5463 non-null object\n",
            "battery_charging               756 non-null object\n",
            "misc_colors                    8931 non-null object\n",
            "misc_price                     5712 non-null object\n",
            "tests_performance              430 non-null object\n",
            "tests_display                  598 non-null object\n",
            "tests_camera                   738 non-null object\n",
            "tests_loudspeaker              874 non-null object\n",
            "tests_audio_quality            801 non-null object\n",
            "tests_battery_life             572 non-null object\n",
            "banner_released_hl             9536 non-null object\n",
            "banner_body_hl                 9261 non-null object\n",
            "banner_os_hl                   9536 non-null object\n",
            "banner_storage_hl              9536 non-null object\n",
            "banner_device_popularity       9536 non-null object\n",
            "banner_device_hits             9536 non-null object\n",
            "displaysize                    8297 non-null float64\n",
            "displayres_len                 9405 non-null float64\n",
            "displayres_height              9405 non-null float64\n",
            "banner_camerapixels_hl         8317 non-null object\n",
            "banner_videopixels_hl          9379 non-null object\n",
            "ramsize                        5490 non-null float64\n",
            "banner_chipset_hl              4537 non-null object\n",
            "batsize                        9021 non-null float64\n",
            "banner_battype_hl              9450 non-null object\n",
            "main_camera_single             7914 non-null object\n",
            "talk_time                      4627 non-null timedelta64[ns]\n",
            "talk_time_2g                   1344 non-null timedelta64[ns]\n",
            "talk_time_3g                   2026 non-null timedelta64[ns]\n",
            "battery_stand_by               6826 non-null object\n",
            "misc_sar_eu                    2384 non-null object\n",
            "battery_music_play             754 non-null object\n",
            "misc_sar                       2015 non-null object\n",
            "features_browser               3686 non-null object\n",
            "body_keyboard                  706 non-null object\n",
            "main_camera_dual               359 non-null object\n",
            "comms_infrared_port            1030 non-null object\n",
            "selfie_camera_dual             69 non-null object\n",
            "memory_phonebook               3679 non-null object\n",
            "memory_call_records            3605 non-null object\n",
            "features_messaging             3745 non-null object\n",
            "features_games                 3683 non-null object\n",
            "features_java                  3692 non-null object\n",
            "sound_alert_types              2468 non-null object\n",
            "features_clock                 488 non-null object\n",
            "features_alarm                 488 non-null object\n",
            "features_languages             277 non-null object\n",
            "main_camera_quad               3 non-null object\n",
            "selfie_camera_triple           1 non-null object\n",
            "main_camera_five               1 non-null object\n",
            "dtypes: datetime64[ns](1), float64(11), object(85), timedelta64[ns](3)\n",
            "memory usage: 7.3+ MB\n"
          ],
          "name": "stdout"
        }
      ]
    },
    {
      "metadata": {
        "id": "vyYOS_9z_yKR",
        "colab_type": "code",
        "colab": {}
      },
      "cell_type": "code",
      "source": [
        "df.to_csv('devices_data_full.csv')"
      ],
      "execution_count": 0,
      "outputs": []
    }
  ]
}